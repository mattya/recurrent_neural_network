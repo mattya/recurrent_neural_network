{
 "metadata": {
  "name": "Untitled0"
 },
 "nbformat": 3,
 "nbformat_minor": 0,
 "worksheets": [
  {
   "cells": [
    {
     "cell_type": "code",
     "collapsed": false,
     "input": [
      "from numpy import *"
     ],
     "language": "python",
     "metadata": {},
     "outputs": [],
     "prompt_number": 1
    },
    {
     "cell_type": "code",
     "collapsed": false,
     "input": [
      "N=5\n",
      "a = []\n",
      "for i in range(N):\n",
      "    a.append(loadtxt(\"output\"+str(i)+\".txt\"))"
     ],
     "language": "python",
     "metadata": {},
     "outputs": [],
     "prompt_number": 546
    },
    {
     "cell_type": "code",
     "collapsed": false,
     "input": [
      "a[0].shape"
     ],
     "language": "python",
     "metadata": {},
     "outputs": [
      {
       "output_type": "pyout",
       "prompt_number": 547,
       "text": [
        "(90892, 28)"
       ]
      }
     ],
     "prompt_number": 547
    },
    {
     "cell_type": "code",
     "collapsed": false,
     "input": [
      "from sklearn import *"
     ],
     "language": "python",
     "metadata": {},
     "outputs": [],
     "prompt_number": 218
    },
    {
     "cell_type": "code",
     "collapsed": false,
     "input": [
      "pca = []\n",
      "b = []\n",
      "for i in range(N):\n",
      "    pca.append(decomposition.PCA(n_components=6))\n",
      "    pca[i].fit(a[i][50000:, :])\n",
      "for i in range(N):\n",
      "    b.append(pca[i].transform(a[i]))"
     ],
     "language": "python",
     "metadata": {},
     "outputs": [],
     "prompt_number": 531
    },
    {
     "cell_type": "code",
     "collapsed": false,
     "input": [
      "#st = 28*3*6*55-28*3*5\n",
      "st = 28*3*6*120-28*3*5\n",
      "ed = st+28*3\n",
      "for i in range(N):\n",
      "    figure(i)\n",
      "    clf()\n",
      "    leg = []\n",
      "    for j in range(7):\n",
      "        plot(b[i][st-j*28*3*6:ed-j*28*3*6,0], b[i][st-j*28*3*6:ed-j*28*3*6,1], marker='x', alpha=0.5)\n",
      "        leg = leg+[str(j)]\n",
      "    legend(leg)\n",
      "for j in range(7):\n",
      "    figure(j+N)\n",
      "    clf()\n",
      "    imshow(a[0][st-j*28*3*6:ed-j*28*3*6,:])"
     ],
     "language": "python",
     "metadata": {},
     "outputs": [],
     "prompt_number": 533
    },
    {
     "cell_type": "code",
     "collapsed": false,
     "input": [
      "st = 6300-28*3*60\n",
      "ed = st+28*3\n",
      "figure(5)\n",
      "clf()\n",
      "plot(b[0][st:ed, 0], b[2][st:ed, 0])"
     ],
     "language": "python",
     "metadata": {},
     "outputs": [
      {
       "output_type": "pyout",
       "prompt_number": 57,
       "text": [
        "[<matplotlib.lines.Line2D at 0xdb334ec>]"
       ]
      }
     ],
     "prompt_number": 57
    },
    {
     "cell_type": "code",
     "collapsed": false,
     "input": [
      "2100/28"
     ],
     "language": "python",
     "metadata": {},
     "outputs": [
      {
       "output_type": "pyout",
       "prompt_number": 76,
       "text": [
        "75"
       ]
      }
     ],
     "prompt_number": 76
    },
    {
     "cell_type": "code",
     "collapsed": false,
     "input": [
      "28*3*6*20\n"
     ],
     "language": "python",
     "metadata": {},
     "outputs": [
      {
       "output_type": "pyout",
       "prompt_number": 160,
       "text": [
        "10080"
       ]
      }
     ],
     "prompt_number": 160
    },
    {
     "cell_type": "code",
     "collapsed": false,
     "input": [
      "lab = loadtxt(\"output_label.txt\")"
     ],
     "language": "python",
     "metadata": {},
     "outputs": [],
     "prompt_number": 550
    },
    {
     "cell_type": "code",
     "collapsed": false,
     "input": [
      "lab.shape\n"
     ],
     "language": "python",
     "metadata": {},
     "outputs": [
      {
       "output_type": "pyout",
       "prompt_number": 551,
       "text": [
        "(92820,)"
       ]
      }
     ],
     "prompt_number": 551
    },
    {
     "cell_type": "code",
     "collapsed": false,
     "input": [
      "a[4].shape"
     ],
     "language": "python",
     "metadata": {},
     "outputs": [
      {
       "output_type": "pyout",
       "prompt_number": 552,
       "text": [
        "(92238, 50)"
       ]
      }
     ],
     "prompt_number": 552
    },
    {
     "cell_type": "code",
     "collapsed": false,
     "input": [
      "109032/29694"
     ],
     "language": "python",
     "metadata": {},
     "outputs": [
      {
       "output_type": "pyout",
       "prompt_number": 542,
       "text": [
        "3"
       ]
      }
     ],
     "prompt_number": 542
    },
    {
     "cell_type": "code",
     "collapsed": false,
     "input": [
      "lab[0:100]"
     ],
     "language": "python",
     "metadata": {},
     "outputs": [
      {
       "output_type": "pyout",
       "prompt_number": 553,
       "text": [
        "array([ 1.,  1.,  1.,  1.,  1.,  1.,  1.,  1.,  1.,  1.,  1.,  1.,  1.,\n",
        "        1.,  1.,  1.,  1.,  1.,  1.,  1.,  1.,  1.,  1.,  1.,  1.,  1.,\n",
        "        1.,  1.,  1.,  1.,  1.,  1.,  1.,  1.,  1.,  1.,  1.,  1.,  1.,\n",
        "        1.,  1.,  1.,  1.,  1.,  1.,  1.,  1.,  1.,  1.,  1.,  1.,  1.,\n",
        "        1.,  1.,  1.,  1.,  1.,  1.,  1.,  1.,  1.,  1.,  1.,  1.,  1.,\n",
        "        1.,  1.,  1.,  1.,  1.,  1.,  1.,  1.,  1.,  1.,  1.,  1.,  1.,\n",
        "        1.,  1.,  1.,  1.,  1.,  1.,  7.,  7.,  7.,  7.,  7.,  7.,  7.,\n",
        "        7.,  7.,  7.,  7.,  7.,  7.,  7.,  7.,  7.])"
       ]
      }
     ],
     "prompt_number": 553
    },
    {
     "cell_type": "code",
     "collapsed": false,
     "input": [
      "aa = a[4][:84000,:].reshape((1000, 50*84))"
     ],
     "language": "python",
     "metadata": {},
     "outputs": [],
     "prompt_number": 602
    },
    {
     "cell_type": "code",
     "collapsed": false,
     "input": [
      "lab2 = lab[:84000].reshape((1000, 84))"
     ],
     "language": "python",
     "metadata": {},
     "outputs": [],
     "prompt_number": 587
    },
    {
     "cell_type": "code",
     "collapsed": false,
     "input": [
      "svc = svm.LinearSVC()\n",
      "svc.fit(aa[0:800:6], lab2[0:800:6,0])"
     ],
     "language": "python",
     "metadata": {},
     "outputs": [
      {
       "output_type": "pyout",
       "prompt_number": 606,
       "text": [
        "LinearSVC(C=1.0, class_weight=None, dual=True, fit_intercept=True,\n",
        "     intercept_scaling=1, loss='l2', multi_class='ovr', penalty='l2',\n",
        "     random_state=None, tol=0.0001, verbose=0)"
       ]
      }
     ],
     "prompt_number": 606
    },
    {
     "cell_type": "code",
     "collapsed": false,
     "input": [
      "predaa = svc.predict(aa[807::6])"
     ],
     "language": "python",
     "metadata": {},
     "outputs": [],
     "prompt_number": 613
    },
    {
     "cell_type": "code",
     "collapsed": false,
     "input": [
      "sum(predaa==lab2[807::6,0])"
     ],
     "language": "python",
     "metadata": {},
     "outputs": [
      {
       "output_type": "pyout",
       "prompt_number": 614,
       "text": [
        "26"
       ]
      }
     ],
     "prompt_number": 614
    },
    {
     "cell_type": "code",
     "collapsed": false,
     "input": [
      "lab2[:,0]"
     ],
     "language": "python",
     "metadata": {},
     "outputs": [
      {
       "output_type": "pyout",
       "prompt_number": 563,
       "text": [
        "array([ 1.,  7.,  0.,  4.,  9.,  3.,  4.,  0.,  2.,  1.,  7.,  9.,  3.,\n",
        "        9.,  7.,  6.,  4.,  2.,  8.,  9.,  9.,  9.,  2.,  7.,  6.,  3.,\n",
        "        6.,  2.,  3.,  2.,  9.,  4.,  4.,  3.,  8.,  4.,  9.,  7.,  9.,\n",
        "        6.,  0.,  9.,  4.,  3.,  9.,  4.,  3.,  9.,  6.,  7.,  2.,  1.,\n",
        "        1.,  9.,  0.,  6.,  7.,  8.,  2.,  2.,  3.,  1.,  3.,  8.,  9.,\n",
        "        8.,  4.,  4.,  3.,  4.,  8.,  6.,  2.,  4.,  4.,  7.,  2.,  7.,\n",
        "        9.,  5.,  8.,  6.,  0.,  5.,  9.,  0.,  0.,  3.,  3.,  0.,  0.,\n",
        "        5.,  1.,  9.,  6.,  4.,  4.,  1.,  6.,  5.,  0.,  6.,  9.,  8.,\n",
        "        6.,  5.,  6.,  7.,  4.,  1.,  2.,  0.,  8.,  1.,  5.,  6.,  1.,\n",
        "        3.,  3.,  8.,  9.,  9.,  9.,  5.,  9.,  7.,  4.,  6.,  0.,  5.,\n",
        "        2.,  1.,  1.,  3.,  3.,  5.,  1.,  2.,  6.,  7.,  1.,  3.,  4.,\n",
        "        2.,  0.,  9.,  7.,  1.,  7.,  5.,  2.,  1.,  7.,  4.,  2.,  5.,\n",
        "        4.,  6.,  3.,  2.,  7.,  8.,  1.,  4.,  2.,  3.,  8.,  8.,  8.,\n",
        "        6.,  0.,  8.,  0.,  4.,  8.,  2.,  2.,  7.,  6.,  7.,  5.,  8.,\n",
        "        3.,  8.,  5.,  1.,  8.,  7.,  2.,  1.,  7.,  6.,  9.,  3.,  5.,\n",
        "        2.,  4.,  4.,  2.,  7.,  0.,  7.,  1.,  6.,  1.,  1.,  6.,  2.,\n",
        "        0.,  0.,  1.,  2.,  8.,  4.,  6.,  9.,  3.,  9.,  1.,  7.,  3.,\n",
        "        1.,  7.,  3.,  0.,  0.,  2.,  7.,  1.,  1.,  2.,  3.,  0.,  3.,\n",
        "        5.,  9.,  7.,  0.,  2.,  1.,  3.,  3.,  7.,  1.,  3.,  1.,  0.,\n",
        "        3.,  3.,  6.,  8.,  4.,  1.,  6.,  3.,  5.,  2.,  5.,  1.,  3.,\n",
        "        3.,  1.,  8.,  7.,  3.,  1.,  0.,  5.,  1.,  0.,  9.,  5.,  5.,\n",
        "        3.,  3.,  6.,  5.,  7.,  0.,  0.,  8.,  5.,  8.,  1.,  0.,  5.,\n",
        "        4.,  9.,  5.,  1.,  8.,  5.,  0.,  9.,  7.,  9.,  5.,  9.,  6.,\n",
        "        7.,  2.,  7.,  4.,  1.,  9.,  2.,  3.,  0.,  1.,  1.,  5.,  9.,\n",
        "        6.,  8.,  0.,  8.,  0.,  7.,  1.,  2.,  4.,  9.,  6.,  8.,  1.,\n",
        "        4.,  0.,  1.,  0.,  3.,  6.,  5.,  8.,  6.,  6.,  1.,  6.,  2.,\n",
        "        5.,  7.,  6.,  7.,  6.,  7.,  9.,  6.,  5.,  4.,  5.,  4.,  8.,\n",
        "        4.,  6.,  6.,  0.,  6.,  6.,  7.,  5.,  3.,  1.,  2.,  9.,  8.,\n",
        "        2.,  3.,  9.,  2.,  6.,  2.,  5.,  2.,  5.,  4.,  7.,  6.,  0.,\n",
        "        1.,  8.,  2.,  6.,  5.,  7.,  1.,  7.,  7.,  0.,  1.,  3.,  5.,\n",
        "        6.,  7.,  8.,  2.,  7.,  1.,  4.,  5.,  2.,  7.,  8.,  0.,  0.,\n",
        "        8.,  0.,  6.,  8.,  3.,  6.,  9.,  7.,  7.,  3.,  9.,  4.,  3.,\n",
        "        8.,  4.,  0.,  6.,  8.,  6.,  8.,  7.,  9.,  8.,  5.,  7.,  1.,\n",
        "        4.,  7.,  3.,  2.,  8.,  4.,  3.,  8.,  1.,  6.,  6.,  9.,  1.,\n",
        "        5.,  7.,  2.,  2.,  7.,  6.,  6.,  2.,  3.,  6.,  5.,  2.,  7.,\n",
        "        2.,  7.,  2.,  4.,  5.,  8.,  0.,  2.,  0.,  8.,  4.,  2.,  3.,\n",
        "        1.,  5.,  2.,  4.,  4.,  5.,  8.,  5.,  2.,  4.,  6.,  0.,  0.,\n",
        "        1.,  3.,  3.,  3.,  7.,  8.,  0.,  0.,  2.,  3.,  9.,  0.,  4.,\n",
        "        5.,  8.,  3.,  7.,  4.,  9.,  3.,  2.,  4.,  7.,  3.,  0.,  9.,\n",
        "        3.,  6.,  6.,  3.,  0.,  5.,  3.,  7.,  3.,  2.,  4.,  8.,  1.,\n",
        "        8.,  4.,  0.,  4.,  6.,  0.,  7.,  5.,  9.,  0.,  4.,  6.,  1.,\n",
        "        3.,  4.,  0.,  2.,  6.,  1.,  0.,  9.,  8.,  5.,  9.,  6.,  8.,\n",
        "        7.,  1.,  7.,  5.,  9.,  5.,  7.,  5.,  7.,  4.,  6.,  7.,  2.,\n",
        "        2.,  2.,  2.,  9.,  6.,  2.,  1.,  7.,  1.,  2.,  9.,  9.,  9.,\n",
        "        6.,  6.,  8.,  0.,  5.,  0.,  2.,  8.,  0.,  3.,  1.,  1.,  8.,\n",
        "        8.,  1.,  4.,  4.,  7.,  4.,  8.,  0.,  4.,  2.,  3.,  5.,  5.,\n",
        "        6.,  9.,  7.,  0.,  5.,  2.,  2.,  7.,  7.,  3.,  1.,  4.,  4.,\n",
        "        0.,  2.,  2.,  6.,  1.,  3.,  0.,  8.,  8.,  6.,  7.,  7.,  8.,\n",
        "        1.,  8.,  3.,  5.,  7.,  8.,  9.,  3.,  4.,  2.,  2.,  8.,  9.,\n",
        "        7.,  4.,  3.,  9.,  2.,  5.,  5.,  6.,  2.,  5.,  9.,  4.,  9.,\n",
        "        8.,  8.,  6.,  2.,  5.,  4.,  9.,  0.,  9.,  5.,  9.,  5.,  7.,\n",
        "        5.,  9.,  4.,  7.,  3.,  0.,  3.,  8.,  0.,  6.,  1.,  6.,  8.,\n",
        "        8.,  0.,  8.,  2.,  9.,  0.,  3.,  7.,  2.,  6.,  4.,  5.,  3.,\n",
        "        3.,  4.,  1.,  1.,  4.,  9.,  0.,  9.,  5.,  9.,  0.,  1.,  7.,\n",
        "        4.,  9.,  6.,  6.,  2.,  9.,  2.,  9.,  0.,  7.,  7.,  7.,  9.,\n",
        "        8.,  2.,  9.,  6.,  5.,  6.,  6.,  3.,  0.,  9.,  8.,  3.,  3.,\n",
        "        1.,  6.,  3.,  2.,  2.,  5.,  6.,  2.,  7.,  9.,  6.,  4.,  3.,\n",
        "        7.,  6.,  8.,  2.,  8.,  4.,  7.,  4.,  8.,  6.,  9.,  0.,  6.,\n",
        "        4.,  4.,  7.,  6.,  7.,  3.,  4.,  1.,  0.,  7.,  8.,  6.,  1.,\n",
        "        7.,  2.,  3.,  4.,  3.,  6.,  6.,  5.,  7.,  9.,  7.,  5.,  6.,\n",
        "        0.,  3.,  9.,  4.,  0.,  3.,  8.,  1.,  8.,  9.,  1.,  5.,  1.,\n",
        "        0.,  0.,  5.,  1.,  1.,  3.,  0.,  2.,  0.,  7.,  0.,  3.,  9.,\n",
        "        4.,  2.,  1.,  2.,  6.,  3.,  9.,  6.,  6.,  4.,  4.,  4.,  4.,\n",
        "        4.,  0.,  8.,  9.,  4.,  4.,  9.,  1.,  5.,  0.,  7.,  1.,  2.,\n",
        "        8.,  9.,  4.,  6.,  3.,  0.,  3.,  3.,  4.,  2.,  3.,  6.,  8.,\n",
        "        3.,  3.,  3.,  6.,  9.,  3.,  2.,  6.,  0.,  0.,  6.,  1.,  6.,\n",
        "        6.,  4.,  1.,  4.,  1.,  4.,  7.,  5.,  2.,  9.,  4.,  9.,  8.,\n",
        "        4.,  3.,  9.,  4.,  2.,  0.,  5.,  4.,  1.,  9.,  0.,  2.,  7.,\n",
        "        8.,  0.,  3.,  2.,  4.,  4.,  3.,  6.,  9.,  4.,  7.,  1.,  6.,\n",
        "        1.,  1.,  1.,  3.,  9.,  6.,  8.,  8.,  4.,  6.,  0.,  8.,  8.,\n",
        "        8.,  5.,  1.,  1.,  3.,  3.,  8.,  2.,  3.,  2.,  8.,  6.,  6.,\n",
        "        2.,  8.,  9.,  5.,  3.,  8.,  6.,  6.,  7.,  3.,  3.,  0.,  7.,\n",
        "        5.,  1.,  3.,  1.,  3.,  3.,  3.,  9.,  0.,  2.,  0.,  2.,  0.,\n",
        "        9.,  7.,  9.,  2.,  4.,  3.,  3.,  4.,  4.,  3.,  3.,  7.,  5.,\n",
        "        2.,  6.,  0.,  2.,  5.,  3.,  1.,  8.,  5.,  3.,  3.,  6.,  2.,\n",
        "        7.,  2.,  8.,  6.,  6.,  9.,  4.,  7.,  5.,  3.,  4.,  9.,  6.,\n",
        "        4.,  1.,  6.,  7.,  3.,  1.,  1.,  0.,  1.,  0.,  9.,  0.])"
       ]
      }
     ],
     "prompt_number": 563
    },
    {
     "cell_type": "code",
     "collapsed": false,
     "input": [],
     "language": "python",
     "metadata": {},
     "outputs": []
    }
   ],
   "metadata": {}
  }
 ]
}