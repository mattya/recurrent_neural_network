{
 "metadata": {
  "name": "ESN-Copy0"
 },
 "nbformat": 3,
 "nbformat_minor": 0,
 "worksheets": [
  {
   "cells": [
    {
     "cell_type": "code",
     "collapsed": false,
     "input": [
      "from numpy import *\n",
      "from scipy import *\n",
      "from sklearn import *"
     ],
     "language": "python",
     "metadata": {},
     "outputs": [],
     "prompt_number": 7
    },
    {
     "cell_type": "code",
     "collapsed": false,
     "input": [
      "T0 = 100000\n",
      "T1 = 100000"
     ],
     "language": "python",
     "metadata": {},
     "outputs": [],
     "prompt_number": 10
    },
    {
     "cell_type": "code",
     "collapsed": false,
     "input": [
      "N = 50\n",
      "alpha = 0.1\n",
      "maxSVD = 0.9"
     ],
     "language": "python",
     "metadata": {},
     "outputs": [],
     "prompt_number": 11
    },
    {
     "cell_type": "code",
     "collapsed": false,
     "input": [
      "def legendre(n, x):\n",
      "    if n==0:\n",
      "        return 1\n",
      "    elif n==1:\n",
      "        return x * (2*n+1)/2\n",
      "    elif n==2:\n",
      "        return (1.5*x*x-0.5) * (2*n+1)/2\n",
      "    elif n==3:\n",
      "        return (2.5*x*x*x-1.5*x) * (2*n+1)/2"
     ],
     "language": "python",
     "metadata": {},
     "outputs": [],
     "prompt_number": 51
    },
    {
     "cell_type": "code",
     "collapsed": false,
     "input": [
      "a = loadtxt(\"input.txt\")\n",
      "b = loadtxt(\"output.txt\")"
     ],
     "language": "python",
     "metadata": {},
     "outputs": [],
     "prompt_number": 79
    },
    {
     "cell_type": "code",
     "collapsed": false,
     "input": [
      "figure()\n",
      "plot(b[:1000,0])\n",
      "plot(b[:1000,1])\n",
      "plot(b[:1000,2])\n",
      "plot(b[:1000,3])"
     ],
     "language": "python",
     "metadata": {},
     "outputs": [
      {
       "output_type": "pyout",
       "prompt_number": 80,
       "text": [
        "[<matplotlib.lines.Line2D at 0x22ed44ec>]"
       ]
      }
     ],
     "prompt_number": 80
    },
    {
     "cell_type": "code",
     "collapsed": false,
     "input": [
      "def calc_cap(ds):\n",
      "    y = zeros(T1, dtype=float)\n",
      "    for i in range(T1):\n",
      "        tmp = 1.0\n",
      "        for j in range(len(ds)):\n",
      "            tmp *= legendre(ds[j], a[T0+i-j])\n",
      "        y[i] = tmp\n",
      "    lin = linear_model.LinearRegression()\n",
      "    lin.fit(b[T0:T0+T1,:], y[:T1])\n",
      "    z = lin.predict(b[T0:,:])\n",
      "    \n",
      "    mse = 0\n",
      "    yy = 0\n",
      "    for i in range(T1):\n",
      "        mse += (y[i] - z[i])**2\n",
      "        yy += y[i]**2\n",
      "    \n",
      "    return 1.0 - mse/yy"
     ],
     "language": "python",
     "metadata": {},
     "outputs": [],
     "prompt_number": 40
    },
    {
     "cell_type": "code",
     "collapsed": false,
     "input": [
      "memo = zeros(25, dtype=float)\n",
      "for i in range(25):\n",
      "    ds = zeros(i+1)\n",
      "    ds[i] = 1\n",
      "    memo[i] = calc_cap(ds)\n",
      "    print i, memo[i]"
     ],
     "language": "python",
     "metadata": {},
     "outputs": [
      {
       "output_type": "stream",
       "stream": "stdout",
       "text": [
        "0 0.999999999957\n",
        "1"
       ]
      },
      {
       "output_type": "stream",
       "stream": "stdout",
       "text": [
        " 0.999999998892\n",
        "2"
       ]
      },
      {
       "output_type": "stream",
       "stream": "stdout",
       "text": [
        " 0.999999988983\n",
        "3"
       ]
      },
      {
       "output_type": "stream",
       "stream": "stdout",
       "text": [
        " 0.999999928036\n",
        "4"
       ]
      },
      {
       "output_type": "stream",
       "stream": "stdout",
       "text": [
        " 0.999999251472\n",
        "5"
       ]
      },
      {
       "output_type": "stream",
       "stream": "stdout",
       "text": [
        " 0.99999658378\n",
        "6"
       ]
      },
      {
       "output_type": "stream",
       "stream": "stdout",
       "text": [
        " 0.999989120219\n",
        "7"
       ]
      },
      {
       "output_type": "stream",
       "stream": "stdout",
       "text": [
        " 0.999931878074\n",
        "8"
       ]
      },
      {
       "output_type": "stream",
       "stream": "stdout",
       "text": [
        " 0.999668880919\n",
        "9"
       ]
      },
      {
       "output_type": "stream",
       "stream": "stdout",
       "text": [
        " 0.997681248958\n",
        "10"
       ]
      },
      {
       "output_type": "stream",
       "stream": "stdout",
       "text": [
        " 0.981620387916\n",
        "11"
       ]
      },
      {
       "output_type": "stream",
       "stream": "stdout",
       "text": [
        " 0.915700783508\n",
        "12"
       ]
      },
      {
       "output_type": "stream",
       "stream": "stdout",
       "text": [
        " 0.793992485019\n",
        "13"
       ]
      },
      {
       "output_type": "stream",
       "stream": "stdout",
       "text": [
        " 0.599603333437\n",
        "14"
       ]
      },
      {
       "output_type": "stream",
       "stream": "stdout",
       "text": [
        " 0.236257532167\n",
        "15"
       ]
      },
      {
       "output_type": "stream",
       "stream": "stdout",
       "text": [
        " 0.0533869184322\n",
        "16"
       ]
      },
      {
       "output_type": "stream",
       "stream": "stdout",
       "text": [
        " 0.00771134606204\n",
        "17"
       ]
      },
      {
       "output_type": "stream",
       "stream": "stdout",
       "text": [
        " 0.00308611539721\n",
        "18"
       ]
      },
      {
       "output_type": "stream",
       "stream": "stdout",
       "text": [
        " 0.000923740776231\n",
        "19"
       ]
      },
      {
       "output_type": "stream",
       "stream": "stdout",
       "text": [
        " 0.000644171881906\n",
        "20"
       ]
      },
      {
       "output_type": "stream",
       "stream": "stdout",
       "text": [
        " 0.000430976736178\n",
        "21"
       ]
      },
      {
       "output_type": "stream",
       "stream": "stdout",
       "text": [
        " 0.000425595121443\n",
        "22"
       ]
      },
      {
       "output_type": "stream",
       "stream": "stdout",
       "text": [
        " 0.000423302495533\n",
        "23"
       ]
      },
      {
       "output_type": "stream",
       "stream": "stdout",
       "text": [
        " 0.000575855906903\n",
        "24"
       ]
      },
      {
       "output_type": "stream",
       "stream": "stdout",
       "text": [
        " 0.000510210990413\n"
       ]
      }
     ],
     "prompt_number": 81
    },
    {
     "cell_type": "code",
     "collapsed": false,
     "input": [
      "clf()\n",
      "plot(memo)"
     ],
     "language": "python",
     "metadata": {},
     "outputs": [
      {
       "output_type": "pyout",
       "prompt_number": 24,
       "text": [
        "[<matplotlib.lines.Line2D at 0x1581720c>]"
       ]
      }
     ],
     "prompt_number": 24
    },
    {
     "cell_type": "code",
     "collapsed": false,
     "input": [
      "memo2 = zeros(100, dtype=float)\n",
      "cnt = 0\n",
      "for i in range(10):\n",
      "    for j in range(i, 10):\n",
      "        ds = zeros(10)\n",
      "        ds[i] += 1\n",
      "        ds[j] += 1\n",
      "        memo2[cnt] = calc_cap(ds)\n",
      "        print i, j, memo2[cnt], ds\n",
      "        cnt+=1"
     ],
     "language": "python",
     "metadata": {},
     "outputs": [
      {
       "output_type": "stream",
       "stream": "stdout",
       "text": [
        "0 0 0.964576701958 [ 2.  0.  0.  0.  0.  0.  0.  0.  0.  0.]\n",
        "0"
       ]
      },
      {
       "output_type": "stream",
       "stream": "stdout",
       "text": [
        " 1 0.956209029382 [ 1.  1.  0.  0.  0.  0.  0.  0.  0.  0.]\n",
        "0"
       ]
      },
      {
       "output_type": "stream",
       "stream": "stdout",
       "text": [
        " 2 0.889166580813 [ 1.  0.  1.  0.  0.  0.  0.  0.  0.  0.]\n",
        "0"
       ]
      },
      {
       "output_type": "stream",
       "stream": "stdout",
       "text": [
        " 3 0.636553683949 [ 1.  0.  0.  1.  0.  0.  0.  0.  0.  0.]\n",
        "0"
       ]
      },
      {
       "output_type": "stream",
       "stream": "stdout",
       "text": [
        " 4 0.168601072056 [ 1.  0.  0.  0.  1.  0.  0.  0.  0.  0.]\n",
        "0"
       ]
      },
      {
       "output_type": "stream",
       "stream": "stdout",
       "text": [
        " 5 0.0106816259871 [ 1.  0.  0.  0.  0.  1.  0.  0.  0.  0.]\n",
        "0"
       ]
      },
      {
       "output_type": "stream",
       "stream": "stdout",
       "text": [
        " 6 0.00145794990133 [ 1.  0.  0.  0.  0.  0.  1.  0.  0.  0.]\n",
        "0"
       ]
      },
      {
       "output_type": "stream",
       "stream": "stdout",
       "text": [
        " 7 0.000604621221254 [ 1.  0.  0.  0.  0.  0.  0.  1.  0.  0.]\n",
        "0"
       ]
      },
      {
       "output_type": "stream",
       "stream": "stdout",
       "text": [
        " 8 0.000434421254021 [ 1.  0.  0.  0.  0.  0.  0.  0.  1.  0.]\n",
        "0"
       ]
      },
      {
       "output_type": "stream",
       "stream": "stdout",
       "text": [
        " 9 0.000626507604999 [ 1.  0.  0.  0.  0.  0.  0.  0.  0.  1.]\n",
        "1"
       ]
      },
      {
       "output_type": "stream",
       "stream": "stdout",
       "text": [
        " 1 0.959019250798 [ 0.  2.  0.  0.  0.  0.  0.  0.  0.  0.]\n",
        "1"
       ]
      },
      {
       "output_type": "stream",
       "stream": "stdout",
       "text": [
        " 2 0.921782927423 [ 0.  1.  1.  0.  0.  0.  0.  0.  0.  0.]\n",
        "1"
       ]
      },
      {
       "output_type": "stream",
       "stream": "stdout",
       "text": [
        " 3 0.663972546643 [ 0.  1.  0.  1.  0.  0.  0.  0.  0.  0.]\n",
        "1"
       ]
      },
      {
       "output_type": "stream",
       "stream": "stdout",
       "text": [
        " 4 0.119709354627 [ 0.  1.  0.  0.  1.  0.  0.  0.  0.  0.]\n",
        "1"
       ]
      },
      {
       "output_type": "stream",
       "stream": "stdout",
       "text": [
        " 5 0.0120620908073 [ 0.  1.  0.  0.  0.  1.  0.  0.  0.  0.]\n",
        "1"
       ]
      },
      {
       "output_type": "stream",
       "stream": "stdout",
       "text": [
        " 6 0.00123649620396 [ 0.  1.  0.  0.  0.  0.  1.  0.  0.  0.]\n",
        "1"
       ]
      },
      {
       "output_type": "stream",
       "stream": "stdout",
       "text": [
        " 7 0.000519191776608 [ 0.  1.  0.  0.  0.  0.  0.  1.  0.  0.]\n",
        "1"
       ]
      },
      {
       "output_type": "stream",
       "stream": "stdout",
       "text": [
        " 8 0.000712736821787 [ 0.  1.  0.  0.  0.  0.  0.  0.  1.  0.]\n",
        "1"
       ]
      },
      {
       "output_type": "stream",
       "stream": "stdout",
       "text": [
        " 9 0.000499730137409 [ 0.  1.  0.  0.  0.  0.  0.  0.  0.  1.]\n",
        "2"
       ]
      },
      {
       "output_type": "stream",
       "stream": "stdout",
       "text": [
        " 2 0.889871498505 [ 0.  0.  2.  0.  0.  0.  0.  0.  0.  0.]\n",
        "2"
       ]
      },
      {
       "output_type": "stream",
       "stream": "stdout",
       "text": [
        " 3 0.56882780048 [ 0.  0.  1.  1.  0.  0.  0.  0.  0.  0.]\n",
        "2"
       ]
      },
      {
       "ename": "KeyboardInterrupt",
       "evalue": "",
       "output_type": "pyerr",
       "traceback": [
        "\u001b[1;31m---------------------------------------------------------------------------\u001b[0m\n\u001b[1;31mKeyboardInterrupt\u001b[0m                         Traceback (most recent call last)",
        "\u001b[1;32m<ipython-input-72-7f44e09aac29>\u001b[0m in \u001b[0;36m<module>\u001b[1;34m()\u001b[0m\n\u001b[0;32m      6\u001b[0m         \u001b[0mds\u001b[0m\u001b[1;33m[\u001b[0m\u001b[0mi\u001b[0m\u001b[1;33m]\u001b[0m \u001b[1;33m+=\u001b[0m \u001b[1;36m1\u001b[0m\u001b[1;33m\u001b[0m\u001b[0m\n\u001b[0;32m      7\u001b[0m         \u001b[0mds\u001b[0m\u001b[1;33m[\u001b[0m\u001b[0mj\u001b[0m\u001b[1;33m]\u001b[0m \u001b[1;33m+=\u001b[0m \u001b[1;36m1\u001b[0m\u001b[1;33m\u001b[0m\u001b[0m\n\u001b[1;32m----> 8\u001b[1;33m         \u001b[0mmemo2\u001b[0m\u001b[1;33m[\u001b[0m\u001b[0mcnt\u001b[0m\u001b[1;33m]\u001b[0m \u001b[1;33m=\u001b[0m \u001b[0mcalc_cap\u001b[0m\u001b[1;33m(\u001b[0m\u001b[0mds\u001b[0m\u001b[1;33m)\u001b[0m\u001b[1;33m\u001b[0m\u001b[0m\n\u001b[0m\u001b[0;32m      9\u001b[0m         \u001b[1;32mprint\u001b[0m \u001b[0mi\u001b[0m\u001b[1;33m,\u001b[0m \u001b[0mj\u001b[0m\u001b[1;33m,\u001b[0m \u001b[0mmemo2\u001b[0m\u001b[1;33m[\u001b[0m\u001b[0mcnt\u001b[0m\u001b[1;33m]\u001b[0m\u001b[1;33m,\u001b[0m \u001b[0mds\u001b[0m\u001b[1;33m\u001b[0m\u001b[0m\n\u001b[0;32m     10\u001b[0m         \u001b[0mcnt\u001b[0m\u001b[1;33m+=\u001b[0m\u001b[1;36m1\u001b[0m\u001b[1;33m\u001b[0m\u001b[0m\n",
        "\u001b[1;32m<ipython-input-40-929a6850de8a>\u001b[0m in \u001b[0;36mcalc_cap\u001b[1;34m(ds)\u001b[0m\n\u001b[0;32m      4\u001b[0m         \u001b[0mtmp\u001b[0m \u001b[1;33m=\u001b[0m \u001b[1;36m1.0\u001b[0m\u001b[1;33m\u001b[0m\u001b[0m\n\u001b[0;32m      5\u001b[0m         \u001b[1;32mfor\u001b[0m \u001b[0mj\u001b[0m \u001b[1;32min\u001b[0m \u001b[0mrange\u001b[0m\u001b[1;33m(\u001b[0m\u001b[0mlen\u001b[0m\u001b[1;33m(\u001b[0m\u001b[0mds\u001b[0m\u001b[1;33m)\u001b[0m\u001b[1;33m)\u001b[0m\u001b[1;33m:\u001b[0m\u001b[1;33m\u001b[0m\u001b[0m\n\u001b[1;32m----> 6\u001b[1;33m             \u001b[0mtmp\u001b[0m \u001b[1;33m*=\u001b[0m \u001b[0mlegendre\u001b[0m\u001b[1;33m(\u001b[0m\u001b[0mds\u001b[0m\u001b[1;33m[\u001b[0m\u001b[0mj\u001b[0m\u001b[1;33m]\u001b[0m\u001b[1;33m,\u001b[0m \u001b[0ma\u001b[0m\u001b[1;33m[\u001b[0m\u001b[0mT0\u001b[0m\u001b[1;33m+\u001b[0m\u001b[0mi\u001b[0m\u001b[1;33m-\u001b[0m\u001b[0mj\u001b[0m\u001b[1;33m]\u001b[0m\u001b[1;33m)\u001b[0m\u001b[1;33m\u001b[0m\u001b[0m\n\u001b[0m\u001b[0;32m      7\u001b[0m         \u001b[0my\u001b[0m\u001b[1;33m[\u001b[0m\u001b[0mi\u001b[0m\u001b[1;33m]\u001b[0m \u001b[1;33m=\u001b[0m \u001b[0mtmp\u001b[0m\u001b[1;33m\u001b[0m\u001b[0m\n\u001b[0;32m      8\u001b[0m     \u001b[0mlin\u001b[0m \u001b[1;33m=\u001b[0m \u001b[0mlinear_model\u001b[0m\u001b[1;33m.\u001b[0m\u001b[0mLinearRegression\u001b[0m\u001b[1;33m(\u001b[0m\u001b[1;33m)\u001b[0m\u001b[1;33m\u001b[0m\u001b[0m\n",
        "\u001b[1;32m<ipython-input-51-8e7ffb0a34f1>\u001b[0m in \u001b[0;36mlegendre\u001b[1;34m(n, x)\u001b[0m\n\u001b[0;32m      1\u001b[0m \u001b[1;32mdef\u001b[0m \u001b[0mlegendre\u001b[0m\u001b[1;33m(\u001b[0m\u001b[0mn\u001b[0m\u001b[1;33m,\u001b[0m \u001b[0mx\u001b[0m\u001b[1;33m)\u001b[0m\u001b[1;33m:\u001b[0m\u001b[1;33m\u001b[0m\u001b[0m\n\u001b[1;32m----> 2\u001b[1;33m     \u001b[1;32mif\u001b[0m \u001b[0mn\u001b[0m\u001b[1;33m==\u001b[0m\u001b[1;36m0\u001b[0m\u001b[1;33m:\u001b[0m\u001b[1;33m\u001b[0m\u001b[0m\n\u001b[0m\u001b[0;32m      3\u001b[0m         \u001b[1;32mreturn\u001b[0m \u001b[1;36m1\u001b[0m\u001b[1;33m\u001b[0m\u001b[0m\n\u001b[0;32m      4\u001b[0m     \u001b[1;32melif\u001b[0m \u001b[0mn\u001b[0m\u001b[1;33m==\u001b[0m\u001b[1;36m1\u001b[0m\u001b[1;33m:\u001b[0m\u001b[1;33m\u001b[0m\u001b[0m\n\u001b[0;32m      5\u001b[0m         \u001b[1;32mreturn\u001b[0m \u001b[0mx\u001b[0m \u001b[1;33m*\u001b[0m \u001b[1;33m(\u001b[0m\u001b[1;36m2\u001b[0m\u001b[1;33m*\u001b[0m\u001b[0mn\u001b[0m\u001b[1;33m+\u001b[0m\u001b[1;36m1\u001b[0m\u001b[1;33m)\u001b[0m\u001b[1;33m/\u001b[0m\u001b[1;36m2\u001b[0m\u001b[1;33m\u001b[0m\u001b[0m\n",
        "\u001b[1;31mKeyboardInterrupt\u001b[0m: "
       ]
      },
      {
       "output_type": "stream",
       "stream": "stdout",
       "text": [
        " 4 0.0853456042745 [ 0.  0.  1.  0.  1.  0.  0.  0.  0.  0.]\n"
       ]
      }
     ],
     "prompt_number": 72
    },
    {
     "cell_type": "code",
     "collapsed": false,
     "input": [
      "memo3 = zeros(100, dtype=float)\n",
      "cnt = 0\n",
      "for i in range(10):\n",
      "    for j in range(i, 10):\n",
      "        for k in range(j, 10):\n",
      "            ds = zeros(10)\n",
      "            ds[i] += 1\n",
      "            ds[j] += 1\n",
      "            ds[k] += 1\n",
      "            \n",
      "            memo3[cnt] = calc_cap(ds)\n",
      "            print memo3[cnt], ds\n",
      "            cnt+=1"
     ],
     "language": "python",
     "metadata": {},
     "outputs": [
      {
       "output_type": "stream",
       "stream": "stdout",
       "text": [
        "0.998217339497 [ 3.  0.  0.  0.  0.  0.  0.  0.  0.  0.]\n",
        "0.999748887038"
       ]
      },
      {
       "output_type": "stream",
       "stream": "stdout",
       "text": [
        " [ 2.  1.  0.  0.  0.  0.  0.  0.  0.  0.]\n",
        "0.996188485693"
       ]
      },
      {
       "output_type": "stream",
       "stream": "stdout",
       "text": [
        " [ 2.  0.  1.  0.  0.  0.  0.  0.  0.  0.]\n",
        "0.951696516942"
       ]
      },
      {
       "output_type": "stream",
       "stream": "stdout",
       "text": [
        " [ 2.  0.  0.  1.  0.  0.  0.  0.  0.  0.]\n",
        "0.827240250261"
       ]
      },
      {
       "output_type": "stream",
       "stream": "stdout",
       "text": [
        " [ 2.  0.  0.  0.  1.  0.  0.  0.  0.  0.]\n",
        "0.648086635414"
       ]
      },
      {
       "output_type": "stream",
       "stream": "stdout",
       "text": [
        " [ 2.  0.  0.  0.  0.  1.  0.  0.  0.  0.]\n",
        "0.288042627064"
       ]
      },
      {
       "output_type": "stream",
       "stream": "stdout",
       "text": [
        " [ 2.  0.  0.  0.  0.  0.  1.  0.  0.  0.]\n",
        "0.257502185456"
       ]
      },
      {
       "output_type": "stream",
       "stream": "stdout",
       "text": [
        " [ 2.  0.  0.  0.  0.  0.  0.  1.  0.  0.]\n",
        "0.14916823708"
       ]
      },
      {
       "output_type": "stream",
       "stream": "stdout",
       "text": [
        " [ 2.  0.  0.  0.  0.  0.  0.  0.  1.  0.]\n",
        "0.0204884710279"
       ]
      },
      {
       "output_type": "stream",
       "stream": "stdout",
       "text": [
        " [ 2.  0.  0.  0.  0.  0.  0.  0.  0.  1.]\n",
        "0.995314651278"
       ]
      },
      {
       "output_type": "stream",
       "stream": "stdout",
       "text": [
        " [ 1.  2.  0.  0.  0.  0.  0.  0.  0.  0.]\n",
        "0.995880480688"
       ]
      },
      {
       "output_type": "stream",
       "stream": "stdout",
       "text": [
        " [ 1.  1.  1.  0.  0.  0.  0.  0.  0.  0.]\n",
        "0.919815115745"
       ]
      },
      {
       "output_type": "stream",
       "stream": "stdout",
       "text": [
        " [ 1.  1.  0.  1.  0.  0.  0.  0.  0.  0.]\n",
        "0.759317289821"
       ]
      },
      {
       "output_type": "stream",
       "stream": "stdout",
       "text": [
        " [ 1.  1.  0.  0.  1.  0.  0.  0.  0.  0.]\n",
        "0.648640321564"
       ]
      },
      {
       "output_type": "stream",
       "stream": "stdout",
       "text": [
        " [ 1.  1.  0.  0.  0.  1.  0.  0.  0.  0.]\n",
        "0.423205146712"
       ]
      },
      {
       "output_type": "stream",
       "stream": "stdout",
       "text": [
        " [ 1.  1.  0.  0.  0.  0.  1.  0.  0.  0.]\n",
        "0.10348933009"
       ]
      },
      {
       "output_type": "stream",
       "stream": "stdout",
       "text": [
        " [ 1.  1.  0.  0.  0.  0.  0.  1.  0.  0.]\n",
        "0.0524375029976"
       ]
      },
      {
       "output_type": "stream",
       "stream": "stdout",
       "text": [
        " [ 1.  1.  0.  0.  0.  0.  0.  0.  1.  0.]\n",
        "0.0172942935679"
       ]
      },
      {
       "output_type": "stream",
       "stream": "stdout",
       "text": [
        " [ 1.  1.  0.  0.  0.  0.  0.  0.  0.  1.]\n",
        "0.956911997112"
       ]
      },
      {
       "output_type": "stream",
       "stream": "stdout",
       "text": [
        " [ 1.  0.  2.  0.  0.  0.  0.  0.  0.  0.]\n",
        "0.832920371232"
       ]
      },
      {
       "output_type": "stream",
       "stream": "stdout",
       "text": [
        " [ 1.  0.  1.  1.  0.  0.  0.  0.  0.  0.]\n",
        "0.712155615974"
       ]
      },
      {
       "output_type": "stream",
       "stream": "stdout",
       "text": [
        " [ 1.  0.  1.  0.  1.  0.  0.  0.  0.  0.]\n",
        "0.257924888349"
       ]
      },
      {
       "output_type": "stream",
       "stream": "stdout",
       "text": [
        " [ 1.  0.  1.  0.  0.  1.  0.  0.  0.  0.]\n",
        "0.179586879116"
       ]
      },
      {
       "output_type": "stream",
       "stream": "stdout",
       "text": [
        " [ 1.  0.  1.  0.  0.  0.  1.  0.  0.  0.]\n",
        "0.0833628327284"
       ]
      },
      {
       "output_type": "stream",
       "stream": "stdout",
       "text": [
        " [ 1.  0.  1.  0.  0.  0.  0.  1.  0.  0.]\n",
        "0.0459238581594"
       ]
      },
      {
       "output_type": "stream",
       "stream": "stdout",
       "text": [
        " [ 1.  0.  1.  0.  0.  0.  0.  0.  1.  0.]\n",
        "0.012549531655"
       ]
      },
      {
       "output_type": "stream",
       "stream": "stdout",
       "text": [
        " [ 1.  0.  1.  0.  0.  0.  0.  0.  0.  1.]\n",
        "0.517941007694"
       ]
      },
      {
       "output_type": "stream",
       "stream": "stdout",
       "text": [
        " [ 1.  0.  0.  2.  0.  0.  0.  0.  0.  0.]\n",
        "0.419349097963"
       ]
      },
      {
       "output_type": "stream",
       "stream": "stdout",
       "text": [
        " [ 1.  0.  0.  1.  1.  0.  0.  0.  0.  0.]\n",
        "0.295563601135"
       ]
      },
      {
       "output_type": "stream",
       "stream": "stdout",
       "text": [
        " [ 1.  0.  0.  1.  0.  1.  0.  0.  0.  0.]\n",
        "0.0728154642586"
       ]
      },
      {
       "output_type": "stream",
       "stream": "stdout",
       "text": [
        " [ 1.  0.  0.  1.  0.  0.  1.  0.  0.  0.]\n",
        "0.0308358824707"
       ]
      },
      {
       "output_type": "stream",
       "stream": "stdout",
       "text": [
        " [ 1.  0.  0.  1.  0.  0.  0.  1.  0.  0.]\n",
        "0.0074974061144"
       ]
      },
      {
       "output_type": "stream",
       "stream": "stdout",
       "text": [
        " [ 1.  0.  0.  1.  0.  0.  0.  0.  1.  0.]\n",
        "0.00278273222253"
       ]
      },
      {
       "output_type": "stream",
       "stream": "stdout",
       "text": [
        " [ 1.  0.  0.  1.  0.  0.  0.  0.  0.  1.]\n",
        "0.055534897651"
       ]
      },
      {
       "output_type": "stream",
       "stream": "stdout",
       "text": [
        " [ 1.  0.  0.  0.  2.  0.  0.  0.  0.  0.]\n",
        "0.041320316726"
       ]
      },
      {
       "output_type": "stream",
       "stream": "stdout",
       "text": [
        " [ 1.  0.  0.  0.  1.  1.  0.  0.  0.  0.]\n",
        "0.0125770965192"
       ]
      },
      {
       "output_type": "stream",
       "stream": "stdout",
       "text": [
        " [ 1.  0.  0.  0.  1.  0.  1.  0.  0.  0.]\n",
        "0.00476450380907"
       ]
      },
      {
       "output_type": "stream",
       "stream": "stdout",
       "text": [
        " [ 1.  0.  0.  0.  1.  0.  0.  1.  0.  0.]\n",
        "0.000977614958047"
       ]
      },
      {
       "output_type": "stream",
       "stream": "stdout",
       "text": [
        " [ 1.  0.  0.  0.  1.  0.  0.  0.  1.  0.]\n",
        "0.000662700696793"
       ]
      },
      {
       "output_type": "stream",
       "stream": "stdout",
       "text": [
        " [ 1.  0.  0.  0.  1.  0.  0.  0.  0.  1.]\n",
        "0.00503552456096"
       ]
      },
      {
       "output_type": "stream",
       "stream": "stdout",
       "text": [
        " [ 1.  0.  0.  0.  0.  2.  0.  0.  0.  0.]\n",
        "0.00544973684295"
       ]
      },
      {
       "output_type": "stream",
       "stream": "stdout",
       "text": [
        " [ 1.  0.  0.  0.  0.  1.  1.  0.  0.  0.]\n",
        "0.00304721856355"
       ]
      },
      {
       "output_type": "stream",
       "stream": "stdout",
       "text": [
        " [ 1.  0.  0.  0.  0.  1.  0.  1.  0.  0.]\n",
        "0.000975081235223"
       ]
      },
      {
       "output_type": "stream",
       "stream": "stdout",
       "text": [
        " [ 1.  0.  0.  0.  0.  1.  0.  0.  1.  0.]\n",
        "0.000475841673749"
       ]
      },
      {
       "output_type": "stream",
       "stream": "stdout",
       "text": [
        " [ 1.  0.  0.  0.  0.  1.  0.  0.  0.  1.]\n",
        "0.0017933783349"
       ]
      },
      {
       "output_type": "stream",
       "stream": "stdout",
       "text": [
        " [ 1.  0.  0.  0.  0.  0.  2.  0.  0.  0.]\n",
        "0.00158334626013"
       ]
      },
      {
       "output_type": "stream",
       "stream": "stdout",
       "text": [
        " [ 1.  0.  0.  0.  0.  0.  1.  1.  0.  0.]\n",
        "0.00096260485173"
       ]
      },
      {
       "output_type": "stream",
       "stream": "stdout",
       "text": [
        " [ 1.  0.  0.  0.  0.  0.  1.  0.  1.  0.]\n",
        "0.000316752062274"
       ]
      },
      {
       "output_type": "stream",
       "stream": "stdout",
       "text": [
        " [ 1.  0.  0.  0.  0.  0.  1.  0.  0.  1.]\n",
        "0.000410561273596"
       ]
      },
      {
       "output_type": "stream",
       "stream": "stdout",
       "text": [
        " [ 1.  0.  0.  0.  0.  0.  0.  2.  0.  0.]\n",
        "0.000595627199714"
       ]
      },
      {
       "output_type": "stream",
       "stream": "stdout",
       "text": [
        " [ 1.  0.  0.  0.  0.  0.  0.  1.  1.  0.]\n",
        "0.000333049606517"
       ]
      },
      {
       "output_type": "stream",
       "stream": "stdout",
       "text": [
        " [ 1.  0.  0.  0.  0.  0.  0.  1.  0.  1.]\n",
        "0.000479649625765"
       ]
      },
      {
       "output_type": "stream",
       "stream": "stdout",
       "text": [
        " [ 1.  0.  0.  0.  0.  0.  0.  0.  2.  0.]\n",
        "0.000539081960675"
       ]
      },
      {
       "output_type": "stream",
       "stream": "stdout",
       "text": [
        " [ 1.  0.  0.  0.  0.  0.  0.  0.  1.  1.]\n",
        "0.000713934565276"
       ]
      },
      {
       "output_type": "stream",
       "stream": "stdout",
       "text": [
        " [ 1.  0.  0.  0.  0.  0.  0.  0.  0.  2.]\n",
        "0.987476452906"
       ]
      },
      {
       "output_type": "stream",
       "stream": "stdout",
       "text": [
        " [ 0.  3.  0.  0.  0.  0.  0.  0.  0.  0.]\n",
        "0.996472464787"
       ]
      },
      {
       "output_type": "stream",
       "stream": "stdout",
       "text": [
        " [ 0.  2.  1.  0.  0.  0.  0.  0.  0.  0.]\n",
        "0.982886862356"
       ]
      },
      {
       "output_type": "stream",
       "stream": "stdout",
       "text": [
        " [ 0.  2.  0.  1.  0.  0.  0.  0.  0.  0.]\n",
        "0.765666924995"
       ]
      },
      {
       "output_type": "stream",
       "stream": "stdout",
       "text": [
        " [ 0.  2.  0.  0.  1.  0.  0.  0.  0.  0.]\n",
        "0.523273179158"
       ]
      },
      {
       "output_type": "stream",
       "stream": "stdout",
       "text": [
        " [ 0.  2.  0.  0.  0.  1.  0.  0.  0.  0.]\n",
        "0.321250179965"
       ]
      },
      {
       "ename": "KeyboardInterrupt",
       "evalue": "",
       "output_type": "pyerr",
       "traceback": [
        "\u001b[1;31m---------------------------------------------------------------------------\u001b[0m\n\u001b[1;31mKeyboardInterrupt\u001b[0m                         Traceback (most recent call last)",
        "\u001b[1;32m<ipython-input-68-53538558cf34>\u001b[0m in \u001b[0;36m<module>\u001b[1;34m()\u001b[0m\n\u001b[0;32m      9\u001b[0m             \u001b[0mds\u001b[0m\u001b[1;33m[\u001b[0m\u001b[0mk\u001b[0m\u001b[1;33m]\u001b[0m \u001b[1;33m+=\u001b[0m \u001b[1;36m1\u001b[0m\u001b[1;33m\u001b[0m\u001b[0m\n\u001b[0;32m     10\u001b[0m \u001b[1;33m\u001b[0m\u001b[0m\n\u001b[1;32m---> 11\u001b[1;33m             \u001b[0mmemo3\u001b[0m\u001b[1;33m[\u001b[0m\u001b[0mcnt\u001b[0m\u001b[1;33m]\u001b[0m \u001b[1;33m=\u001b[0m \u001b[0mcalc_cap\u001b[0m\u001b[1;33m(\u001b[0m\u001b[0mds\u001b[0m\u001b[1;33m)\u001b[0m\u001b[1;33m\u001b[0m\u001b[0m\n\u001b[0m\u001b[0;32m     12\u001b[0m             \u001b[1;32mprint\u001b[0m \u001b[0mmemo3\u001b[0m\u001b[1;33m[\u001b[0m\u001b[0mcnt\u001b[0m\u001b[1;33m]\u001b[0m\u001b[1;33m,\u001b[0m \u001b[0mds\u001b[0m\u001b[1;33m\u001b[0m\u001b[0m\n\u001b[0;32m     13\u001b[0m             \u001b[0mcnt\u001b[0m\u001b[1;33m+=\u001b[0m\u001b[1;36m1\u001b[0m\u001b[1;33m\u001b[0m\u001b[0m\n",
        "\u001b[1;32m<ipython-input-40-929a6850de8a>\u001b[0m in \u001b[0;36mcalc_cap\u001b[1;34m(ds)\u001b[0m\n\u001b[0;32m      4\u001b[0m         \u001b[0mtmp\u001b[0m \u001b[1;33m=\u001b[0m \u001b[1;36m1.0\u001b[0m\u001b[1;33m\u001b[0m\u001b[0m\n\u001b[0;32m      5\u001b[0m         \u001b[1;32mfor\u001b[0m \u001b[0mj\u001b[0m \u001b[1;32min\u001b[0m \u001b[0mrange\u001b[0m\u001b[1;33m(\u001b[0m\u001b[0mlen\u001b[0m\u001b[1;33m(\u001b[0m\u001b[0mds\u001b[0m\u001b[1;33m)\u001b[0m\u001b[1;33m)\u001b[0m\u001b[1;33m:\u001b[0m\u001b[1;33m\u001b[0m\u001b[0m\n\u001b[1;32m----> 6\u001b[1;33m             \u001b[0mtmp\u001b[0m \u001b[1;33m*=\u001b[0m \u001b[0mlegendre\u001b[0m\u001b[1;33m(\u001b[0m\u001b[0mds\u001b[0m\u001b[1;33m[\u001b[0m\u001b[0mj\u001b[0m\u001b[1;33m]\u001b[0m\u001b[1;33m,\u001b[0m \u001b[0ma\u001b[0m\u001b[1;33m[\u001b[0m\u001b[0mT0\u001b[0m\u001b[1;33m+\u001b[0m\u001b[0mi\u001b[0m\u001b[1;33m-\u001b[0m\u001b[0mj\u001b[0m\u001b[1;33m]\u001b[0m\u001b[1;33m)\u001b[0m\u001b[1;33m\u001b[0m\u001b[0m\n\u001b[0m\u001b[0;32m      7\u001b[0m         \u001b[0my\u001b[0m\u001b[1;33m[\u001b[0m\u001b[0mi\u001b[0m\u001b[1;33m]\u001b[0m \u001b[1;33m=\u001b[0m \u001b[0mtmp\u001b[0m\u001b[1;33m\u001b[0m\u001b[0m\n\u001b[0;32m      8\u001b[0m     \u001b[0mlin\u001b[0m \u001b[1;33m=\u001b[0m \u001b[0mlinear_model\u001b[0m\u001b[1;33m.\u001b[0m\u001b[0mLinearRegression\u001b[0m\u001b[1;33m(\u001b[0m\u001b[1;33m)\u001b[0m\u001b[1;33m\u001b[0m\u001b[0m\n",
        "\u001b[1;31mKeyboardInterrupt\u001b[0m: "
       ]
      },
      {
       "output_type": "stream",
       "stream": "stdout",
       "text": [
        " [ 0.  2.  0.  0.  0.  0.  1.  0.  0.  0.]\n"
       ]
      }
     ],
     "prompt_number": 68
    },
    {
     "cell_type": "code",
     "collapsed": false,
     "input": [
      "print sum(memo[memo>0])\n",
      "#print sum(memo2[memo2>0])\n",
      "print sum(memo3[memo3>0])"
     ],
     "language": "python",
     "metadata": {},
     "outputs": [
      {
       "output_type": "stream",
       "stream": "stdout",
       "text": [
        "19.5322570684\n",
        "23.6183428599\n"
       ]
      }
     ],
     "prompt_number": 57
    },
    {
     "cell_type": "code",
     "collapsed": false,
     "input": [],
     "language": "python",
     "metadata": {},
     "outputs": [
      {
       "output_type": "pyout",
       "prompt_number": 42,
       "text": [
        "0.00037896847984852933"
       ]
      }
     ],
     "prompt_number": 42
    },
    {
     "cell_type": "code",
     "collapsed": false,
     "input": [],
     "language": "python",
     "metadata": {},
     "outputs": []
    }
   ],
   "metadata": {}
  }
 ]
}