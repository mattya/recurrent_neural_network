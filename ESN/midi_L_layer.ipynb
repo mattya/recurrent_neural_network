{
 "metadata": {
  "name": "midi_L_layer"
 },
 "nbformat": 3,
 "nbformat_minor": 0,
 "worksheets": [
  {
   "cells": [
    {
     "cell_type": "code",
     "collapsed": false,
     "input": [],
     "language": "python",
     "metadata": {},
     "outputs": []
    }
   ],
   "metadata": {}
  }
 ]
}