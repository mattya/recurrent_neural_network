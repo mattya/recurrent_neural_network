{
 "metadata": {
  "name": "rnnrbm"
 },
 "nbformat": 3,
 "nbformat_minor": 0,
 "worksheets": [
  {
   "cells": [
    {
     "cell_type": "code",
     "collapsed": false,
     "input": [
      "import glob, os, sys\n",
      "from numpy import *\n",
      "from scipy import *\n",
      "from midi.utils import midiread, midiwrite\n"
     ],
     "language": "python",
     "metadata": {},
     "outputs": [],
     "prompt_number": 3
    },
    {
     "cell_type": "code",
     "collapsed": false,
     "input": [
      "def build_rbm(v, W, bv, bh, k):\n",
      "    def gibbs_step(v):\n",
      "        mean_h = sigmoid(dot(v, W) + bh)\n",
      "        h = random.binomial(size=mean_h.shape, n=1, p=mean_h)\n",
      "        mean_v = sigmoid(dot(h, W.T) + bv)\n",
      "        v = random.binomial(size=mean_v.shape, n=1; p=mean_v)\n",
      "        return mean_v, v\n",
      "\n",
      "    # CD-1\n",
      "    mean_v, v_sample = gibbs_step(v)\n",
      "    return v_sample\n",
      "\n",
      "def build_rnnrbm(n_visible, n_hidden, n_recurrent):\n",
      "    W = random.normal(size=(n_visible, n_hidden), scale=0.01)\n",
      "    bv = zeros(n_visible)\n",
      "    bh = zeros(n_hidden)\n",
      "    Wuh = random.normal(size=(n_recurrent, n_hidden), scale=0.0001)\n",
      "    Wuv = random.normal(size=(n_recurrent, n_visible), scale=0.0001)\n",
      "    Wvu = random.normal(size=(n_visible, n_recurrent), scale=0.0001)\n",
      "    Wuu = random.normal(size=(n_recurrent, n_recurrent), scale=0.0001)\n",
      "    bu = zeros(n_recurrent)\n",
      "    \n",
      "    u0 = zeros(n_recurrent)\n",
      "    \n",
      "    def recurrence(v_t, u_tm1):\n",
      "        bv_t = bv + dot(u_tm1, Wuv)\n",
      "        bh_t = bh + dot(u_tm1, Wuh)\n",
      "        if v_t is None:\n",
      "            v_t = build_rbm(zeros(n_visible), W, bv_t, bh_t, k=1)\n",
      "        u_t = vectorize(tanh, otypes=[float])(bu + dot(v_t, Wvu) + dot(u_tm1, Wuu))\n",
      "        return v_t, u_t\n",
      "\n",
      "    "
     ],
     "language": "python",
     "metadata": {},
     "outputs": [
      {
       "output_type": "pyout",
       "prompt_number": 2,
       "text": [
        "<module 'midi' from '/home/mattya/anaconda/lib/python2.7/site-packages/midi/__init__.py'>"
       ]
      }
     ],
     "prompt_number": 2
    },
    {
     "cell_type": "code",
     "collapsed": false,
     "input": [],
     "language": "python",
     "metadata": {},
     "outputs": []
    }
   ],
   "metadata": {}
  }
 ]
}