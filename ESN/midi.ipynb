{
 "metadata": {
  "name": "midi"
 },
 "nbformat": 3,
 "nbformat_minor": 0,
 "worksheets": [
  {
   "cells": [
    {
     "cell_type": "code",
     "collapsed": false,
     "input": [
      "import glob, os, sys\n",
      "from numpy import *\n",
      "from scipy import *\n",
      "from midi.utils import midiread, midiwrite\n"
     ],
     "language": "python",
     "metadata": {},
     "outputs": [],
     "prompt_number": 1
    },
    {
     "cell_type": "code",
     "collapsed": false,
     "input": [
      "dataset = [midiread(f, (21, 109), dt=0.3).piano_roll.astype(float) for f in glob.glob(\"../../../../Downloads/Nottingham/train/*\")]"
     ],
     "language": "python",
     "metadata": {},
     "outputs": [],
     "prompt_number": 126
    },
    {
     "cell_type": "code",
     "collapsed": false,
     "input": [
      "dataset[0].shape"
     ],
     "language": "python",
     "metadata": {},
     "outputs": [
      {
       "output_type": "pyout",
       "prompt_number": 68,
       "text": [
        "(162, 88)"
       ]
      }
     ],
     "prompt_number": 68
    },
    {
     "cell_type": "code",
     "collapsed": false,
     "input": [
      "# two layer\n",
      "T0 = 1000\n",
      "K = 88\n",
      "N = 100\n",
      "alpha = 0.01\n",
      "maxSVD1 = 0.95\n",
      "maxSVD2 = 0.95\n",
      "maxSVD12 = 0.05\n",
      "\n",
      "random.seed(31415)"
     ],
     "language": "python",
     "metadata": {},
     "outputs": [],
     "prompt_number": 114
    },
    {
     "cell_type": "code",
     "collapsed": false,
     "input": [
      "# generate weight matrix\n",
      "V1 = zeros((N, N), dtype=float)\n",
      "for i in range(N):\n",
      "    for j in range(N):\n",
      "        V1[i,j] = random.uniform(-1, 1) if random.uniform(0, 1)<0.1 else 0\n",
      "u,s,v = linalg.svd(V1)\n",
      "for i in range(N):\n",
      "    for j in range(N):\n",
      "        V1[i,j] *= maxSVD1/s[0]\n",
      "u,s,v = linalg.svd(V1)\n",
      "print s\n",
      "\n",
      "U = zeros((N, K), dtype=float)\n",
      "for i in range(N):\n",
      "    for j in range(K):\n",
      "        U[i, j] = random.uniform(-1, 1)\n",
      "    \n",
      "    \n",
      "V2 = zeros((N, N), dtype=float)\n",
      "for i in range(N):\n",
      "    for j in range(N):\n",
      "        V2[i,j] = random.uniform(-1, 1) if random.uniform(0, 1)<0.1 else 0\n",
      "u,s,v = linalg.svd(V2)\n",
      "for i in range(N):\n",
      "    for j in range(N):\n",
      "        V2[i,j] *= maxSVD2/s[0]\n",
      "u,s,v = linalg.svd(V2)\n",
      "print s\n",
      "\n",
      "    \n",
      "V12 = zeros((N, N), dtype=float)\n",
      "for i in range(N):\n",
      "    for j in range(N):\n",
      "        V12[i,j] = random.uniform(-1, 1) if random.uniform(0, 1)<0.1 else 0\n",
      "u,s,v = linalg.svd(V12)\n",
      "for i in range(N):\n",
      "    for j in range(N):\n",
      "        V12[i,j] *= maxSVD12/s[0]\n",
      "u,s,v = linalg.svd(V12)\n",
      "print s"
     ],
     "language": "python",
     "metadata": {},
     "outputs": [
      {
       "output_type": "stream",
       "stream": "stdout",
       "text": [
        "[ 0.95        0.8916392   0.84438798  0.82067604  0.81446772  0.79968782\n",
        "  0.77693219  0.7580297   0.75002345  0.74003951  0.72304419  0.71483817\n",
        "  0.70055683  0.68439824  0.68208599  0.6654374   0.65677241  0.64657857\n",
        "  0.6346621   0.62287872  0.61262895  0.60302933  0.59332109  0.58034284\n",
        "  0.5762712   0.56132934  0.5524952   0.53865728  0.53277118  0.52374416\n",
        "  0.50298754  0.49842136  0.48417491  0.47404747  0.46016044  0.450726\n",
        "  0.44525845  0.43673938  0.42453814  0.42097877  0.41152541  0.40368166\n",
        "  0.40328468  0.40032683  0.39263273  0.38120221  0.37850485  0.36184392\n",
        "  0.3551536   0.3498437   0.34320009  0.32876309  0.32293937  0.3142939\n",
        "  0.30630871  0.3018846   0.29315661  0.28183438  0.27615455  0.27070249\n",
        "  0.25911545  0.25565524  0.24809906  0.24091008  0.23607121  0.22983689\n",
        "  0.22567827  0.21482809  0.21112136  0.20671247  0.20224972  0.19159423\n",
        "  0.18396607  0.17957606  0.17258229  0.16274001  0.15894483  0.15348102\n",
        "  0.14019904  0.1339236   0.12374039  0.1195598   0.11535669  0.10677878\n",
        "  0.09855159  0.0865347   0.08152993  0.07547313  0.06993554  0.06318166\n",
        "  0.05698665  0.04305704  0.04138082  0.03536764  0.02998116  0.02614703\n",
        "  0.02007452  0.00934715  0.00199488  0.00109461]\n",
        "[  9.50000000e-01   9.03506445e-01   8.76372771e-01   8.55068004e-01\n",
        "   8.37881522e-01   8.32114594e-01   8.11369753e-01   7.91956129e-01\n",
        "   7.82553001e-01   7.61343636e-01   7.47541583e-01   7.23282289e-01\n",
        "   6.96049643e-01   6.91033306e-01   6.70096987e-01   6.63858707e-01\n",
        "   6.51392604e-01   6.37443466e-01   6.31294486e-01   6.17313921e-01\n",
        "   6.09791523e-01   6.00664206e-01   5.94528076e-01   5.92033224e-01\n",
        "   5.77273223e-01   5.61450834e-01   5.54793569e-01   5.50620283e-01\n",
        "   5.36888538e-01   5.26399653e-01   5.12374733e-01   5.03036112e-01\n",
        "   4.97538736e-01   4.89406325e-01   4.77689257e-01   4.73531214e-01\n",
        "   4.59597959e-01   4.54732508e-01   4.48263387e-01   4.42083449e-01\n",
        "   4.22633381e-01   4.11247330e-01   4.00308932e-01   3.89246628e-01\n",
        "   3.86506195e-01   3.78547221e-01   3.70210984e-01   3.62562618e-01\n",
        "   3.52037737e-01   3.50051807e-01   3.40438375e-01   3.31351857e-01\n",
        "   3.21150972e-01   3.13560322e-01   3.10014389e-01   3.02560331e-01\n",
        "   2.92480751e-01   2.80720371e-01   2.75215064e-01   2.71489578e-01\n",
        "   2.68806636e-01   2.50022535e-01   2.45753622e-01   2.36706949e-01\n",
        "   2.33303096e-01   2.30558828e-01   2.21529326e-01   2.16457804e-01\n",
        "   2.09456864e-01   1.98814371e-01   1.94988021e-01   1.90114577e-01\n",
        "   1.80033330e-01   1.73012760e-01   1.72305203e-01   1.60737072e-01\n",
        "   1.55990306e-01   1.51067837e-01   1.38943003e-01   1.25084249e-01\n",
        "   1.22604013e-01   1.18150680e-01   1.08722088e-01   1.02158583e-01\n",
        "   9.85175611e-02   8.71690721e-02   8.05877876e-02   7.27754466e-02\n",
        "   6.80571373e-02   6.16686130e-02   5.29783381e-02   4.58887910e-02\n",
        "   3.90250168e-02   3.40915467e-02   3.24581357e-02   2.90728806e-02\n",
        "   2.32910010e-02   1.37524067e-02   4.82859207e-03   7.29965008e-04]\n",
        "[  5.00000000e-02   4.92541516e-02   4.88245999e-02   4.66802883e-02\n",
        "   4.50256248e-02   4.46146533e-02   4.39536904e-02   4.27042192e-02\n",
        "   4.13776114e-02   4.01736914e-02   3.99901982e-02   3.90869515e-02\n",
        "   3.87653438e-02   3.80071162e-02   3.78423909e-02   3.69791653e-02\n",
        "   3.68168571e-02   3.54999706e-02   3.52364871e-02   3.40730691e-02\n",
        "   3.39187364e-02   3.35193706e-02   3.25976114e-02   3.21722704e-02\n",
        "   3.14264561e-02   3.07268792e-02   3.00920750e-02   2.98095805e-02\n",
        "   2.89759345e-02   2.87121241e-02   2.82561499e-02   2.74343763e-02\n",
        "   2.68506587e-02   2.60434639e-02   2.57506216e-02   2.53527382e-02\n",
        "   2.51810340e-02   2.49136574e-02   2.45819515e-02   2.37200634e-02\n",
        "   2.35174099e-02   2.33585177e-02   2.24298331e-02   2.19906543e-02\n",
        "   2.14588388e-02   2.09426065e-02   2.06198390e-02   1.98130661e-02\n",
        "   1.95216845e-02   1.91894388e-02   1.84535033e-02   1.80284068e-02\n",
        "   1.77748610e-02   1.71802588e-02   1.70433094e-02   1.67725088e-02\n",
        "   1.62695565e-02   1.59517221e-02   1.57170166e-02   1.46612569e-02\n",
        "   1.42197306e-02   1.38151577e-02   1.35758053e-02   1.29480448e-02\n",
        "   1.25418810e-02   1.22836106e-02   1.21245544e-02   1.17384932e-02\n",
        "   1.11623867e-02   1.02513064e-02   9.83931041e-03   9.68616555e-03\n",
        "   9.19797285e-03   8.75982145e-03   8.60130231e-03   8.01675994e-03\n",
        "   7.82084473e-03   7.45415934e-03   7.09356180e-03   6.65293375e-03\n",
        "   6.01892414e-03   5.77591141e-03   5.64619276e-03   4.83678071e-03\n",
        "   4.55152677e-03   4.11653946e-03   3.99081975e-03   3.86299965e-03\n",
        "   3.36902108e-03   2.86685544e-03   2.69842442e-03   2.56695253e-03\n",
        "   2.08174090e-03   1.73402396e-03   1.50370586e-03   1.06048280e-03\n",
        "   8.42288965e-04   6.63731294e-04   2.03342904e-04   3.98438867e-05]"
       ]
      },
      {
       "output_type": "stream",
       "stream": "stdout",
       "text": [
        "\n"
       ]
      }
     ],
     "prompt_number": 115
    },
    {
     "cell_type": "code",
     "collapsed": false,
     "input": [
      "# generate output sequence\n",
      "vfunc = vectorize(tanh, otypes=[float])\n",
      "x1 = zeros(N, dtype=float)\n",
      "x2 = zeros(N, dtype=float)\n",
      "\n",
      "for i in range(N):\n",
      "    x1[i] = random.uniform(-1, 1)\n",
      "    x2[i] = random.uniform(-1, 1)\n",
      "for i in range(T0):\n",
      "    nx1 = dot(V1, x1) + dot(transpose(V12), x2)\n",
      "    nx2 = dot(V2, x2) + dot(V12, x1)\n",
      "    x1 = 0*x1 + 1*vfunc(nx1)\n",
      "    x2 = 0.7*x2 + 0.3*vfunc(nx2)\n",
      "\n",
      "sumt = 0\n",
      "for i in range(len(dataset)):\n",
      "    sumt += dataset[i].shape[0]\n",
      "\n",
      "#sumt = 130000\n",
      "data_in = zeros((sumt, K), dtype=float)\n",
      "data_l0 = zeros((sumt, N), dtype=float)\n",
      "data_l1 = zeros((sumt, N), dtype=float)\n",
      "\n",
      "\n",
      "t = 0\n",
      "for a in dataset:\n",
      "#    if t>=sumt:\n",
      "#        break\n",
      "    for i in range(a.shape[0]):\n",
      "#        if t>=sumt:\n",
      "#            break\n",
      "        if t%1000==0:\n",
      "            print t, sumt\n",
      "        nx1 = dot(V1, x1) + dot(transpose(V12), x2)\n",
      "        nx1 += alpha*dot(U, a[i,:])\n",
      "        nx2 = dot(V2, x2) + dot(V12, x1)\n",
      "        x1 = 0*x1 + 1*vfunc(nx1)\n",
      "        x2 = 0.7*x2 + 0.3*vfunc(nx2)\n",
      "        data_in[t] = a[i,:]\n",
      "        data_l0[t] = x1[:]\n",
      "        data_l1[t] = x2[:]\n",
      "        t += 1\n",
      "\n",
      "savetxt(\"data_in.txt\", data_in)\n",
      "savetxt(\"data_l0.txt\", data_l0)\n",
      "savetxt(\"data_l1.txt\", data_l1)"
     ],
     "language": "python",
     "metadata": {},
     "outputs": [
      {
       "output_type": "stream",
       "stream": "stdout",
       "text": [
        "0 147737\n",
        "1000"
       ]
      },
      {
       "output_type": "stream",
       "stream": "stdout",
       "text": [
        " 147737\n",
        "2000"
       ]
      },
      {
       "output_type": "stream",
       "stream": "stdout",
       "text": [
        " 147737\n",
        "3000"
       ]
      },
      {
       "output_type": "stream",
       "stream": "stdout",
       "text": [
        " 147737\n",
        "4000"
       ]
      },
      {
       "output_type": "stream",
       "stream": "stdout",
       "text": [
        " 147737\n",
        "5000"
       ]
      },
      {
       "output_type": "stream",
       "stream": "stdout",
       "text": [
        " 147737\n",
        "6000"
       ]
      },
      {
       "output_type": "stream",
       "stream": "stdout",
       "text": [
        " 147737\n",
        "7000"
       ]
      },
      {
       "output_type": "stream",
       "stream": "stdout",
       "text": [
        " 147737\n",
        "8000"
       ]
      },
      {
       "output_type": "stream",
       "stream": "stdout",
       "text": [
        " 147737\n",
        "9000"
       ]
      },
      {
       "output_type": "stream",
       "stream": "stdout",
       "text": [
        " 147737\n",
        "10000"
       ]
      },
      {
       "output_type": "stream",
       "stream": "stdout",
       "text": [
        " 147737\n",
        "11000"
       ]
      },
      {
       "output_type": "stream",
       "stream": "stdout",
       "text": [
        " 147737\n",
        "12000"
       ]
      },
      {
       "output_type": "stream",
       "stream": "stdout",
       "text": [
        " 147737\n",
        "13000"
       ]
      },
      {
       "output_type": "stream",
       "stream": "stdout",
       "text": [
        " 147737\n",
        "14000"
       ]
      },
      {
       "output_type": "stream",
       "stream": "stdout",
       "text": [
        " 147737\n",
        "15000"
       ]
      },
      {
       "output_type": "stream",
       "stream": "stdout",
       "text": [
        " 147737\n",
        "16000"
       ]
      },
      {
       "output_type": "stream",
       "stream": "stdout",
       "text": [
        " 147737\n",
        "17000"
       ]
      },
      {
       "output_type": "stream",
       "stream": "stdout",
       "text": [
        " 147737\n",
        "18000"
       ]
      },
      {
       "output_type": "stream",
       "stream": "stdout",
       "text": [
        " 147737\n",
        "19000"
       ]
      },
      {
       "output_type": "stream",
       "stream": "stdout",
       "text": [
        " 147737\n",
        "20000"
       ]
      },
      {
       "output_type": "stream",
       "stream": "stdout",
       "text": [
        " 147737\n",
        "21000"
       ]
      },
      {
       "output_type": "stream",
       "stream": "stdout",
       "text": [
        " 147737\n",
        "22000"
       ]
      },
      {
       "output_type": "stream",
       "stream": "stdout",
       "text": [
        " 147737\n",
        "23000"
       ]
      },
      {
       "output_type": "stream",
       "stream": "stdout",
       "text": [
        " 147737\n",
        "24000"
       ]
      },
      {
       "output_type": "stream",
       "stream": "stdout",
       "text": [
        " 147737\n",
        "25000"
       ]
      },
      {
       "output_type": "stream",
       "stream": "stdout",
       "text": [
        " 147737\n",
        "26000"
       ]
      },
      {
       "output_type": "stream",
       "stream": "stdout",
       "text": [
        " 147737\n",
        "27000"
       ]
      },
      {
       "output_type": "stream",
       "stream": "stdout",
       "text": [
        " 147737\n",
        "28000"
       ]
      },
      {
       "output_type": "stream",
       "stream": "stdout",
       "text": [
        " 147737\n",
        "29000"
       ]
      },
      {
       "output_type": "stream",
       "stream": "stdout",
       "text": [
        " 147737\n",
        "30000"
       ]
      },
      {
       "output_type": "stream",
       "stream": "stdout",
       "text": [
        " 147737\n",
        "31000"
       ]
      },
      {
       "output_type": "stream",
       "stream": "stdout",
       "text": [
        " 147737\n",
        "32000"
       ]
      },
      {
       "output_type": "stream",
       "stream": "stdout",
       "text": [
        " 147737\n",
        "33000"
       ]
      },
      {
       "output_type": "stream",
       "stream": "stdout",
       "text": [
        " 147737\n",
        "34000"
       ]
      },
      {
       "output_type": "stream",
       "stream": "stdout",
       "text": [
        " 147737\n",
        "35000"
       ]
      },
      {
       "output_type": "stream",
       "stream": "stdout",
       "text": [
        " 147737\n",
        "36000"
       ]
      },
      {
       "output_type": "stream",
       "stream": "stdout",
       "text": [
        " 147737\n",
        "37000"
       ]
      },
      {
       "output_type": "stream",
       "stream": "stdout",
       "text": [
        " 147737\n",
        "38000"
       ]
      },
      {
       "output_type": "stream",
       "stream": "stdout",
       "text": [
        " 147737\n",
        "39000"
       ]
      },
      {
       "output_type": "stream",
       "stream": "stdout",
       "text": [
        " 147737\n",
        "40000"
       ]
      },
      {
       "output_type": "stream",
       "stream": "stdout",
       "text": [
        " 147737\n",
        "41000"
       ]
      },
      {
       "output_type": "stream",
       "stream": "stdout",
       "text": [
        " 147737\n",
        "42000"
       ]
      },
      {
       "output_type": "stream",
       "stream": "stdout",
       "text": [
        " 147737\n",
        "43000"
       ]
      },
      {
       "output_type": "stream",
       "stream": "stdout",
       "text": [
        " 147737\n",
        "44000"
       ]
      },
      {
       "output_type": "stream",
       "stream": "stdout",
       "text": [
        " 147737\n",
        "45000"
       ]
      },
      {
       "output_type": "stream",
       "stream": "stdout",
       "text": [
        " 147737\n",
        "46000"
       ]
      },
      {
       "output_type": "stream",
       "stream": "stdout",
       "text": [
        " 147737\n",
        "47000"
       ]
      },
      {
       "output_type": "stream",
       "stream": "stdout",
       "text": [
        " 147737\n",
        "48000"
       ]
      },
      {
       "output_type": "stream",
       "stream": "stdout",
       "text": [
        " 147737\n",
        "49000"
       ]
      },
      {
       "output_type": "stream",
       "stream": "stdout",
       "text": [
        " 147737\n",
        "50000"
       ]
      },
      {
       "output_type": "stream",
       "stream": "stdout",
       "text": [
        " 147737\n",
        "51000"
       ]
      },
      {
       "output_type": "stream",
       "stream": "stdout",
       "text": [
        " 147737\n",
        "52000"
       ]
      },
      {
       "output_type": "stream",
       "stream": "stdout",
       "text": [
        " 147737\n",
        "53000"
       ]
      },
      {
       "output_type": "stream",
       "stream": "stdout",
       "text": [
        " 147737\n",
        "54000"
       ]
      },
      {
       "output_type": "stream",
       "stream": "stdout",
       "text": [
        " 147737\n",
        "55000"
       ]
      },
      {
       "output_type": "stream",
       "stream": "stdout",
       "text": [
        " 147737\n",
        "56000"
       ]
      },
      {
       "output_type": "stream",
       "stream": "stdout",
       "text": [
        " 147737\n",
        "57000"
       ]
      },
      {
       "output_type": "stream",
       "stream": "stdout",
       "text": [
        " 147737\n",
        "58000"
       ]
      },
      {
       "output_type": "stream",
       "stream": "stdout",
       "text": [
        " 147737\n",
        "59000"
       ]
      },
      {
       "output_type": "stream",
       "stream": "stdout",
       "text": [
        " 147737\n",
        "60000"
       ]
      },
      {
       "output_type": "stream",
       "stream": "stdout",
       "text": [
        " 147737\n",
        "61000"
       ]
      },
      {
       "output_type": "stream",
       "stream": "stdout",
       "text": [
        " 147737\n",
        "62000"
       ]
      },
      {
       "output_type": "stream",
       "stream": "stdout",
       "text": [
        " 147737\n",
        "63000"
       ]
      },
      {
       "output_type": "stream",
       "stream": "stdout",
       "text": [
        " 147737\n",
        "64000"
       ]
      },
      {
       "output_type": "stream",
       "stream": "stdout",
       "text": [
        " 147737\n",
        "65000"
       ]
      },
      {
       "output_type": "stream",
       "stream": "stdout",
       "text": [
        " 147737\n",
        "66000"
       ]
      },
      {
       "output_type": "stream",
       "stream": "stdout",
       "text": [
        " 147737\n",
        "67000"
       ]
      },
      {
       "output_type": "stream",
       "stream": "stdout",
       "text": [
        " 147737\n",
        "68000"
       ]
      },
      {
       "output_type": "stream",
       "stream": "stdout",
       "text": [
        " 147737\n",
        "69000"
       ]
      },
      {
       "output_type": "stream",
       "stream": "stdout",
       "text": [
        " 147737\n",
        "70000"
       ]
      },
      {
       "output_type": "stream",
       "stream": "stdout",
       "text": [
        " 147737\n",
        "71000"
       ]
      },
      {
       "output_type": "stream",
       "stream": "stdout",
       "text": [
        " 147737\n",
        "72000"
       ]
      },
      {
       "output_type": "stream",
       "stream": "stdout",
       "text": [
        " 147737\n",
        "73000"
       ]
      },
      {
       "output_type": "stream",
       "stream": "stdout",
       "text": [
        " 147737\n",
        "74000"
       ]
      },
      {
       "output_type": "stream",
       "stream": "stdout",
       "text": [
        " 147737\n",
        "75000"
       ]
      },
      {
       "output_type": "stream",
       "stream": "stdout",
       "text": [
        " 147737\n",
        "76000"
       ]
      },
      {
       "output_type": "stream",
       "stream": "stdout",
       "text": [
        " 147737\n",
        "77000"
       ]
      },
      {
       "output_type": "stream",
       "stream": "stdout",
       "text": [
        " 147737\n",
        "78000"
       ]
      },
      {
       "output_type": "stream",
       "stream": "stdout",
       "text": [
        " 147737\n",
        "79000"
       ]
      },
      {
       "output_type": "stream",
       "stream": "stdout",
       "text": [
        " 147737\n",
        "80000"
       ]
      },
      {
       "output_type": "stream",
       "stream": "stdout",
       "text": [
        " 147737\n",
        "81000"
       ]
      },
      {
       "output_type": "stream",
       "stream": "stdout",
       "text": [
        " 147737\n",
        "82000"
       ]
      },
      {
       "output_type": "stream",
       "stream": "stdout",
       "text": [
        " 147737\n",
        "83000"
       ]
      },
      {
       "output_type": "stream",
       "stream": "stdout",
       "text": [
        " 147737\n",
        "84000"
       ]
      },
      {
       "output_type": "stream",
       "stream": "stdout",
       "text": [
        " 147737\n",
        "85000"
       ]
      },
      {
       "output_type": "stream",
       "stream": "stdout",
       "text": [
        " 147737\n",
        "86000"
       ]
      },
      {
       "output_type": "stream",
       "stream": "stdout",
       "text": [
        " 147737\n",
        "87000"
       ]
      },
      {
       "output_type": "stream",
       "stream": "stdout",
       "text": [
        " 147737\n",
        "88000"
       ]
      },
      {
       "output_type": "stream",
       "stream": "stdout",
       "text": [
        " 147737\n",
        "89000"
       ]
      },
      {
       "output_type": "stream",
       "stream": "stdout",
       "text": [
        " 147737\n",
        "90000"
       ]
      },
      {
       "output_type": "stream",
       "stream": "stdout",
       "text": [
        " 147737\n",
        "91000"
       ]
      },
      {
       "output_type": "stream",
       "stream": "stdout",
       "text": [
        " 147737\n",
        "92000"
       ]
      },
      {
       "output_type": "stream",
       "stream": "stdout",
       "text": [
        " 147737\n",
        "93000"
       ]
      },
      {
       "output_type": "stream",
       "stream": "stdout",
       "text": [
        " 147737\n",
        "94000"
       ]
      },
      {
       "output_type": "stream",
       "stream": "stdout",
       "text": [
        " 147737\n",
        "95000"
       ]
      },
      {
       "output_type": "stream",
       "stream": "stdout",
       "text": [
        " 147737\n",
        "96000"
       ]
      },
      {
       "output_type": "stream",
       "stream": "stdout",
       "text": [
        " 147737\n",
        "97000"
       ]
      },
      {
       "output_type": "stream",
       "stream": "stdout",
       "text": [
        " 147737\n",
        "98000"
       ]
      },
      {
       "output_type": "stream",
       "stream": "stdout",
       "text": [
        " 147737\n",
        "99000"
       ]
      },
      {
       "output_type": "stream",
       "stream": "stdout",
       "text": [
        " 147737\n",
        "100000"
       ]
      },
      {
       "output_type": "stream",
       "stream": "stdout",
       "text": [
        " 147737\n",
        "101000"
       ]
      },
      {
       "output_type": "stream",
       "stream": "stdout",
       "text": [
        " 147737\n",
        "102000"
       ]
      },
      {
       "output_type": "stream",
       "stream": "stdout",
       "text": [
        " 147737\n",
        "103000"
       ]
      },
      {
       "output_type": "stream",
       "stream": "stdout",
       "text": [
        " 147737\n",
        "104000"
       ]
      },
      {
       "output_type": "stream",
       "stream": "stdout",
       "text": [
        " 147737\n",
        "105000"
       ]
      },
      {
       "output_type": "stream",
       "stream": "stdout",
       "text": [
        " 147737\n",
        "106000"
       ]
      },
      {
       "output_type": "stream",
       "stream": "stdout",
       "text": [
        " 147737\n",
        "107000"
       ]
      },
      {
       "output_type": "stream",
       "stream": "stdout",
       "text": [
        " 147737\n",
        "108000"
       ]
      },
      {
       "output_type": "stream",
       "stream": "stdout",
       "text": [
        " 147737\n",
        "109000"
       ]
      },
      {
       "output_type": "stream",
       "stream": "stdout",
       "text": [
        " 147737\n",
        "110000"
       ]
      },
      {
       "output_type": "stream",
       "stream": "stdout",
       "text": [
        " 147737\n",
        "111000"
       ]
      },
      {
       "output_type": "stream",
       "stream": "stdout",
       "text": [
        " 147737\n",
        "112000"
       ]
      },
      {
       "output_type": "stream",
       "stream": "stdout",
       "text": [
        " 147737\n",
        "113000"
       ]
      },
      {
       "output_type": "stream",
       "stream": "stdout",
       "text": [
        " 147737\n",
        "114000"
       ]
      },
      {
       "output_type": "stream",
       "stream": "stdout",
       "text": [
        " 147737\n",
        "115000"
       ]
      },
      {
       "output_type": "stream",
       "stream": "stdout",
       "text": [
        " 147737\n",
        "116000"
       ]
      },
      {
       "output_type": "stream",
       "stream": "stdout",
       "text": [
        " 147737\n",
        "117000"
       ]
      },
      {
       "output_type": "stream",
       "stream": "stdout",
       "text": [
        " 147737\n",
        "118000"
       ]
      },
      {
       "output_type": "stream",
       "stream": "stdout",
       "text": [
        " 147737\n",
        "119000"
       ]
      },
      {
       "output_type": "stream",
       "stream": "stdout",
       "text": [
        " 147737\n",
        "120000"
       ]
      },
      {
       "output_type": "stream",
       "stream": "stdout",
       "text": [
        " 147737\n",
        "121000"
       ]
      },
      {
       "output_type": "stream",
       "stream": "stdout",
       "text": [
        " 147737\n",
        "122000"
       ]
      },
      {
       "output_type": "stream",
       "stream": "stdout",
       "text": [
        " 147737\n",
        "123000"
       ]
      },
      {
       "output_type": "stream",
       "stream": "stdout",
       "text": [
        " 147737\n",
        "124000"
       ]
      },
      {
       "output_type": "stream",
       "stream": "stdout",
       "text": [
        " 147737\n",
        "125000"
       ]
      },
      {
       "output_type": "stream",
       "stream": "stdout",
       "text": [
        " 147737\n",
        "126000"
       ]
      },
      {
       "output_type": "stream",
       "stream": "stdout",
       "text": [
        " 147737\n",
        "127000"
       ]
      },
      {
       "output_type": "stream",
       "stream": "stdout",
       "text": [
        " 147737\n",
        "128000"
       ]
      },
      {
       "output_type": "stream",
       "stream": "stdout",
       "text": [
        " 147737\n",
        "129000"
       ]
      },
      {
       "output_type": "stream",
       "stream": "stdout",
       "text": [
        " 147737\n",
        "130000"
       ]
      },
      {
       "output_type": "stream",
       "stream": "stdout",
       "text": [
        " 147737\n",
        "131000"
       ]
      },
      {
       "output_type": "stream",
       "stream": "stdout",
       "text": [
        " 147737\n",
        "132000"
       ]
      },
      {
       "output_type": "stream",
       "stream": "stdout",
       "text": [
        " 147737\n",
        "133000"
       ]
      },
      {
       "output_type": "stream",
       "stream": "stdout",
       "text": [
        " 147737\n",
        "134000"
       ]
      },
      {
       "output_type": "stream",
       "stream": "stdout",
       "text": [
        " 147737\n",
        "135000"
       ]
      },
      {
       "output_type": "stream",
       "stream": "stdout",
       "text": [
        " 147737\n",
        "136000"
       ]
      },
      {
       "output_type": "stream",
       "stream": "stdout",
       "text": [
        " 147737\n",
        "137000"
       ]
      },
      {
       "output_type": "stream",
       "stream": "stdout",
       "text": [
        " 147737\n",
        "138000"
       ]
      },
      {
       "output_type": "stream",
       "stream": "stdout",
       "text": [
        " 147737\n",
        "139000"
       ]
      },
      {
       "output_type": "stream",
       "stream": "stdout",
       "text": [
        " 147737\n",
        "140000"
       ]
      },
      {
       "output_type": "stream",
       "stream": "stdout",
       "text": [
        " 147737\n",
        "141000"
       ]
      },
      {
       "output_type": "stream",
       "stream": "stdout",
       "text": [
        " 147737\n",
        "142000"
       ]
      },
      {
       "output_type": "stream",
       "stream": "stdout",
       "text": [
        " 147737\n",
        "143000"
       ]
      },
      {
       "output_type": "stream",
       "stream": "stdout",
       "text": [
        " 147737\n",
        "144000"
       ]
      },
      {
       "output_type": "stream",
       "stream": "stdout",
       "text": [
        " 147737\n",
        "145000"
       ]
      },
      {
       "output_type": "stream",
       "stream": "stdout",
       "text": [
        " 147737\n",
        "146000"
       ]
      },
      {
       "output_type": "stream",
       "stream": "stdout",
       "text": [
        " 147737\n",
        "147000"
       ]
      },
      {
       "output_type": "stream",
       "stream": "stdout",
       "text": [
        " 147737\n"
       ]
      }
     ],
     "prompt_number": 127
    },
    {
     "cell_type": "code",
     "collapsed": false,
     "input": [
      "clf()\n",
      "plot(data_in[:1000, :60])"
     ],
     "language": "python",
     "metadata": {},
     "outputs": [
      {
       "output_type": "pyout",
       "prompt_number": 10,
       "text": [
        "[<matplotlib.lines.Line2D at 0x10011d8c>,\n",
        " <matplotlib.lines.Line2D at 0x10011fec>,\n",
        " <matplotlib.lines.Line2D at 0x100181ec>,\n",
        " <matplotlib.lines.Line2D at 0x1001836c>,\n",
        " <matplotlib.lines.Line2D at 0x100184ec>,\n",
        " <matplotlib.lines.Line2D at 0x1001866c>,\n",
        " <matplotlib.lines.Line2D at 0x100187ec>,\n",
        " <matplotlib.lines.Line2D at 0xfff26ac>,\n",
        " <matplotlib.lines.Line2D at 0x10018aec>,\n",
        " <matplotlib.lines.Line2D at 0x10018c6c>,\n",
        " <matplotlib.lines.Line2D at 0x10018dec>,\n",
        " <matplotlib.lines.Line2D at 0x10018f6c>,\n",
        " <matplotlib.lines.Line2D at 0x1001c10c>,\n",
        " <matplotlib.lines.Line2D at 0x1001c28c>,\n",
        " <matplotlib.lines.Line2D at 0x1001894c>,\n",
        " <matplotlib.lines.Line2D at 0x1001c58c>,\n",
        " <matplotlib.lines.Line2D at 0x1001c70c>,\n",
        " <matplotlib.lines.Line2D at 0x1001c88c>,\n",
        " <matplotlib.lines.Line2D at 0x1001ca0c>,\n",
        " <matplotlib.lines.Line2D at 0x1001cb8c>,\n",
        " <matplotlib.lines.Line2D at 0x1001cd0c>,\n",
        " <matplotlib.lines.Line2D at 0x1001ce8c>,\n",
        " <matplotlib.lines.Line2D at 0x1001cfec>,\n",
        " <matplotlib.lines.Line2D at 0x100211ac>,\n",
        " <matplotlib.lines.Line2D at 0x1002132c>,\n",
        " <matplotlib.lines.Line2D at 0x100214ac>,\n",
        " <matplotlib.lines.Line2D at 0x1002162c>,\n",
        " <matplotlib.lines.Line2D at 0x100217ac>,\n",
        " <matplotlib.lines.Line2D at 0x1001ce6c>,\n",
        " <matplotlib.lines.Line2D at 0x10021aac>,\n",
        " <matplotlib.lines.Line2D at 0x10021c2c>,\n",
        " <matplotlib.lines.Line2D at 0x10021dac>,\n",
        " <matplotlib.lines.Line2D at 0x10021f2c>,\n",
        " <matplotlib.lines.Line2D at 0x100260cc>,\n",
        " <matplotlib.lines.Line2D at 0x1002624c>,\n",
        " <matplotlib.lines.Line2D at 0x1002190c>,\n",
        " <matplotlib.lines.Line2D at 0x1002654c>,\n",
        " <matplotlib.lines.Line2D at 0x100266cc>,\n",
        " <matplotlib.lines.Line2D at 0x1002684c>,\n",
        " <matplotlib.lines.Line2D at 0x100269cc>,\n",
        " <matplotlib.lines.Line2D at 0x10026b4c>,\n",
        " <matplotlib.lines.Line2D at 0x10026ccc>,\n",
        " <matplotlib.lines.Line2D at 0x10026e4c>,\n",
        " <matplotlib.lines.Line2D at 0x10026fcc>,\n",
        " <matplotlib.lines.Line2D at 0x1002a16c>,\n",
        " <matplotlib.lines.Line2D at 0x1002a2ec>,\n",
        " <matplotlib.lines.Line2D at 0x1002a46c>,\n",
        " <matplotlib.lines.Line2D at 0x1002a5ec>,\n",
        " <matplotlib.lines.Line2D at 0x1002a76c>,\n",
        " <matplotlib.lines.Line2D at 0x10026e2c>,\n",
        " <matplotlib.lines.Line2D at 0x1002aa6c>,\n",
        " <matplotlib.lines.Line2D at 0x1002abec>,\n",
        " <matplotlib.lines.Line2D at 0x1002ad6c>,\n",
        " <matplotlib.lines.Line2D at 0x1002aeec>,\n",
        " <matplotlib.lines.Line2D at 0x1003008c>,\n",
        " <matplotlib.lines.Line2D at 0x1003020c>,\n",
        " <matplotlib.lines.Line2D at 0x1002a8cc>,\n",
        " <matplotlib.lines.Line2D at 0x1003050c>,\n",
        " <matplotlib.lines.Line2D at 0x1003068c>,\n",
        " <matplotlib.lines.Line2D at 0x1003080c>]"
       ]
      }
     ],
     "prompt_number": 10
    },
    {
     "cell_type": "code",
     "collapsed": false,
     "input": [
      "data_in = loadtxt(\"data_in.txt\")\n",
      "data_l0 = loadtxt(\"data_l0.txt\")\n",
      "data_l1 = loadtxt(\"data_l1.txt\")"
     ],
     "language": "python",
     "metadata": {},
     "outputs": [],
     "prompt_number": 6
    },
    {
     "cell_type": "code",
     "collapsed": false,
     "input": [
      "from sklearn import *"
     ],
     "language": "python",
     "metadata": {},
     "outputs": [],
     "prompt_number": 7
    },
    {
     "cell_type": "code",
     "collapsed": false,
     "input": [
      "#lins = [linear_model.LogisticRegression() for i in range(K)]\n",
      "lins = [svm.LinearSVC(dual=False, class_weight={0:1, 1:20}, tol=0.00000001, penalty=\"l1\") for i in range(K)]"
     ],
     "language": "python",
     "metadata": {},
     "outputs": [],
     "prompt_number": 146
    },
    {
     "cell_type": "code",
     "collapsed": false,
     "input": [
      "flag = zeros(88)\n"
     ],
     "language": "python",
     "metadata": {},
     "outputs": [],
     "prompt_number": 147
    },
    {
     "cell_type": "code",
     "collapsed": false,
     "input": [
      "for i in range(K):\n",
      "    print i\n",
      "    if sum(data_in[1:10001, i])==0:\n",
      "        flag[i] = 1\n",
      "    else:\n",
      "#    data_in[0,i] = 1\n",
      "#    lins[i].fit(data_l1[:10000], vectorize(int, otypes=[int])(data_in[1:10001,i]))\n",
      "        lins[i].fit(data_l1[:140000], vectorize(int, otypes=[int])(data_in[1:140001,i]))"
     ],
     "language": "python",
     "metadata": {},
     "outputs": [
      {
       "output_type": "stream",
       "stream": "stdout",
       "text": [
        "0\n",
        "1\n",
        "2\n",
        "3\n",
        "4\n",
        "5\n",
        "6\n",
        "7\n",
        "8\n",
        "9\n",
        "10\n",
        "11\n",
        "12\n",
        "13\n",
        "14\n",
        "15\n",
        "16"
       ]
      },
      {
       "output_type": "stream",
       "stream": "stdout",
       "text": [
        "\n",
        "17\n",
        "18"
       ]
      },
      {
       "output_type": "stream",
       "stream": "stdout",
       "text": [
        "\n",
        "19\n",
        "20"
       ]
      },
      {
       "output_type": "stream",
       "stream": "stdout",
       "text": [
        "\n",
        "21"
       ]
      },
      {
       "output_type": "stream",
       "stream": "stdout",
       "text": [
        "\n",
        "22\n",
        "23"
       ]
      },
      {
       "output_type": "stream",
       "stream": "stdout",
       "text": [
        "\n",
        "24\n",
        "25"
       ]
      },
      {
       "output_type": "stream",
       "stream": "stdout",
       "text": [
        "\n",
        "26\n",
        "27"
       ]
      },
      {
       "output_type": "stream",
       "stream": "stdout",
       "text": [
        "\n",
        "28"
       ]
      },
      {
       "output_type": "stream",
       "stream": "stdout",
       "text": [
        "\n",
        "29"
       ]
      },
      {
       "output_type": "stream",
       "stream": "stdout",
       "text": [
        "\n",
        "30"
       ]
      },
      {
       "output_type": "stream",
       "stream": "stdout",
       "text": [
        "\n",
        "31"
       ]
      },
      {
       "output_type": "stream",
       "stream": "stdout",
       "text": [
        "\n",
        "32"
       ]
      },
      {
       "output_type": "stream",
       "stream": "stdout",
       "text": [
        "\n",
        "33"
       ]
      },
      {
       "output_type": "stream",
       "stream": "stdout",
       "text": [
        "\n",
        "34"
       ]
      },
      {
       "output_type": "stream",
       "stream": "stdout",
       "text": [
        "\n",
        "35"
       ]
      },
      {
       "output_type": "stream",
       "stream": "stdout",
       "text": [
        "\n",
        "36"
       ]
      },
      {
       "output_type": "stream",
       "stream": "stdout",
       "text": [
        "\n",
        "37"
       ]
      },
      {
       "output_type": "stream",
       "stream": "stdout",
       "text": [
        "\n",
        "38"
       ]
      },
      {
       "output_type": "stream",
       "stream": "stdout",
       "text": [
        "\n",
        "39"
       ]
      },
      {
       "output_type": "stream",
       "stream": "stdout",
       "text": [
        "\n",
        "40"
       ]
      },
      {
       "output_type": "stream",
       "stream": "stdout",
       "text": [
        "\n",
        "41"
       ]
      },
      {
       "output_type": "stream",
       "stream": "stdout",
       "text": [
        "\n",
        "42"
       ]
      },
      {
       "output_type": "stream",
       "stream": "stdout",
       "text": [
        "\n",
        "43"
       ]
      },
      {
       "output_type": "stream",
       "stream": "stdout",
       "text": [
        "\n",
        "44"
       ]
      },
      {
       "output_type": "stream",
       "stream": "stdout",
       "text": [
        "\n",
        "45"
       ]
      },
      {
       "output_type": "stream",
       "stream": "stdout",
       "text": [
        "\n",
        "46"
       ]
      },
      {
       "output_type": "stream",
       "stream": "stdout",
       "text": [
        "\n",
        "47"
       ]
      },
      {
       "output_type": "stream",
       "stream": "stdout",
       "text": [
        "\n",
        "48"
       ]
      },
      {
       "output_type": "stream",
       "stream": "stdout",
       "text": [
        "\n",
        "49"
       ]
      },
      {
       "output_type": "stream",
       "stream": "stdout",
       "text": [
        "\n",
        "50"
       ]
      },
      {
       "output_type": "stream",
       "stream": "stdout",
       "text": [
        "\n",
        "51"
       ]
      },
      {
       "output_type": "stream",
       "stream": "stdout",
       "text": [
        "\n",
        "52"
       ]
      },
      {
       "output_type": "stream",
       "stream": "stdout",
       "text": [
        "\n",
        "53"
       ]
      },
      {
       "output_type": "stream",
       "stream": "stdout",
       "text": [
        "\n",
        "54"
       ]
      },
      {
       "output_type": "stream",
       "stream": "stdout",
       "text": [
        "\n",
        "55"
       ]
      },
      {
       "output_type": "stream",
       "stream": "stdout",
       "text": [
        "\n",
        "56"
       ]
      },
      {
       "output_type": "stream",
       "stream": "stdout",
       "text": [
        "\n",
        "57"
       ]
      },
      {
       "output_type": "stream",
       "stream": "stdout",
       "text": [
        "\n",
        "58"
       ]
      },
      {
       "output_type": "stream",
       "stream": "stdout",
       "text": [
        "\n",
        "59"
       ]
      },
      {
       "output_type": "stream",
       "stream": "stdout",
       "text": [
        "\n",
        "60"
       ]
      },
      {
       "output_type": "stream",
       "stream": "stdout",
       "text": [
        "\n",
        "61"
       ]
      },
      {
       "output_type": "stream",
       "stream": "stdout",
       "text": [
        "\n",
        "62"
       ]
      },
      {
       "output_type": "stream",
       "stream": "stdout",
       "text": [
        "\n",
        "63"
       ]
      },
      {
       "output_type": "stream",
       "stream": "stdout",
       "text": [
        "\n",
        "64"
       ]
      },
      {
       "output_type": "stream",
       "stream": "stdout",
       "text": [
        "\n",
        "65\n",
        "66\n",
        "67\n",
        "68"
       ]
      },
      {
       "output_type": "stream",
       "stream": "stdout",
       "text": [
        "\n",
        "69\n",
        "70\n",
        "71\n",
        "72\n",
        "73\n",
        "74\n",
        "75\n",
        "76\n",
        "77\n",
        "78\n",
        "79\n",
        "80\n",
        "81\n",
        "82\n",
        "83\n",
        "84\n",
        "85\n",
        "86\n",
        "87\n"
       ]
      }
     ],
     "prompt_number": 148
    },
    {
     "cell_type": "code",
     "collapsed": false,
     "input": [
      "plot(0)"
     ],
     "language": "python",
     "metadata": {},
     "outputs": [],
     "prompt_number": "*"
    },
    {
     "cell_type": "code",
     "collapsed": false,
     "input": [],
     "language": "python",
     "metadata": {},
     "outputs": [],
     "prompt_number": "*"
    },
    {
     "cell_type": "code",
     "collapsed": false,
     "input": [
      "T = 2000\n",
      "# generate midi\n",
      "vfunc = vectorize(tanh, otypes=[float])\n",
      "x1 = zeros(N, dtype=float)\n",
      "x2 = zeros(N, dtype=float)\n",
      "pred = zeros(K, dtype=float)\n",
      "preds = zeros((T, K), dtype=float)\n",
      "\n",
      "\n",
      "for k in range(5):\n",
      "    a = dataset[k]\n",
      "    for i in range(N):\n",
      "        x1[i] = random.uniform(-1, 1)\n",
      "        x2[i] = random.uniform(-1, 1)\n",
      "    for i in range(a.shape[0]):\n",
      "        nx1 = dot(V1, x1) + dot(transpose(V12), x2)\n",
      "        nx1 += alpha*dot(U, a[i,:])\n",
      "        nx2 = dot(V2, x2) + dot(V12, x1)\n",
      "        x1 = 0*x1 + 1*vfunc(nx1)\n",
      "        x2 = 0.7*x2 + 0.3*vfunc(nx2)\n",
      "\n",
      "\n",
      "a = dataset[100]\n",
      "\n",
      "t = 0\n",
      "sumerr = 0\n",
      "for i in range(a.shape[0]):\n",
      "    sumerr += sum((pred-a[i,:])**2)\n",
      "    if t%1000==0:\n",
      "        print t, T\n",
      "    nx1 = dot(V1, x1) + dot(transpose(V12), x2)\n",
      "    if i<200:\n",
      "        nx1 += alpha*dot(U, a[i,:])\n",
      "    else:\n",
      "        nx1 += alpha*dot(U, pred)\n",
      "    nx2 = dot(V2, x2) + dot(V12, x1)\n",
      "    x1 = 0*x1 + 1*vfunc(nx1)\n",
      "    x2 = 0.7*x2 + 0.3*vfunc(nx2)\n",
      "#    pred = lins[0].predict(x2)\n",
      "    for k in range(K):\n",
      "        if flag[k]==1:\n",
      "            pred[k] = 0\n",
      "        else:\n",
      "            pred[k] = lins[k].predict(x2)\n",
      "#        if i>=20 and random.uniform(0, 1)<0.1:\n",
      "#            pred[k] = 0\n",
      "    preds[i,:] = pred[:]\n",
      "    t += 1\n",
      "print sumerr / a.shape[0]"
     ],
     "language": "python",
     "metadata": {},
     "outputs": [
      {
       "output_type": "stream",
       "stream": "stdout",
       "text": [
        "0 2000\n",
        "12.3788819876"
       ]
      },
      {
       "output_type": "stream",
       "stream": "stdout",
       "text": [
        "\n"
       ]
      }
     ],
     "prompt_number": 162
    },
    {
     "cell_type": "code",
     "collapsed": false,
     "input": [
      "midiwrite(\"test_100.midi\", preds, (21, 109), 0.3)\n",
      "midiwrite(\"test_100_.midi\", a, (21, 109), 0.3)"
     ],
     "language": "python",
     "metadata": {},
     "outputs": [],
     "prompt_number": 163
    },
    {
     "cell_type": "code",
     "collapsed": false,
     "input": [
      "a.shape"
     ],
     "language": "python",
     "metadata": {},
     "outputs": [
      {
       "output_type": "pyout",
       "prompt_number": 161,
       "text": [
        "(162, 88)"
       ]
      }
     ],
     "prompt_number": 161
    },
    {
     "cell_type": "code",
     "collapsed": false,
     "input": [
      "clf()\n",
      "plot(preds[0:100,:])"
     ],
     "language": "python",
     "metadata": {},
     "outputs": [
      {
       "output_type": "pyout",
       "prompt_number": 152,
       "text": [
        "[<matplotlib.lines.Line2D at 0x14ebf46c>,\n",
        " <matplotlib.lines.Line2D at 0x4045506c>,\n",
        " <matplotlib.lines.Line2D at 0x4045546c>,\n",
        " <matplotlib.lines.Line2D at 0x4045562c>,\n",
        " <matplotlib.lines.Line2D at 0x404557ac>,\n",
        " <matplotlib.lines.Line2D at 0x4045592c>,\n",
        " <matplotlib.lines.Line2D at 0x40455aac>,\n",
        " <matplotlib.lines.Line2D at 0x41a1460c>,\n",
        " <matplotlib.lines.Line2D at 0x40455dac>,\n",
        " <matplotlib.lines.Line2D at 0x40455f2c>,\n",
        " <matplotlib.lines.Line2D at 0x4045e0cc>,\n",
        " <matplotlib.lines.Line2D at 0x4045e24c>,\n",
        " <matplotlib.lines.Line2D at 0x4045e3cc>,\n",
        " <matplotlib.lines.Line2D at 0x4045e54c>,\n",
        " <matplotlib.lines.Line2D at 0x40455c0c>,\n",
        " <matplotlib.lines.Line2D at 0x4045e84c>,\n",
        " <matplotlib.lines.Line2D at 0x4045e9cc>,\n",
        " <matplotlib.lines.Line2D at 0x4045eb4c>,\n",
        " <matplotlib.lines.Line2D at 0x4045eccc>,\n",
        " <matplotlib.lines.Line2D at 0x4045ee4c>,\n",
        " <matplotlib.lines.Line2D at 0x4045efcc>,\n",
        " <matplotlib.lines.Line2D at 0x4045e6ac>,\n",
        " <matplotlib.lines.Line2D at 0x404632ec>,\n",
        " <matplotlib.lines.Line2D at 0x4046346c>,\n",
        " <matplotlib.lines.Line2D at 0x404635ec>,\n",
        " <matplotlib.lines.Line2D at 0x4046376c>,\n",
        " <matplotlib.lines.Line2D at 0x404638ec>,\n",
        " <matplotlib.lines.Line2D at 0x40463a6c>,\n",
        " <matplotlib.lines.Line2D at 0x40463bec>,\n",
        " <matplotlib.lines.Line2D at 0x40463d6c>,\n",
        " <matplotlib.lines.Line2D at 0x40463eec>,\n",
        " <matplotlib.lines.Line2D at 0x42e8808c>,\n",
        " <matplotlib.lines.Line2D at 0x42e8820c>,\n",
        " <matplotlib.lines.Line2D at 0x42e8838c>,\n",
        " <matplotlib.lines.Line2D at 0x42e8850c>,\n",
        " <matplotlib.lines.Line2D at 0x40463bcc>,\n",
        " <matplotlib.lines.Line2D at 0x42e8880c>,\n",
        " <matplotlib.lines.Line2D at 0x42e8898c>,\n",
        " <matplotlib.lines.Line2D at 0x42e88b0c>,\n",
        " <matplotlib.lines.Line2D at 0x42e88c8c>,\n",
        " <matplotlib.lines.Line2D at 0x42e88e0c>,\n",
        " <matplotlib.lines.Line2D at 0x42e88f8c>,\n",
        " <matplotlib.lines.Line2D at 0x42e8866c>,\n",
        " <matplotlib.lines.Line2D at 0x42e8c2ac>,\n",
        " <matplotlib.lines.Line2D at 0x42e8c42c>,\n",
        " <matplotlib.lines.Line2D at 0x42e8c5ac>,\n",
        " <matplotlib.lines.Line2D at 0x42e8c72c>,\n",
        " <matplotlib.lines.Line2D at 0x42e8c8ac>,\n",
        " <matplotlib.lines.Line2D at 0x42e8ca2c>,\n",
        " <matplotlib.lines.Line2D at 0x42e8cbac>,\n",
        " <matplotlib.lines.Line2D at 0x42e8cd2c>,\n",
        " <matplotlib.lines.Line2D at 0x42e8ceac>,\n",
        " <matplotlib.lines.Line2D at 0x42e9104c>,\n",
        " <matplotlib.lines.Line2D at 0x42e911cc>,\n",
        " <matplotlib.lines.Line2D at 0x42e9134c>,\n",
        " <matplotlib.lines.Line2D at 0x42e914cc>,\n",
        " <matplotlib.lines.Line2D at 0x42e8cb8c>,\n",
        " <matplotlib.lines.Line2D at 0x42e917cc>,\n",
        " <matplotlib.lines.Line2D at 0x42e9194c>,\n",
        " <matplotlib.lines.Line2D at 0x42e91acc>,\n",
        " <matplotlib.lines.Line2D at 0x42e91c4c>,\n",
        " <matplotlib.lines.Line2D at 0x42e91dcc>,\n",
        " <matplotlib.lines.Line2D at 0x42e91f4c>,\n",
        " <matplotlib.lines.Line2D at 0x42e9162c>,\n",
        " <matplotlib.lines.Line2D at 0x42e9526c>,\n",
        " <matplotlib.lines.Line2D at 0x42e953ec>,\n",
        " <matplotlib.lines.Line2D at 0x42e9556c>,\n",
        " <matplotlib.lines.Line2D at 0x42e956ec>,\n",
        " <matplotlib.lines.Line2D at 0x42e9586c>,\n",
        " <matplotlib.lines.Line2D at 0x42e959ec>,\n",
        " <matplotlib.lines.Line2D at 0x42e95b6c>,\n",
        " <matplotlib.lines.Line2D at 0x42e95cec>,\n",
        " <matplotlib.lines.Line2D at 0x42e95e6c>,\n",
        " <matplotlib.lines.Line2D at 0x42e95fec>,\n",
        " <matplotlib.lines.Line2D at 0x42e9a18c>,\n",
        " <matplotlib.lines.Line2D at 0x42e9a30c>,\n",
        " <matplotlib.lines.Line2D at 0x42e9a48c>,\n",
        " <matplotlib.lines.Line2D at 0x42e95b4c>,\n",
        " <matplotlib.lines.Line2D at 0x42e9a78c>,\n",
        " <matplotlib.lines.Line2D at 0x42e9a90c>,\n",
        " <matplotlib.lines.Line2D at 0x42e9aa8c>,\n",
        " <matplotlib.lines.Line2D at 0x42e9ac0c>,\n",
        " <matplotlib.lines.Line2D at 0x42e9ad8c>,\n",
        " <matplotlib.lines.Line2D at 0x42e9af0c>,\n",
        " <matplotlib.lines.Line2D at 0x42e9a5ec>,\n",
        " <matplotlib.lines.Line2D at 0x42e9f22c>,\n",
        " <matplotlib.lines.Line2D at 0x42e9f3ac>,\n",
        " <matplotlib.lines.Line2D at 0x42e9f52c>]"
       ]
      }
     ],
     "prompt_number": 152
    },
    {
     "cell_type": "code",
     "collapsed": false,
     "input": [
      "hoge = array([1,2,3,4,5])\n",
      "print hoge[:-1]"
     ],
     "language": "python",
     "metadata": {},
     "outputs": [
      {
       "output_type": "stream",
       "stream": "stdout",
       "text": [
        "[1 2 3 4]\n"
       ]
      }
     ],
     "prompt_number": 24
    },
    {
     "cell_type": "code",
     "collapsed": false,
     "input": [
      "preds[:10]"
     ],
     "language": "python",
     "metadata": {},
     "outputs": [
      {
       "output_type": "pyout",
       "prompt_number": 76,
       "text": [
        "array([[ 0.,  0.,  0.,  0.,  0.,  0.,  0.,  0.,  0.,  0.,  0.,  0.,  0.,\n",
        "         0.,  0.,  1.,  0.,  1.,  0.,  1.,  1.,  1.,  1.,  0.,  1.,  0.,\n",
        "         1.,  0.,  0.,  0.,  0.,  0.,  0.,  0.,  0.,  0.,  0.,  0.,  0.,\n",
        "         0.,  0.,  0.,  0.,  0.,  0.,  0.,  0.,  0.,  0.,  0.,  0.,  1.,\n",
        "         0.,  1.,  1.,  0.,  1.,  1.,  1.,  0.,  0.,  0.,  0.,  0.,  0.,\n",
        "         0.,  0.,  0.,  0.,  0.,  0.,  0.,  0.,  0.,  0.,  0.,  0.,  0.,\n",
        "         0.,  0.,  0.,  0.,  0.,  0.,  0.,  0.,  0.,  0.],\n",
        "       [ 1.,  1.,  1.,  1.,  1.,  1.,  1.,  1.,  1.,  1.,  1.,  1.,  1.,\n",
        "         1.,  1.,  1.,  1.,  1.,  0.,  1.,  1.,  1.,  1.,  1.,  1.,  0.,\n",
        "         1.,  0.,  0.,  0.,  0.,  0.,  0.,  0.,  0.,  0.,  0.,  0.,  0.,\n",
        "         0.,  0.,  0.,  0.,  0.,  0.,  0.,  0.,  0.,  0.,  0.,  0.,  1.,\n",
        "         0.,  1.,  1.,  0.,  1.,  1.,  0.,  0.,  0.,  0.,  0.,  0.,  0.,\n",
        "         0.,  1.,  0.,  1.,  1.,  1.,  1.,  1.,  1.,  1.,  1.,  1.,  1.,\n",
        "         1.,  1.,  1.,  1.,  1.,  1.,  1.,  1.,  1.,  1.],\n",
        "       [ 1.,  1.,  1.,  1.,  1.,  1.,  1.,  1.,  1.,  1.,  1.,  1.,  1.,\n",
        "         1.,  1.,  1.,  1.,  1.,  0.,  1.,  1.,  1.,  1.,  1.,  1.,  0.,\n",
        "         1.,  0.,  0.,  0.,  0.,  0.,  0.,  0.,  0.,  0.,  0.,  0.,  0.,\n",
        "         0.,  0.,  0.,  0.,  0.,  0.,  0.,  0.,  0.,  0.,  1.,  0.,  1.,\n",
        "         0.,  1.,  1.,  1.,  1.,  1.,  1.,  0.,  1.,  0.,  0.,  0.,  0.,\n",
        "         0.,  1.,  0.,  1.,  1.,  1.,  1.,  1.,  1.,  1.,  1.,  1.,  1.,\n",
        "         1.,  1.,  1.,  1.,  1.,  1.,  1.,  1.,  1.,  1.],\n",
        "       [ 0.,  0.,  0.,  0.,  0.,  0.,  0.,  0.,  0.,  0.,  0.,  0.,  0.,\n",
        "         0.,  0.,  1.,  1.,  1.,  0.,  1.,  1.,  1.,  1.,  0.,  1.,  0.,\n",
        "         1.,  0.,  0.,  0.,  0.,  0.,  0.,  0.,  0.,  0.,  0.,  0.,  1.,\n",
        "         0.,  0.,  0.,  0.,  0.,  0.,  0.,  0.,  0.,  0.,  1.,  1.,  1.,\n",
        "         0.,  1.,  1.,  1.,  1.,  1.,  1.,  0.,  0.,  0.,  0.,  0.,  0.,\n",
        "         0.,  0.,  0.,  0.,  0.,  0.,  0.,  0.,  0.,  0.,  0.,  0.,  0.,\n",
        "         0.,  0.,  0.,  0.,  0.,  0.,  0.,  0.,  0.,  0.],\n",
        "       [ 0.,  0.,  0.,  0.,  0.,  0.,  0.,  0.,  0.,  0.,  0.,  0.,  0.,\n",
        "         0.,  0.,  1.,  1.,  1.,  0.,  1.,  1.,  1.,  1.,  0.,  1.,  1.,\n",
        "         1.,  0.,  1.,  0.,  0.,  1.,  0.,  0.,  0.,  0.,  0.,  0.,  1.,\n",
        "         0.,  0.,  1.,  0.,  0.,  1.,  0.,  0.,  0.,  0.,  1.,  1.,  1.,\n",
        "         0.,  1.,  1.,  1.,  1.,  1.,  1.,  1.,  1.,  0.,  0.,  0.,  0.,\n",
        "         0.,  0.,  0.,  0.,  0.,  0.,  0.,  0.,  0.,  0.,  0.,  0.,  0.,\n",
        "         0.,  0.,  0.,  0.,  0.,  0.,  0.,  0.,  0.,  0.],\n",
        "       [ 0.,  0.,  0.,  0.,  0.,  0.,  0.,  0.,  0.,  0.,  0.,  0.,  0.,\n",
        "         0.,  0.,  1.,  1.,  1.,  0.,  1.,  1.,  1.,  1.,  0.,  1.,  0.,\n",
        "         1.,  0.,  1.,  0.,  0.,  1.,  0.,  0.,  0.,  1.,  0.,  0.,  1.,\n",
        "         1.,  0.,  0.,  0.,  0.,  1.,  0.,  0.,  0.,  0.,  1.,  0.,  1.,\n",
        "         1.,  1.,  1.,  1.,  1.,  1.,  1.,  1.,  1.,  0.,  0.,  0.,  0.,\n",
        "         0.,  0.,  0.,  0.,  0.,  0.,  0.,  0.,  0.,  0.,  0.,  0.,  0.,\n",
        "         0.,  0.,  0.,  0.,  0.,  0.,  0.,  0.,  0.,  0.],\n",
        "       [ 0.,  0.,  0.,  0.,  0.,  0.,  0.,  0.,  0.,  0.,  0.,  0.,  0.,\n",
        "         0.,  0.,  1.,  1.,  1.,  0.,  1.,  1.,  1.,  1.,  0.,  1.,  0.,\n",
        "         1.,  0.,  1.,  0.,  0.,  1.,  0.,  0.,  0.,  1.,  0.,  1.,  1.,\n",
        "         1.,  0.,  0.,  0.,  0.,  1.,  0.,  0.,  0.,  0.,  1.,  0.,  1.,\n",
        "         1.,  1.,  1.,  1.,  1.,  1.,  1.,  1.,  1.,  0.,  1.,  0.,  0.,\n",
        "         0.,  0.,  0.,  0.,  0.,  0.,  0.,  0.,  0.,  0.,  0.,  0.,  0.,\n",
        "         0.,  0.,  0.,  0.,  0.,  0.,  0.,  0.,  0.,  0.],\n",
        "       [ 0.,  0.,  0.,  0.,  0.,  0.,  0.,  0.,  0.,  0.,  0.,  0.,  0.,\n",
        "         0.,  0.,  1.,  1.,  1.,  0.,  1.,  1.,  0.,  1.,  0.,  1.,  0.,\n",
        "         1.,  0.,  1.,  0.,  0.,  1.,  1.,  0.,  0.,  1.,  0.,  1.,  0.,\n",
        "         1.,  0.,  0.,  0.,  0.,  1.,  0.,  0.,  0.,  0.,  1.,  0.,  1.,\n",
        "         1.,  1.,  1.,  1.,  1.,  1.,  1.,  1.,  1.,  0.,  1.,  1.,  0.,\n",
        "         0.,  0.,  0.,  0.,  0.,  0.,  0.,  0.,  0.,  0.,  0.,  0.,  0.,\n",
        "         0.,  0.,  0.,  0.,  0.,  0.,  0.,  0.,  0.,  0.],\n",
        "       [ 0.,  0.,  0.,  0.,  0.,  0.,  0.,  0.,  0.,  0.,  0.,  0.,  0.,\n",
        "         0.,  0.,  1.,  1.,  1.,  0.,  1.,  1.,  0.,  1.,  0.,  1.,  1.,\n",
        "         1.,  0.,  1.,  0.,  0.,  1.,  1.,  0.,  0.,  1.,  0.,  1.,  0.,\n",
        "         1.,  0.,  0.,  1.,  0.,  1.,  0.,  0.,  0.,  0.,  1.,  0.,  1.,\n",
        "         1.,  1.,  1.,  1.,  1.,  1.,  1.,  1.,  1.,  1.,  1.,  1.,  0.,\n",
        "         0.,  0.,  0.,  0.,  0.,  0.,  0.,  0.,  0.,  0.,  0.,  0.,  0.,\n",
        "         0.,  0.,  0.,  0.,  0.,  0.,  0.,  0.,  0.,  0.],\n",
        "       [ 0.,  0.,  0.,  0.,  0.,  0.,  0.,  0.,  0.,  0.,  0.,  0.,  0.,\n",
        "         0.,  0.,  1.,  1.,  1.,  1.,  1.,  1.,  1.,  1.,  0.,  1.,  1.,\n",
        "         1.,  0.,  1.,  0.,  0.,  1.,  1.,  1.,  0.,  1.,  1.,  1.,  0.,\n",
        "         1.,  0.,  0.,  1.,  0.,  1.,  0.,  0.,  0.,  0.,  1.,  0.,  1.,\n",
        "         0.,  1.,  1.,  1.,  1.,  1.,  1.,  1.,  1.,  1.,  1.,  1.,  0.,\n",
        "         0.,  0.,  0.,  0.,  0.,  0.,  0.,  0.,  0.,  0.,  0.,  0.,  0.,\n",
        "         0.,  0.,  0.,  0.,  0.,  0.,  0.,  0.,  0.,  0.]])"
       ]
      }
     ],
     "prompt_number": 76
    },
    {
     "cell_type": "code",
     "collapsed": false,
     "input": [
      "glob.glob(\"../../../../Downloads/Nottingham/train/*\")"
     ],
     "language": "python",
     "metadata": {},
     "outputs": [
      {
       "output_type": "pyout",
       "prompt_number": 105,
       "text": [
        "['../../../../Downloads/Nottingham/train/jigs_simple_chords_242.mid',\n",
        " '../../../../Downloads/Nottingham/train/jigs_simple_chords_249.mid',\n",
        " '../../../../Downloads/Nottingham/train/jigs_simple_chords_2.mid',\n",
        " '../../../../Downloads/Nottingham/train/hpps_simple_chords_33.mid',\n",
        " '../../../../Downloads/Nottingham/train/jigs_simple_chords_308.mid',\n",
        " '../../../../Downloads/Nottingham/train/morris_simple_chords_26.mid',\n",
        " '../../../../Downloads/Nottingham/train/reels_simple_chords_170.mid',\n",
        " '../../../../Downloads/Nottingham/train/reels_simple_chords_297.mid',\n",
        " '../../../../Downloads/Nottingham/train/reels_simple_chords_79.mid',\n",
        " '../../../../Downloads/Nottingham/train/jigs_simple_chords_87.mid',\n",
        " '../../../../Downloads/Nottingham/train/xmas_simple_chords_1.mid',\n",
        " '../../../../Downloads/Nottingham/train/reels_simple_chords_279.mid',\n",
        " '../../../../Downloads/Nottingham/train/jigs_simple_chords_25.mid',\n",
        " '../../../../Downloads/Nottingham/train/reels_simple_chords_205.mid',\n",
        " '../../../../Downloads/Nottingham/train/ashover_simple_chords_9.mid',\n",
        " '../../../../Downloads/Nottingham/train/jigs_simple_chords_213.mid',\n",
        " '../../../../Downloads/Nottingham/train/jigs_simple_chords_44.mid',\n",
        " '../../../../Downloads/Nottingham/train/hpps_simple_chords_37.mid',\n",
        " '../../../../Downloads/Nottingham/train/reels_simple_chords_146.mid',\n",
        " '../../../../Downloads/Nottingham/train/waltzes_simple_chords_26.mid',\n",
        " '../../../../Downloads/Nottingham/train/reels_simple_chords_20.mid',\n",
        " '../../../../Downloads/Nottingham/train/waltzes_simple_chords_27.mid',\n",
        " '../../../../Downloads/Nottingham/train/jigs_simple_chords_99.mid',\n",
        " '../../../../Downloads/Nottingham/train/reels_simple_chords_270.mid',\n",
        " '../../../../Downloads/Nottingham/train/slip_simple_chords_6.mid',\n",
        " '../../../../Downloads/Nottingham/train/reels_simple_chords_289.mid',\n",
        " '../../../../Downloads/Nottingham/train/jigs_simple_chords_270.mid',\n",
        " '../../../../Downloads/Nottingham/train/jigs_simple_chords_206.mid',\n",
        " '../../../../Downloads/Nottingham/train/jigs_simple_chords_325.mid',\n",
        " '../../../../Downloads/Nottingham/train/jigs_simple_chords_26.mid',\n",
        " '../../../../Downloads/Nottingham/train/slip_simple_chords_8.mid',\n",
        " '../../../../Downloads/Nottingham/train/jigs_simple_chords_102.mid',\n",
        " '../../../../Downloads/Nottingham/train/reels_simple_chords_165.mid',\n",
        " '../../../../Downloads/Nottingham/train/reels_simple_chords_277.mid',\n",
        " '../../../../Downloads/Nottingham/train/reels_simple_chords_397.mid',\n",
        " '../../../../Downloads/Nottingham/train/jigs_simple_chords_144.mid',\n",
        " '../../../../Downloads/Nottingham/train/slip_simple_chords_3.mid',\n",
        " '../../../../Downloads/Nottingham/train/jigs_simple_chords_72.mid',\n",
        " '../../../../Downloads/Nottingham/train/jigs_simple_chords_177.mid',\n",
        " '../../../../Downloads/Nottingham/train/reels_simple_chords_224.mid',\n",
        " '../../../../Downloads/Nottingham/train/reels_simple_chords_61.mid',\n",
        " '../../../../Downloads/Nottingham/train/jigs_simple_chords_296.mid',\n",
        " '../../../../Downloads/Nottingham/train/waltzes_simple_chords_45.mid',\n",
        " '../../../../Downloads/Nottingham/train/jigs_simple_chords_86.mid',\n",
        " '../../../../Downloads/Nottingham/train/jigs_simple_chords_15.mid',\n",
        " '../../../../Downloads/Nottingham/train/reels_simple_chords_378.mid',\n",
        " '../../../../Downloads/Nottingham/train/reels_simple_chords_295.mid',\n",
        " '../../../../Downloads/Nottingham/train/xmas_simple_chords_13.mid',\n",
        " '../../../../Downloads/Nottingham/train/reels_simple_chords_163.mid',\n",
        " '../../../../Downloads/Nottingham/train/jigs_simple_chords_289.mid',\n",
        " '../../../../Downloads/Nottingham/train/jigs_simple_chords_27.mid',\n",
        " '../../../../Downloads/Nottingham/train/reels_simple_chords_355.mid',\n",
        " '../../../../Downloads/Nottingham/train/reels_simple_chords_133.mid',\n",
        " '../../../../Downloads/Nottingham/train/jigs_simple_chords_277.mid',\n",
        " '../../../../Downloads/Nottingham/train/hpps_simple_chords_39.mid',\n",
        " '../../../../Downloads/Nottingham/train/jigs_simple_chords_55.mid',\n",
        " '../../../../Downloads/Nottingham/train/reels_simple_chords_345.mid',\n",
        " '../../../../Downloads/Nottingham/train/reels_simple_chords_276.mid',\n",
        " '../../../../Downloads/Nottingham/train/jigs_simple_chords_24.mid',\n",
        " '../../../../Downloads/Nottingham/train/reels_simple_chords_414.mid',\n",
        " '../../../../Downloads/Nottingham/train/reels_simple_chords_91.mid',\n",
        " '../../../../Downloads/Nottingham/train/reels_simple_chords_115.mid',\n",
        " '../../../../Downloads/Nottingham/train/reels_simple_chords_390.mid',\n",
        " '../../../../Downloads/Nottingham/train/reels_simple_chords_372.mid',\n",
        " '../../../../Downloads/Nottingham/train/jigs_simple_chords_204.mid',\n",
        " '../../../../Downloads/Nottingham/train/jigs_simple_chords_49.mid',\n",
        " '../../../../Downloads/Nottingham/train/jigs_simple_chords_164.mid',\n",
        " '../../../../Downloads/Nottingham/train/jigs_simple_chords_246.mid',\n",
        " '../../../../Downloads/Nottingham/train/jigs_simple_chords_217.mid',\n",
        " '../../../../Downloads/Nottingham/train/reels_simple_chords_325.mid',\n",
        " '../../../../Downloads/Nottingham/train/reels_simple_chords_242.mid',\n",
        " '../../../../Downloads/Nottingham/train/reels_simple_chords_123.mid',\n",
        " '../../../../Downloads/Nottingham/train/reels_simple_chords_38.mid',\n",
        " '../../../../Downloads/Nottingham/train/jigs_simple_chords_146.mid',\n",
        " '../../../../Downloads/Nottingham/train/reels_simple_chords_434.mid',\n",
        " '../../../../Downloads/Nottingham/train/jigs_simple_chords_105.mid',\n",
        " '../../../../Downloads/Nottingham/train/reels_simple_chords_87.mid',\n",
        " '../../../../Downloads/Nottingham/train/jigs_simple_chords_182.mid',\n",
        " '../../../../Downloads/Nottingham/train/reels_simple_chords_121.mid',\n",
        " '../../../../Downloads/Nottingham/train/reels_simple_chords_342.mid',\n",
        " '../../../../Downloads/Nottingham/train/jigs_simple_chords_234.mid',\n",
        " '../../../../Downloads/Nottingham/train/reels_simple_chords_90.mid',\n",
        " '../../../../Downloads/Nottingham/train/jigs_simple_chords_7.mid',\n",
        " '../../../../Downloads/Nottingham/train/jigs_simple_chords_332.mid',\n",
        " '../../../../Downloads/Nottingham/train/reels_simple_chords_357.mid',\n",
        " '../../../../Downloads/Nottingham/train/reels_simple_chords_72.mid',\n",
        " '../../../../Downloads/Nottingham/train/reels_simple_chords_74.mid',\n",
        " '../../../../Downloads/Nottingham/train/reels_simple_chords_282.mid',\n",
        " '../../../../Downloads/Nottingham/train/reels_simple_chords_211.mid',\n",
        " '../../../../Downloads/Nottingham/train/reels_simple_chords_198.mid',\n",
        " '../../../../Downloads/Nottingham/train/reels_simple_chords_32.mid',\n",
        " '../../../../Downloads/Nottingham/train/reels_simple_chords_81.mid',\n",
        " '../../../../Downloads/Nottingham/train/morris_simple_chords_3.mid',\n",
        " '../../../../Downloads/Nottingham/train/jigs_simple_chords_134.mid',\n",
        " '../../../../Downloads/Nottingham/train/jigs_simple_chords_128.mid',\n",
        " '../../../../Downloads/Nottingham/train/jigs_simple_chords_331.mid',\n",
        " '../../../../Downloads/Nottingham/train/reels_simple_chords_361.mid',\n",
        " '../../../../Downloads/Nottingham/train/xmas_simple_chords_7.mid',\n",
        " '../../../../Downloads/Nottingham/train/hpps_simple_chords_26.mid',\n",
        " '../../../../Downloads/Nottingham/train/reels_simple_chords_411.mid',\n",
        " '../../../../Downloads/Nottingham/train/jigs_simple_chords_79.mid',\n",
        " '../../../../Downloads/Nottingham/train/reels_simple_chords_73.mid',\n",
        " '../../../../Downloads/Nottingham/train/jigs_simple_chords_276.mid',\n",
        " '../../../../Downloads/Nottingham/train/waltzes_simple_chords_50.mid',\n",
        " '../../../../Downloads/Nottingham/train/reels_simple_chords_429.mid',\n",
        " '../../../../Downloads/Nottingham/train/jigs_simple_chords_222.mid',\n",
        " '../../../../Downloads/Nottingham/train/reels_simple_chords_399.mid',\n",
        " '../../../../Downloads/Nottingham/train/reels_simple_chords_318.mid',\n",
        " '../../../../Downloads/Nottingham/train/reels_simple_chords_422.mid',\n",
        " '../../../../Downloads/Nottingham/train/jigs_simple_chords_271.mid',\n",
        " '../../../../Downloads/Nottingham/train/hpps_simple_chords_15.mid',\n",
        " '../../../../Downloads/Nottingham/train/jigs_simple_chords_129.mid',\n",
        " '../../../../Downloads/Nottingham/train/reels_simple_chords_180.mid',\n",
        " '../../../../Downloads/Nottingham/train/hpps_simple_chords_36.mid',\n",
        " '../../../../Downloads/Nottingham/train/reels_simple_chords_393.mid',\n",
        " '../../../../Downloads/Nottingham/train/reels_simple_chords_235.mid',\n",
        " '../../../../Downloads/Nottingham/train/reels_simple_chords_303.mid',\n",
        " '../../../../Downloads/Nottingham/train/reels_simple_chords_254.mid',\n",
        " '../../../../Downloads/Nottingham/train/jigs_simple_chords_67.mid',\n",
        " '../../../../Downloads/Nottingham/train/jigs_simple_chords_318.mid',\n",
        " '../../../../Downloads/Nottingham/train/ashover_simple_chords_14.mid',\n",
        " '../../../../Downloads/Nottingham/train/reels_simple_chords_398.mid',\n",
        " '../../../../Downloads/Nottingham/train/reels_simple_chords_110.mid',\n",
        " '../../../../Downloads/Nottingham/train/reels_simple_chords_408.mid',\n",
        " '../../../../Downloads/Nottingham/train/jigs_simple_chords_117.mid',\n",
        " '../../../../Downloads/Nottingham/train/reels_simple_chords_50.mid',\n",
        " '../../../../Downloads/Nottingham/train/reels_simple_chords_120.mid',\n",
        " '../../../../Downloads/Nottingham/train/morris_simple_chords_12.mid',\n",
        " '../../../../Downloads/Nottingham/train/jigs_simple_chords_104.mid',\n",
        " '../../../../Downloads/Nottingham/train/jigs_simple_chords_327.mid',\n",
        " '../../../../Downloads/Nottingham/train/reels_simple_chords_199.mid',\n",
        " '../../../../Downloads/Nottingham/train/reels_simple_chords_85.mid',\n",
        " '../../../../Downloads/Nottingham/train/reels_simple_chords_128.mid',\n",
        " '../../../../Downloads/Nottingham/train/reels_simple_chords_229.mid',\n",
        " '../../../../Downloads/Nottingham/train/reels_simple_chords_308.mid',\n",
        " '../../../../Downloads/Nottingham/train/hpps_simple_chords_31.mid',\n",
        " '../../../../Downloads/Nottingham/train/hpps_simple_chords_9.mid',\n",
        " '../../../../Downloads/Nottingham/train/reels_simple_chords_51.mid',\n",
        " '../../../../Downloads/Nottingham/train/reels_simple_chords_188.mid',\n",
        " '../../../../Downloads/Nottingham/train/jigs_simple_chords_75.mid',\n",
        " '../../../../Downloads/Nottingham/train/xmas_simple_chords_8.mid',\n",
        " '../../../../Downloads/Nottingham/train/reels_simple_chords_420.mid',\n",
        " '../../../../Downloads/Nottingham/train/reels_simple_chords_312.mid',\n",
        " '../../../../Downloads/Nottingham/train/jigs_simple_chords_319.mid',\n",
        " '../../../../Downloads/Nottingham/train/morris_simple_chords_13.mid',\n",
        " '../../../../Downloads/Nottingham/train/ashover_simple_chords_13.mid',\n",
        " '../../../../Downloads/Nottingham/train/jigs_simple_chords_181.mid',\n",
        " '../../../../Downloads/Nottingham/train/reels_simple_chords_78.mid',\n",
        " '../../../../Downloads/Nottingham/train/jigs_simple_chords_252.mid',\n",
        " '../../../../Downloads/Nottingham/train/reels_simple_chords_409.mid',\n",
        " '../../../../Downloads/Nottingham/train/jigs_simple_chords_109.mid',\n",
        " '../../../../Downloads/Nottingham/train/reels_simple_chords_151.mid',\n",
        " '../../../../Downloads/Nottingham/train/jigs_simple_chords_283.mid',\n",
        " '../../../../Downloads/Nottingham/train/ashover_simple_chords_7.mid',\n",
        " '../../../../Downloads/Nottingham/train/jigs_simple_chords_207.mid',\n",
        " '../../../../Downloads/Nottingham/train/jigs_simple_chords_186.mid',\n",
        " '../../../../Downloads/Nottingham/train/reels_simple_chords_213.mid',\n",
        " '../../../../Downloads/Nottingham/train/reels_simple_chords_24.mid',\n",
        " '../../../../Downloads/Nottingham/train/reels_simple_chords_18.mid',\n",
        " '../../../../Downloads/Nottingham/train/jigs_simple_chords_110.mid',\n",
        " '../../../../Downloads/Nottingham/train/reels_simple_chords_127.mid',\n",
        " '../../../../Downloads/Nottingham/train/reels_simple_chords_241.mid',\n",
        " '../../../../Downloads/Nottingham/train/reels_simple_chords_8.mid',\n",
        " '../../../../Downloads/Nottingham/train/jigs_simple_chords_19.mid',\n",
        " '../../../../Downloads/Nottingham/train/reels_simple_chords_48.mid',\n",
        " '../../../../Downloads/Nottingham/train/reels_simple_chords_252.mid',\n",
        " '../../../../Downloads/Nottingham/train/jigs_simple_chords_200.mid',\n",
        " '../../../../Downloads/Nottingham/train/jigs_simple_chords_194.mid',\n",
        " '../../../../Downloads/Nottingham/train/reels_simple_chords_243.mid',\n",
        " '../../../../Downloads/Nottingham/train/jigs_simple_chords_48.mid',\n",
        " '../../../../Downloads/Nottingham/train/jigs_simple_chords_307.mid',\n",
        " '../../../../Downloads/Nottingham/train/jigs_simple_chords_74.mid',\n",
        " '../../../../Downloads/Nottingham/train/reels_simple_chords_332.mid',\n",
        " '../../../../Downloads/Nottingham/train/reels_simple_chords_129.mid',\n",
        " '../../../../Downloads/Nottingham/train/reels_simple_chords_386.mid',\n",
        " '../../../../Downloads/Nottingham/train/reels_simple_chords_54.mid',\n",
        " '../../../../Downloads/Nottingham/train/reels_simple_chords_164.mid',\n",
        " '../../../../Downloads/Nottingham/train/reels_simple_chords_6.mid',\n",
        " '../../../../Downloads/Nottingham/train/reels_simple_chords_309.mid',\n",
        " '../../../../Downloads/Nottingham/train/reels_simple_chords_440.mid',\n",
        " '../../../../Downloads/Nottingham/train/reels_simple_chords_362.mid',\n",
        " '../../../../Downloads/Nottingham/train/jigs_simple_chords_189.mid',\n",
        " '../../../../Downloads/Nottingham/train/ashover_simple_chords_12.mid',\n",
        " '../../../../Downloads/Nottingham/train/jigs_simple_chords_139.mid',\n",
        " '../../../../Downloads/Nottingham/train/waltzes_simple_chords_3.mid',\n",
        " '../../../../Downloads/Nottingham/train/reels_simple_chords_452.mid',\n",
        " '../../../../Downloads/Nottingham/train/jigs_simple_chords_57.mid',\n",
        " '../../../../Downloads/Nottingham/train/reels_simple_chords_217.mid',\n",
        " '../../../../Downloads/Nottingham/train/jigs_simple_chords_37.mid',\n",
        " '../../../../Downloads/Nottingham/train/reels_simple_chords_212.mid',\n",
        " '../../../../Downloads/Nottingham/train/morris_simple_chords_24.mid',\n",
        " '../../../../Downloads/Nottingham/train/waltzes_simple_chords_38.mid',\n",
        " '../../../../Downloads/Nottingham/train/jigs_simple_chords_170.mid',\n",
        " '../../../../Downloads/Nottingham/train/jigs_simple_chords_320.mid',\n",
        " '../../../../Downloads/Nottingham/train/hpps_simple_chords_49.mid',\n",
        " '../../../../Downloads/Nottingham/train/reels_simple_chords_206.mid',\n",
        " '../../../../Downloads/Nottingham/train/reels_simple_chords_444.mid',\n",
        " '../../../../Downloads/Nottingham/train/reels_simple_chords_63.mid',\n",
        " '../../../../Downloads/Nottingham/train/reels_simple_chords_204.mid',\n",
        " '../../../../Downloads/Nottingham/train/reels_simple_chords_141.mid',\n",
        " '../../../../Downloads/Nottingham/train/jigs_simple_chords_312.mid',\n",
        " '../../../../Downloads/Nottingham/train/reels_simple_chords_273.mid',\n",
        " '../../../../Downloads/Nottingham/train/morris_simple_chords_30.mid',\n",
        " '../../../../Downloads/Nottingham/train/reels_simple_chords_339.mid',\n",
        " '../../../../Downloads/Nottingham/train/reels_simple_chords_207.mid',\n",
        " '../../../../Downloads/Nottingham/train/jigs_simple_chords_69.mid',\n",
        " '../../../../Downloads/Nottingham/train/slip_simple_chords_9.mid',\n",
        " '../../../../Downloads/Nottingham/train/jigs_simple_chords_219.mid',\n",
        " '../../../../Downloads/Nottingham/train/reels_simple_chords_320.mid',\n",
        " '../../../../Downloads/Nottingham/train/reels_simple_chords_259.mid',\n",
        " '../../../../Downloads/Nottingham/train/jigs_simple_chords_265.mid',\n",
        " '../../../../Downloads/Nottingham/train/jigs_simple_chords_188.mid',\n",
        " '../../../../Downloads/Nottingham/train/reels_simple_chords_140.mid',\n",
        " '../../../../Downloads/Nottingham/train/reels_simple_chords_327.mid',\n",
        " '../../../../Downloads/Nottingham/train/jigs_simple_chords_313.mid',\n",
        " '../../../../Downloads/Nottingham/train/reels_simple_chords_97.mid',\n",
        " '../../../../Downloads/Nottingham/train/reels_simple_chords_267.mid',\n",
        " '../../../../Downloads/Nottingham/train/waltzes_simple_chords_24.mid',\n",
        " '../../../../Downloads/Nottingham/train/jigs_simple_chords_315.mid',\n",
        " '../../../../Downloads/Nottingham/train/slip_simple_chords_1.mid',\n",
        " '../../../../Downloads/Nottingham/train/hpps_simple_chords_24.mid',\n",
        " '../../../../Downloads/Nottingham/train/reels_simple_chords_264.mid',\n",
        " '../../../../Downloads/Nottingham/train/reels_simple_chords_379.mid',\n",
        " '../../../../Downloads/Nottingham/train/jigs_simple_chords_114.mid',\n",
        " '../../../../Downloads/Nottingham/train/jigs_simple_chords_60.mid',\n",
        " '../../../../Downloads/Nottingham/train/reels_simple_chords_60.mid',\n",
        " '../../../../Downloads/Nottingham/train/jigs_simple_chords_151.mid',\n",
        " '../../../../Downloads/Nottingham/train/reels_simple_chords_139.mid',\n",
        " '../../../../Downloads/Nottingham/train/reels_simple_chords_231.mid',\n",
        " '../../../../Downloads/Nottingham/train/jigs_simple_chords_198.mid',\n",
        " '../../../../Downloads/Nottingham/train/reels_simple_chords_405.mid',\n",
        " '../../../../Downloads/Nottingham/train/jigs_simple_chords_138.mid',\n",
        " '../../../../Downloads/Nottingham/train/hpps_simple_chords_1.mid',\n",
        " '../../../../Downloads/Nottingham/train/jigs_simple_chords_306.mid',\n",
        " '../../../../Downloads/Nottingham/train/reels_simple_chords_14.mid',\n",
        " '../../../../Downloads/Nottingham/train/waltzes_simple_chords_39.mid',\n",
        " '../../../../Downloads/Nottingham/train/hpps_simple_chords_63.mid',\n",
        " '../../../../Downloads/Nottingham/train/hpps_simple_chords_61.mid',\n",
        " '../../../../Downloads/Nottingham/train/jigs_simple_chords_1.mid',\n",
        " '../../../../Downloads/Nottingham/train/reels_simple_chords_12.mid',\n",
        " '../../../../Downloads/Nottingham/train/hpps_simple_chords_6.mid',\n",
        " '../../../../Downloads/Nottingham/train/jigs_simple_chords_122.mid',\n",
        " '../../../../Downloads/Nottingham/train/morris_simple_chords_20.mid',\n",
        " '../../../../Downloads/Nottingham/train/reels_simple_chords_56.mid',\n",
        " '../../../../Downloads/Nottingham/train/hpps_simple_chords_56.mid',\n",
        " '../../../../Downloads/Nottingham/train/hpps_simple_chords_12.mid',\n",
        " '../../../../Downloads/Nottingham/train/jigs_simple_chords_78.mid',\n",
        " '../../../../Downloads/Nottingham/train/reels_simple_chords_57.mid',\n",
        " '../../../../Downloads/Nottingham/train/jigs_simple_chords_20.mid',\n",
        " '../../../../Downloads/Nottingham/train/reels_simple_chords_194.mid',\n",
        " '../../../../Downloads/Nottingham/train/jigs_simple_chords_241.mid',\n",
        " '../../../../Downloads/Nottingham/train/ashover_simple_chords_19.mid',\n",
        " '../../../../Downloads/Nottingham/train/reels_simple_chords_169.mid',\n",
        " '../../../../Downloads/Nottingham/train/jigs_simple_chords_108.mid',\n",
        " '../../../../Downloads/Nottingham/train/jigs_simple_chords_336.mid',\n",
        " '../../../../Downloads/Nottingham/train/reels_simple_chords_441.mid',\n",
        " '../../../../Downloads/Nottingham/train/reels_simple_chords_98.mid',\n",
        " '../../../../Downloads/Nottingham/train/jigs_simple_chords_195.mid',\n",
        " '../../../../Downloads/Nottingham/train/reels_simple_chords_451.mid',\n",
        " '../../../../Downloads/Nottingham/train/hpps_simple_chords_44.mid',\n",
        " '../../../../Downloads/Nottingham/train/reels_simple_chords_228.mid',\n",
        " '../../../../Downloads/Nottingham/train/jigs_simple_chords_248.mid',\n",
        " '../../../../Downloads/Nottingham/train/jigs_simple_chords_150.mid',\n",
        " '../../../../Downloads/Nottingham/train/jigs_simple_chords_258.mid',\n",
        " '../../../../Downloads/Nottingham/train/jigs_simple_chords_294.mid',\n",
        " '../../../../Downloads/Nottingham/train/morris_simple_chords_19.mid',\n",
        " '../../../../Downloads/Nottingham/train/jigs_simple_chords_300.mid',\n",
        " '../../../../Downloads/Nottingham/train/reels_simple_chords_177.mid',\n",
        " '../../../../Downloads/Nottingham/train/reels_simple_chords_349.mid',\n",
        " '../../../../Downloads/Nottingham/train/reels_simple_chords_55.mid',\n",
        " '../../../../Downloads/Nottingham/train/jigs_simple_chords_302.mid',\n",
        " '../../../../Downloads/Nottingham/train/xmas_simple_chords_9.mid',\n",
        " '../../../../Downloads/Nottingham/train/jigs_simple_chords_81.mid',\n",
        " '../../../../Downloads/Nottingham/train/jigs_simple_chords_14.mid',\n",
        " '../../../../Downloads/Nottingham/train/reels_simple_chords_333.mid',\n",
        " '../../../../Downloads/Nottingham/train/reels_simple_chords_258.mid',\n",
        " '../../../../Downloads/Nottingham/train/slip_simple_chords_7.mid',\n",
        " '../../../../Downloads/Nottingham/train/jigs_simple_chords_115.mid',\n",
        " '../../../../Downloads/Nottingham/train/reels_simple_chords_114.mid',\n",
        " '../../../../Downloads/Nottingham/train/reels_simple_chords_36.mid',\n",
        " '../../../../Downloads/Nottingham/train/jigs_simple_chords_301.mid',\n",
        " '../../../../Downloads/Nottingham/train/reels_simple_chords_37.mid',\n",
        " '../../../../Downloads/Nottingham/train/ashover_simple_chords_20.mid',\n",
        " '../../../../Downloads/Nottingham/train/xmas_simple_chords_6.mid',\n",
        " '../../../../Downloads/Nottingham/train/playford_simple_chords_7.mid',\n",
        " '../../../../Downloads/Nottingham/train/reels_simple_chords_248.mid',\n",
        " '../../../../Downloads/Nottingham/train/reels_simple_chords_261.mid',\n",
        " '../../../../Downloads/Nottingham/train/reels_simple_chords_7.mid',\n",
        " '../../../../Downloads/Nottingham/train/reels_simple_chords_183.mid',\n",
        " '../../../../Downloads/Nottingham/train/jigs_simple_chords_13.mid',\n",
        " '../../../../Downloads/Nottingham/train/jigs_simple_chords_85.mid',\n",
        " '../../../../Downloads/Nottingham/train/reels_simple_chords_92.mid',\n",
        " '../../../../Downloads/Nottingham/train/reels_simple_chords_216.mid',\n",
        " '../../../../Downloads/Nottingham/train/reels_simple_chords_176.mid',\n",
        " '../../../../Downloads/Nottingham/train/hpps_simple_chords_51.mid',\n",
        " '../../../../Downloads/Nottingham/train/reels_simple_chords_363.mid',\n",
        " '../../../../Downloads/Nottingham/train/reels_simple_chords_260.mid',\n",
        " '../../../../Downloads/Nottingham/train/hpps_simple_chords_42.mid',\n",
        " '../../../../Downloads/Nottingham/train/reels_simple_chords_457.mid',\n",
        " '../../../../Downloads/Nottingham/train/reels_simple_chords_337.mid',\n",
        " '../../../../Downloads/Nottingham/train/reels_simple_chords_108.mid',\n",
        " '../../../../Downloads/Nottingham/train/jigs_simple_chords_175.mid',\n",
        " '../../../../Downloads/Nottingham/train/reels_simple_chords_402.mid',\n",
        " '../../../../Downloads/Nottingham/train/jigs_simple_chords_156.mid',\n",
        " '../../../../Downloads/Nottingham/train/reels_simple_chords_43.mid',\n",
        " '../../../../Downloads/Nottingham/train/reels_simple_chords_156.mid',\n",
        " '../../../../Downloads/Nottingham/train/hpps_simple_chords_43.mid',\n",
        " '../../../../Downloads/Nottingham/train/reels_simple_chords_247.mid',\n",
        " '../../../../Downloads/Nottingham/train/reels_simple_chords_338.mid',\n",
        " '../../../../Downloads/Nottingham/train/reels_simple_chords_283.mid',\n",
        " '../../../../Downloads/Nottingham/train/morris_simple_chords_25.mid',\n",
        " '../../../../Downloads/Nottingham/train/jigs_simple_chords_18.mid',\n",
        " '../../../../Downloads/Nottingham/train/jigs_simple_chords_111.mid',\n",
        " '../../../../Downloads/Nottingham/train/jigs_simple_chords_212.mid',\n",
        " '../../../../Downloads/Nottingham/train/jigs_simple_chords_147.mid',\n",
        " '../../../../Downloads/Nottingham/train/ashover_simple_chords_43.mid',\n",
        " '../../../../Downloads/Nottingham/train/jigs_simple_chords_98.mid',\n",
        " '../../../../Downloads/Nottingham/train/jigs_simple_chords_3.mid',\n",
        " '../../../../Downloads/Nottingham/train/reels_simple_chords_284.mid',\n",
        " '../../../../Downloads/Nottingham/train/playford_simple_chords_12.mid',\n",
        " '../../../../Downloads/Nottingham/train/jigs_simple_chords_6.mid',\n",
        " '../../../../Downloads/Nottingham/train/reels_simple_chords_433.mid',\n",
        " '../../../../Downloads/Nottingham/train/reels_simple_chords_432.mid',\n",
        " '../../../../Downloads/Nottingham/train/jigs_simple_chords_33.mid',\n",
        " '../../../../Downloads/Nottingham/train/jigs_simple_chords_157.mid',\n",
        " '../../../../Downloads/Nottingham/train/reels_simple_chords_210.mid',\n",
        " '../../../../Downloads/Nottingham/train/reels_simple_chords_450.mid',\n",
        " '../../../../Downloads/Nottingham/train/reels_simple_chords_336.mid',\n",
        " '../../../../Downloads/Nottingham/train/jigs_simple_chords_43.mid',\n",
        " '../../../../Downloads/Nottingham/train/reels_simple_chords_153.mid',\n",
        " '../../../../Downloads/Nottingham/train/jigs_simple_chords_36.mid',\n",
        " '../../../../Downloads/Nottingham/train/reels_simple_chords_157.mid',\n",
        " '../../../../Downloads/Nottingham/train/waltzes_simple_chords_9.mid',\n",
        " '../../../../Downloads/Nottingham/train/reels_simple_chords_126.mid',\n",
        " '../../../../Downloads/Nottingham/train/reels_simple_chords_278.mid',\n",
        " '../../../../Downloads/Nottingham/train/reels_simple_chords_300.mid',\n",
        " '../../../../Downloads/Nottingham/train/jigs_simple_chords_254.mid',\n",
        " '../../../../Downloads/Nottingham/train/hpps_simple_chords_54.mid',\n",
        " '../../../../Downloads/Nottingham/train/waltzes_simple_chords_32.mid',\n",
        " '../../../../Downloads/Nottingham/train/hpps_simple_chords_2.mid',\n",
        " '../../../../Downloads/Nottingham/train/reels_simple_chords_462.mid',\n",
        " '../../../../Downloads/Nottingham/train/jigs_simple_chords_8.mid',\n",
        " '../../../../Downloads/Nottingham/train/reels_simple_chords_447.mid',\n",
        " '../../../../Downloads/Nottingham/train/reels_simple_chords_367.mid',\n",
        " '../../../../Downloads/Nottingham/train/playford_simple_chords_6.mid',\n",
        " '../../../../Downloads/Nottingham/train/ashover_simple_chords_18.mid',\n",
        " '../../../../Downloads/Nottingham/train/reels_simple_chords_319.mid',\n",
        " '../../../../Downloads/Nottingham/train/reels_simple_chords_384.mid',\n",
        " '../../../../Downloads/Nottingham/train/reels_simple_chords_423.mid',\n",
        " '../../../../Downloads/Nottingham/train/reels_simple_chords_174.mid',\n",
        " '../../../../Downloads/Nottingham/train/jigs_simple_chords_223.mid',\n",
        " '../../../../Downloads/Nottingham/train/reels_simple_chords_392.mid',\n",
        " '../../../../Downloads/Nottingham/train/jigs_simple_chords_230.mid',\n",
        " '../../../../Downloads/Nottingham/train/jigs_simple_chords_84.mid',\n",
        " '../../../../Downloads/Nottingham/train/reels_simple_chords_463.mid',\n",
        " '../../../../Downloads/Nottingham/train/jigs_simple_chords_62.mid',\n",
        " '../../../../Downloads/Nottingham/train/hpps_simple_chords_14.mid',\n",
        " '../../../../Downloads/Nottingham/train/morris_simple_chords_27.mid',\n",
        " '../../../../Downloads/Nottingham/train/reels_simple_chords_75.mid',\n",
        " '../../../../Downloads/Nottingham/train/morris_simple_chords_9.mid',\n",
        " '../../../../Downloads/Nottingham/train/reels_simple_chords_380.mid',\n",
        " '../../../../Downloads/Nottingham/train/waltzes_simple_chords_43.mid',\n",
        " '../../../../Downloads/Nottingham/train/reels_simple_chords_351.mid',\n",
        " '../../../../Downloads/Nottingham/train/morris_simple_chords_7.mid',\n",
        " '../../../../Downloads/Nottingham/train/jigs_simple_chords_338.mid',\n",
        " '../../../../Downloads/Nottingham/train/reels_simple_chords_271.mid',\n",
        " '../../../../Downloads/Nottingham/train/playford_simple_chords_1.mid',\n",
        " '../../../../Downloads/Nottingham/train/reels_simple_chords_368.mid',\n",
        " '../../../../Downloads/Nottingham/train/ashover_simple_chords_45.mid',\n",
        " '../../../../Downloads/Nottingham/train/reels_simple_chords_324.mid',\n",
        " '../../../../Downloads/Nottingham/train/jigs_simple_chords_218.mid',\n",
        " '../../../../Downloads/Nottingham/train/hpps_simple_chords_55.mid',\n",
        " '../../../../Downloads/Nottingham/train/waltzes_simple_chords_2.mid',\n",
        " '../../../../Downloads/Nottingham/train/reels_simple_chords_19.mid',\n",
        " '../../../../Downloads/Nottingham/train/reels_simple_chords_344.mid',\n",
        " '../../../../Downloads/Nottingham/train/hpps_simple_chords_57.mid',\n",
        " '../../../../Downloads/Nottingham/train/jigs_simple_chords_259.mid',\n",
        " '../../../../Downloads/Nottingham/train/reels_simple_chords_374.mid',\n",
        " '../../../../Downloads/Nottingham/train/jigs_simple_chords_162.mid',\n",
        " '../../../../Downloads/Nottingham/train/jigs_simple_chords_141.mid',\n",
        " '../../../../Downloads/Nottingham/train/jigs_simple_chords_73.mid',\n",
        " '../../../../Downloads/Nottingham/train/reels_simple_chords_387.mid',\n",
        " '../../../../Downloads/Nottingham/train/jigs_simple_chords_140.mid',\n",
        " '../../../../Downloads/Nottingham/train/hpps_simple_chords_13.mid',\n",
        " '../../../../Downloads/Nottingham/train/reels_simple_chords_385.mid',\n",
        " '../../../../Downloads/Nottingham/train/jigs_simple_chords_224.mid',\n",
        " '../../../../Downloads/Nottingham/train/jigs_simple_chords_121.mid',\n",
        " '../../../../Downloads/Nottingham/train/reels_simple_chords_187.mid',\n",
        " '../../../../Downloads/Nottingham/train/xmas_simple_chords_2.mid',\n",
        " '../../../../Downloads/Nottingham/train/waltzes_simple_chords_33.mid',\n",
        " '../../../../Downloads/Nottingham/train/reels_simple_chords_265.mid',\n",
        " '../../../../Downloads/Nottingham/train/playford_simple_chords_15.mid',\n",
        " '../../../../Downloads/Nottingham/train/reels_simple_chords_301.mid',\n",
        " '../../../../Downloads/Nottingham/train/jigs_simple_chords_153.mid',\n",
        " '../../../../Downloads/Nottingham/train/reels_simple_chords_134.mid',\n",
        " '../../../../Downloads/Nottingham/train/jigs_simple_chords_51.mid',\n",
        " '../../../../Downloads/Nottingham/train/jigs_simple_chords_321.mid',\n",
        " '../../../../Downloads/Nottingham/train/reels_simple_chords_147.mid',\n",
        " '../../../../Downloads/Nottingham/train/reels_simple_chords_168.mid',\n",
        " '../../../../Downloads/Nottingham/train/jigs_simple_chords_201.mid',\n",
        " '../../../../Downloads/Nottingham/train/jigs_simple_chords_324.mid',\n",
        " '../../../../Downloads/Nottingham/train/reels_simple_chords_223.mid',\n",
        " '../../../../Downloads/Nottingham/train/jigs_simple_chords_93.mid',\n",
        " '../../../../Downloads/Nottingham/train/ashover_simple_chords_24.mid',\n",
        " '../../../../Downloads/Nottingham/train/jigs_simple_chords_285.mid',\n",
        " '../../../../Downloads/Nottingham/train/jigs_simple_chords_187.mid',\n",
        " '../../../../Downloads/Nottingham/train/reels_simple_chords_21.mid',\n",
        " '../../../../Downloads/Nottingham/train/reels_simple_chords_343.mid',\n",
        " '../../../../Downloads/Nottingham/train/reels_simple_chords_186.mid',\n",
        " '../../../../Downloads/Nottingham/train/reels_simple_chords_404.mid',\n",
        " '../../../../Downloads/Nottingham/train/morris_simple_chords_6.mid',\n",
        " '../../../../Downloads/Nottingham/train/reels_simple_chords_109.mid',\n",
        " '../../../../Downloads/Nottingham/train/jigs_simple_chords_264.mid',\n",
        " '../../../../Downloads/Nottingham/train/reels_simple_chords_152.mid',\n",
        " '../../../../Downloads/Nottingham/train/reels_simple_chords_375.mid',\n",
        " '../../../../Downloads/Nottingham/train/jigs_simple_chords_158.mid',\n",
        " '../../../../Downloads/Nottingham/train/jigs_simple_chords_145.mid',\n",
        " '../../../../Downloads/Nottingham/train/reels_simple_chords_132.mid',\n",
        " '../../../../Downloads/Nottingham/train/waltzes_simple_chords_49.mid',\n",
        " '../../../../Downloads/Nottingham/train/hpps_simple_chords_19.mid',\n",
        " '../../../../Downloads/Nottingham/train/waltzes_simple_chords_36.mid',\n",
        " '../../../../Downloads/Nottingham/train/jigs_simple_chords_120.mid',\n",
        " '../../../../Downloads/Nottingham/train/jigs_simple_chords_30.mid',\n",
        " '../../../../Downloads/Nottingham/train/waltzes_simple_chords_14.mid',\n",
        " '../../../../Downloads/Nottingham/train/ashover_simple_chords_21.mid',\n",
        " '../../../../Downloads/Nottingham/train/jigs_simple_chords_240.mid',\n",
        " '../../../../Downloads/Nottingham/train/reels_simple_chords_200.mid',\n",
        " '../../../../Downloads/Nottingham/train/jigs_simple_chords_61.mid',\n",
        " '../../../../Downloads/Nottingham/train/jigs_simple_chords_135.mid',\n",
        " '../../../../Downloads/Nottingham/train/reels_simple_chords_249.mid',\n",
        " '../../../../Downloads/Nottingham/train/reels_simple_chords_111.mid',\n",
        " '../../../../Downloads/Nottingham/train/jigs_simple_chords_159.mid',\n",
        " '../../../../Downloads/Nottingham/train/reels_simple_chords_230.mid',\n",
        " '../../../../Downloads/Nottingham/train/jigs_simple_chords_333.mid',\n",
        " '../../../../Downloads/Nottingham/train/reels_simple_chords_9.mid',\n",
        " '../../../../Downloads/Nottingham/train/reels_simple_chords_240.mid',\n",
        " '../../../../Downloads/Nottingham/train/reels_simple_chords_456.mid',\n",
        " '../../../../Downloads/Nottingham/train/jigs_simple_chords_91.mid',\n",
        " '../../../../Downloads/Nottingham/train/waltzes_simple_chords_12.mid',\n",
        " '../../../../Downloads/Nottingham/train/reels_simple_chords_145.mid',\n",
        " '../../../../Downloads/Nottingham/train/jigs_simple_chords_163.mid',\n",
        " '../../../../Downloads/Nottingham/train/hpps_simple_chords_20.mid',\n",
        " '../../../../Downloads/Nottingham/train/hpps_simple_chords_60.mid',\n",
        " '../../../../Downloads/Nottingham/train/hpps_simple_chords_7.mid',\n",
        " '../../../../Downloads/Nottingham/train/reels_simple_chords_237.mid',\n",
        " '../../../../Downloads/Nottingham/train/waltzes_simple_chords_20.mid',\n",
        " '../../../../Downloads/Nottingham/train/reels_simple_chords_192.mid',\n",
        " '../../../../Downloads/Nottingham/train/jigs_simple_chords_165.mid',\n",
        " '../../../../Downloads/Nottingham/train/reels_simple_chords_49.mid',\n",
        " '../../../../Downloads/Nottingham/train/reels_simple_chords_315.mid',\n",
        " '../../../../Downloads/Nottingham/train/jigs_simple_chords_103.mid',\n",
        " '../../../../Downloads/Nottingham/train/reels_simple_chords_321.mid',\n",
        " '../../../../Downloads/Nottingham/train/reels_simple_chords_93.mid',\n",
        " '../../../../Downloads/Nottingham/train/jigs_simple_chords_247.mid',\n",
        " '../../../../Downloads/Nottingham/train/reels_simple_chords_421.mid',\n",
        " '../../../../Downloads/Nottingham/train/jigs_simple_chords_116.mid',\n",
        " '../../../../Downloads/Nottingham/train/jigs_simple_chords_174.mid',\n",
        " '../../../../Downloads/Nottingham/train/hpps_simple_chords_32.mid',\n",
        " '../../../../Downloads/Nottingham/train/waltzes_simple_chords_8.mid',\n",
        " '../../../../Downloads/Nottingham/train/reels_simple_chords_3.mid',\n",
        " '../../../../Downloads/Nottingham/train/jigs_simple_chords_210.mid',\n",
        " '../../../../Downloads/Nottingham/train/jigs_simple_chords_171.mid',\n",
        " '../../../../Downloads/Nottingham/train/reels_simple_chords_331.mid',\n",
        " '../../../../Downloads/Nottingham/train/ashover_simple_chords_8.mid',\n",
        " '../../../../Downloads/Nottingham/train/reels_simple_chords_67.mid',\n",
        " '../../../../Downloads/Nottingham/train/jigs_simple_chords_152.mid',\n",
        " '../../../../Downloads/Nottingham/train/reels_simple_chords_453.mid',\n",
        " '../../../../Downloads/Nottingham/train/waltzes_simple_chords_18.mid',\n",
        " '../../../../Downloads/Nottingham/train/ashover_simple_chords_25.mid',\n",
        " '../../../../Downloads/Nottingham/train/ashover_simple_chords_44.mid',\n",
        " '../../../../Downloads/Nottingham/train/reels_simple_chords_427.mid',\n",
        " '../../../../Downloads/Nottingham/train/hpps_simple_chords_50.mid',\n",
        " '../../../../Downloads/Nottingham/train/reels_simple_chords_69.mid',\n",
        " '../../../../Downloads/Nottingham/train/ashover_simple_chords_3.mid',\n",
        " '../../../../Downloads/Nottingham/train/jigs_simple_chords_303.mid',\n",
        " '../../../../Downloads/Nottingham/train/waltzes_simple_chords_30.mid',\n",
        " '../../../../Downloads/Nottingham/train/jigs_simple_chords_266.mid',\n",
        " '../../../../Downloads/Nottingham/train/reels_simple_chords_288.mid',\n",
        " '../../../../Downloads/Nottingham/train/reels_simple_chords_360.mid',\n",
        " '../../../../Downloads/Nottingham/train/playford_simple_chords_3.mid',\n",
        " '../../../../Downloads/Nottingham/train/jigs_simple_chords_326.mid',\n",
        " '../../../../Downloads/Nottingham/train/jigs_simple_chords_290.mid',\n",
        " '../../../../Downloads/Nottingham/train/reels_simple_chords_294.mid',\n",
        " '../../../../Downloads/Nottingham/train/waltzes_simple_chords_21.mid',\n",
        " '../../../../Downloads/Nottingham/train/jigs_simple_chords_9.mid',\n",
        " '../../../../Downloads/Nottingham/train/reels_simple_chords_159.mid',\n",
        " '../../../../Downloads/Nottingham/train/jigs_simple_chords_92.mid',\n",
        " '../../../../Downloads/Nottingham/train/reels_simple_chords_348.mid',\n",
        " '../../../../Downloads/Nottingham/train/reels_simple_chords_99.mid',\n",
        " '../../../../Downloads/Nottingham/train/reels_simple_chords_181.mid',\n",
        " '../../../../Downloads/Nottingham/train/reels_simple_chords_195.mid',\n",
        " '../../../../Downloads/Nottingham/train/ashover_simple_chords_31.mid',\n",
        " '../../../../Downloads/Nottingham/train/reels_simple_chords_44.mid',\n",
        " '../../../../Downloads/Nottingham/train/reels_simple_chords_330.mid',\n",
        " '../../../../Downloads/Nottingham/train/reels_simple_chords_189.mid',\n",
        " '../../../../Downloads/Nottingham/train/reels_simple_chords_255.mid',\n",
        " '../../../../Downloads/Nottingham/train/reels_simple_chords_31.mid',\n",
        " '../../../../Downloads/Nottingham/train/reels_simple_chords_122.mid',\n",
        " '../../../../Downloads/Nottingham/train/jigs_simple_chords_45.mid',\n",
        " '../../../../Downloads/Nottingham/train/reels_simple_chords_222.mid',\n",
        " '../../../../Downloads/Nottingham/train/ashover_simple_chords_27.mid',\n",
        " '../../../../Downloads/Nottingham/train/reels_simple_chords_39.mid',\n",
        " '../../../../Downloads/Nottingham/train/reels_simple_chords_144.mid',\n",
        " '../../../../Downloads/Nottingham/train/reels_simple_chords_313.mid',\n",
        " '../../../../Downloads/Nottingham/train/jigs_simple_chords_231.mid',\n",
        " '../../../../Downloads/Nottingham/train/jigs_simple_chords_96.mid',\n",
        " '../../../../Downloads/Nottingham/train/reels_simple_chords_135.mid',\n",
        " '../../../../Downloads/Nottingham/train/jigs_simple_chords_330.mid',\n",
        " '../../../../Downloads/Nottingham/train/jigs_simple_chords_38.mid',\n",
        " '../../../../Downloads/Nottingham/train/reels_simple_chords_296.mid',\n",
        " '../../../../Downloads/Nottingham/train/morris_simple_chords_18.mid',\n",
        " '../../../../Downloads/Nottingham/train/jigs_simple_chords_39.mid',\n",
        " '../../../../Downloads/Nottingham/train/jigs_simple_chords_225.mid',\n",
        " '../../../../Downloads/Nottingham/train/jigs_simple_chords_42.mid',\n",
        " '../../../../Downloads/Nottingham/train/waltzes_simple_chords_51.mid',\n",
        " '../../../../Downloads/Nottingham/train/waltzes_simple_chords_37.mid',\n",
        " '../../../../Downloads/Nottingham/train/waltzes_simple_chords_7.mid',\n",
        " '../../../../Downloads/Nottingham/train/ashover_simple_chords_33.mid',\n",
        " '../../../../Downloads/Nottingham/train/reels_simple_chords_117.mid',\n",
        " '../../../../Downloads/Nottingham/train/reels_simple_chords_218.mid',\n",
        " '../../../../Downloads/Nottingham/train/jigs_simple_chords_21.mid',\n",
        " '../../../../Downloads/Nottingham/train/jigs_simple_chords_255.mid',\n",
        " '../../../../Downloads/Nottingham/train/morris_simple_chords_1.mid',\n",
        " '../../../../Downloads/Nottingham/train/playford_simple_chords_14.mid',\n",
        " '../../../../Downloads/Nottingham/train/jigs_simple_chords_205.mid',\n",
        " '../../../../Downloads/Nottingham/train/jigs_simple_chords_235.mid',\n",
        " '../../../../Downloads/Nottingham/train/reels_simple_chords_326.mid',\n",
        " '../../../../Downloads/Nottingham/train/reels_simple_chords_138.mid',\n",
        " '../../../../Downloads/Nottingham/train/jigs_simple_chords_193.mid',\n",
        " '../../../../Downloads/Nottingham/train/waltzes_simple_chords_15.mid',\n",
        " '../../../../Downloads/Nottingham/train/reels_simple_chords_266.mid',\n",
        " '../../../../Downloads/Nottingham/train/jigs_simple_chords_282.mid',\n",
        " '../../../../Downloads/Nottingham/train/reels_simple_chords_428.mid',\n",
        " '../../../../Downloads/Nottingham/train/reels_simple_chords_253.mid',\n",
        " '../../../../Downloads/Nottingham/train/ashover_simple_chords_38.mid',\n",
        " '../../../../Downloads/Nottingham/train/ashover_simple_chords_2.mid',\n",
        " '../../../../Downloads/Nottingham/train/reels_simple_chords_175.mid',\n",
        " '../../../../Downloads/Nottingham/train/waltzes_simple_chords_19.mid',\n",
        " '../../../../Downloads/Nottingham/train/jigs_simple_chords_284.mid',\n",
        " '../../../../Downloads/Nottingham/train/hpps_simple_chords_21.mid',\n",
        " '../../../../Downloads/Nottingham/train/hpps_simple_chords_48.mid',\n",
        " '../../../../Downloads/Nottingham/train/reels_simple_chords_84.mid',\n",
        " '../../../../Downloads/Nottingham/train/reels_simple_chords_116.mid',\n",
        " '../../../../Downloads/Nottingham/train/waltzes_simple_chords_6.mid',\n",
        " '../../../../Downloads/Nottingham/train/jigs_simple_chords_211.mid',\n",
        " '../../../../Downloads/Nottingham/train/reels_simple_chords_354.mid',\n",
        " '../../../../Downloads/Nottingham/train/waltzes_simple_chords_48.mid',\n",
        " '../../../../Downloads/Nottingham/train/jigs_simple_chords_80.mid',\n",
        " '../../../../Downloads/Nottingham/train/reels_simple_chords_291.mid',\n",
        " '../../../../Downloads/Nottingham/train/reels_simple_chords_415.mid',\n",
        " '../../../../Downloads/Nottingham/train/slip_simple_chords_2.mid',\n",
        " '../../../../Downloads/Nottingham/train/ashover_simple_chords_42.mid',\n",
        " '../../../../Downloads/Nottingham/train/reels_simple_chords_417.mid',\n",
        " '../../../../Downloads/Nottingham/train/hpps_simple_chords_38.mid',\n",
        " '../../../../Downloads/Nottingham/train/reels_simple_chords_435.mid',\n",
        " '../../../../Downloads/Nottingham/train/ashover_simple_chords_26.mid',\n",
        " '../../../../Downloads/Nottingham/train/reels_simple_chords_150.mid',\n",
        " '../../../../Downloads/Nottingham/train/reels_simple_chords_416.mid',\n",
        " '../../../../Downloads/Nottingham/train/reels_simple_chords_86.mid',\n",
        " '../../../../Downloads/Nottingham/train/morris_simple_chords_31.mid',\n",
        " '../../../../Downloads/Nottingham/train/jigs_simple_chords_32.mid',\n",
        " '../../../../Downloads/Nottingham/train/reels_simple_chords_439.mid',\n",
        " '../../../../Downloads/Nottingham/train/reels_simple_chords_410.mid',\n",
        " '../../../../Downloads/Nottingham/train/jigs_simple_chords_126.mid',\n",
        " '../../../../Downloads/Nottingham/train/reels_simple_chords_369.mid',\n",
        " '../../../../Downloads/Nottingham/train/playford_simple_chords_9.mid',\n",
        " '../../../../Downloads/Nottingham/train/reels_simple_chords_356.mid',\n",
        " '../../../../Downloads/Nottingham/train/waltzes_simple_chords_42.mid',\n",
        " '../../../../Downloads/Nottingham/train/jigs_simple_chords_278.mid',\n",
        " '../../../../Downloads/Nottingham/train/hpps_simple_chords_18.mid',\n",
        " '../../../../Downloads/Nottingham/train/jigs_simple_chords_192.mid',\n",
        " '../../../../Downloads/Nottingham/train/reels_simple_chords_403.mid',\n",
        " '../../../../Downloads/Nottingham/train/reels_simple_chords_246.mid',\n",
        " '../../../../Downloads/Nottingham/train/reels_simple_chords_302.mid',\n",
        " '../../../../Downloads/Nottingham/train/jigs_simple_chords_68.mid',\n",
        " '../../../../Downloads/Nottingham/train/jigs_simple_chords_133.mid',\n",
        " '../../../../Downloads/Nottingham/train/xmas_simple_chords_3.mid',\n",
        " '../../../../Downloads/Nottingham/train/jigs_simple_chords_216.mid',\n",
        " '../../../../Downloads/Nottingham/train/jigs_simple_chords_267.mid',\n",
        " '../../../../Downloads/Nottingham/train/playford_simple_chords_13.mid',\n",
        " '../../../../Downloads/Nottingham/train/waltzes_simple_chords_44.mid',\n",
        " '../../../../Downloads/Nottingham/train/hpps_simple_chords_25.mid',\n",
        " '../../../../Downloads/Nottingham/train/waltzes_simple_chords_25.mid',\n",
        " '../../../../Downloads/Nottingham/train/reels_simple_chords_103.mid',\n",
        " '../../../../Downloads/Nottingham/train/morris_simple_chords_14.mid',\n",
        " '../../../../Downloads/Nottingham/train/reels_simple_chords_102.mid',\n",
        " '../../../../Downloads/Nottingham/train/playford_simple_chords_2.mid',\n",
        " '../../../../Downloads/Nottingham/train/reels_simple_chords_2.mid',\n",
        " '../../../../Downloads/Nottingham/train/ashover_simple_chords_39.mid',\n",
        " '../../../../Downloads/Nottingham/train/jigs_simple_chords_66.mid',\n",
        " '../../../../Downloads/Nottingham/train/waltzes_simple_chords_1.mid',\n",
        " '../../../../Downloads/Nottingham/train/morris_simple_chords_8.mid',\n",
        " '../../../../Downloads/Nottingham/train/jigs_simple_chords_291.mid',\n",
        " '../../../../Downloads/Nottingham/train/jigs_simple_chords_97.mid',\n",
        " '../../../../Downloads/Nottingham/train/reels_simple_chords_80.mid',\n",
        " '../../../../Downloads/Nottingham/train/reels_simple_chords_458.mid',\n",
        " '../../../../Downloads/Nottingham/train/reels_simple_chords_272.mid',\n",
        " '../../../../Downloads/Nottingham/train/ashover_simple_chords_6.mid',\n",
        " '../../../../Downloads/Nottingham/train/reels_simple_chords_105.mid',\n",
        " '../../../../Downloads/Nottingham/train/reels_simple_chords_104.mid',\n",
        " '../../../../Downloads/Nottingham/train/jigs_simple_chords_123.mid',\n",
        " '../../../../Downloads/Nottingham/train/reels_simple_chords_459.mid',\n",
        " '../../../../Downloads/Nottingham/train/reels_simple_chords_201.mid',\n",
        " '../../../../Downloads/Nottingham/train/jigs_simple_chords_236.mid',\n",
        " '../../../../Downloads/Nottingham/train/jigs_simple_chords_295.mid',\n",
        " '../../../../Downloads/Nottingham/train/waltzes_simple_chords_31.mid',\n",
        " '../../../../Downloads/Nottingham/train/reels_simple_chords_307.mid',\n",
        " '../../../../Downloads/Nottingham/train/waltzes_simple_chords_13.mid',\n",
        " '../../../../Downloads/Nottingham/train/jigs_simple_chords_168.mid',\n",
        " '../../../../Downloads/Nottingham/train/hpps_simple_chords_30.mid',\n",
        " '../../../../Downloads/Nottingham/train/jigs_simple_chords_288.mid',\n",
        " '../../../../Downloads/Nottingham/train/reels_simple_chords_26.mid',\n",
        " '../../../../Downloads/Nottingham/train/hpps_simple_chords_62.mid',\n",
        " '../../../../Downloads/Nottingham/train/xmas_simple_chords_12.mid',\n",
        " '../../../../Downloads/Nottingham/train/playford_simple_chords_8.mid',\n",
        " '../../../../Downloads/Nottingham/train/reels_simple_chords_391.mid',\n",
        " '../../../../Downloads/Nottingham/train/reels_simple_chords_171.mid',\n",
        " '../../../../Downloads/Nottingham/train/reels_simple_chords_13.mid',\n",
        " '../../../../Downloads/Nottingham/train/jigs_simple_chords_199.mid',\n",
        " '../../../../Downloads/Nottingham/train/reels_simple_chords_42.mid',\n",
        " '../../../../Downloads/Nottingham/train/jigs_simple_chords_243.mid',\n",
        " '../../../../Downloads/Nottingham/train/reels_simple_chords_30.mid',\n",
        " '../../../../Downloads/Nottingham/train/jigs_simple_chords_50.mid',\n",
        " '../../../../Downloads/Nottingham/train/jigs_simple_chords_132.mid',\n",
        " '../../../../Downloads/Nottingham/train/reels_simple_chords_66.mid',\n",
        " '../../../../Downloads/Nottingham/train/reels_simple_chords_426.mid',\n",
        " '../../../../Downloads/Nottingham/train/jigs_simple_chords_90.mid',\n",
        " '../../../../Downloads/Nottingham/train/reels_simple_chords_27.mid',\n",
        " '../../../../Downloads/Nottingham/train/jigs_simple_chords_237.mid',\n",
        " '../../../../Downloads/Nottingham/train/hpps_simple_chords_3.mid',\n",
        " '../../../../Downloads/Nottingham/train/reels_simple_chords_193.mid',\n",
        " '../../../../Downloads/Nottingham/train/reels_simple_chords_438.mid',\n",
        " '../../../../Downloads/Nottingham/train/jigs_simple_chords_339.mid',\n",
        " '../../../../Downloads/Nottingham/train/morris_simple_chords_15.mid',\n",
        " '../../../../Downloads/Nottingham/train/jigs_simple_chords_297.mid',\n",
        " '../../../../Downloads/Nottingham/train/hpps_simple_chords_45.mid',\n",
        " '../../../../Downloads/Nottingham/train/jigs_simple_chords_63.mid',\n",
        " '../../../../Downloads/Nottingham/train/reels_simple_chords_446.mid',\n",
        " '../../../../Downloads/Nottingham/train/ashover_simple_chords_30.mid',\n",
        " '../../../../Downloads/Nottingham/train/ashover_simple_chords_37.mid',\n",
        " '../../../../Downloads/Nottingham/train/reels_simple_chords_464.mid',\n",
        " '../../../../Downloads/Nottingham/train/reels_simple_chords_236.mid',\n",
        " '../../../../Downloads/Nottingham/train/reels_simple_chords_366.mid',\n",
        " '../../../../Downloads/Nottingham/train/reels_simple_chords_285.mid',\n",
        " '../../../../Downloads/Nottingham/train/jigs_simple_chords_260.mid',\n",
        " '../../../../Downloads/Nottingham/train/reels_simple_chords_162.mid',\n",
        " '../../../../Downloads/Nottingham/train/reels_simple_chords_25.mid',\n",
        " '../../../../Downloads/Nottingham/train/ashover_simple_chords_36.mid',\n",
        " '../../../../Downloads/Nottingham/train/reels_simple_chords_381.mid',\n",
        " '../../../../Downloads/Nottingham/train/reels_simple_chords_62.mid',\n",
        " '../../../../Downloads/Nottingham/train/reels_simple_chords_96.mid',\n",
        " '../../../../Downloads/Nottingham/train/jigs_simple_chords_272.mid',\n",
        " '../../../../Downloads/Nottingham/train/jigs_simple_chords_229.mid',\n",
        " '../../../../Downloads/Nottingham/train/jigs_simple_chords_54.mid',\n",
        " '../../../../Downloads/Nottingham/train/morris_simple_chords_2.mid',\n",
        " '../../../../Downloads/Nottingham/train/ashover_simple_chords_32.mid',\n",
        " '../../../../Downloads/Nottingham/train/reels_simple_chords_396.mid',\n",
        " '../../../../Downloads/Nottingham/train/jigs_simple_chords_314.mid',\n",
        " '../../../../Downloads/Nottingham/train/reels_simple_chords_225.mid',\n",
        " '../../../../Downloads/Nottingham/train/reels_simple_chords_373.mid',\n",
        " '../../../../Downloads/Nottingham/train/jigs_simple_chords_180.mid',\n",
        " '../../../../Downloads/Nottingham/train/reels_simple_chords_290.mid',\n",
        " '../../../../Downloads/Nottingham/train/jigs_simple_chords_127.mid',\n",
        " '../../../../Downloads/Nottingham/train/morris_simple_chords_21.mid',\n",
        " '../../../../Downloads/Nottingham/train/hpps_simple_chords_8.mid',\n",
        " '../../../../Downloads/Nottingham/train/jigs_simple_chords_279.mid',\n",
        " '../../../../Downloads/Nottingham/train/ashover_simple_chords_15.mid',\n",
        " '../../../../Downloads/Nottingham/train/jigs_simple_chords_261.mid',\n",
        " '../../../../Downloads/Nottingham/train/reels_simple_chords_445.mid',\n",
        " '../../../../Downloads/Nottingham/train/reels_simple_chords_68.mid',\n",
        " '../../../../Downloads/Nottingham/train/jigs_simple_chords_228.mid',\n",
        " '../../../../Downloads/Nottingham/train/jigs_simple_chords_12.mid',\n",
        " '../../../../Downloads/Nottingham/train/reels_simple_chords_234.mid',\n",
        " '../../../../Downloads/Nottingham/train/jigs_simple_chords_169.mid',\n",
        " '../../../../Downloads/Nottingham/train/jigs_simple_chords_56.mid',\n",
        " '../../../../Downloads/Nottingham/train/reels_simple_chords_15.mid',\n",
        " '../../../../Downloads/Nottingham/train/jigs_simple_chords_253.mid',\n",
        " '../../../../Downloads/Nottingham/train/reels_simple_chords_158.mid',\n",
        " '../../../../Downloads/Nottingham/train/jigs_simple_chords_273.mid',\n",
        " '../../../../Downloads/Nottingham/train/jigs_simple_chords_337.mid',\n",
        " '../../../../Downloads/Nottingham/train/ashover_simple_chords_1.mid',\n",
        " '../../../../Downloads/Nottingham/train/jigs_simple_chords_183.mid',\n",
        " '../../../../Downloads/Nottingham/train/jigs_simple_chords_309.mid',\n",
        " '../../../../Downloads/Nottingham/train/reels_simple_chords_306.mid',\n",
        " '../../../../Downloads/Nottingham/train/reels_simple_chords_314.mid',\n",
        " '../../../../Downloads/Nottingham/train/jigs_simple_chords_31.mid',\n",
        " '../../../../Downloads/Nottingham/train/reels_simple_chords_45.mid',\n",
        " '../../../../Downloads/Nottingham/train/reels_simple_chords_33.mid',\n",
        " '../../../../Downloads/Nottingham/train/reels_simple_chords_1.mid',\n",
        " '../../../../Downloads/Nottingham/train/hpps_simple_chords_27.mid',\n",
        " '../../../../Downloads/Nottingham/train/reels_simple_chords_182.mid',\n",
        " '../../../../Downloads/Nottingham/train/jigs_simple_chords_176.mid',\n",
        " '../../../../Downloads/Nottingham/train/reels_simple_chords_350.mid',\n",
        " '../../../../Downloads/Nottingham/train/reels_simple_chords_219.mid']"
       ]
      }
     ],
     "prompt_number": 105
    },
    {
     "cell_type": "code",
     "collapsed": false,
     "input": [],
     "language": "python",
     "metadata": {},
     "outputs": []
    }
   ],
   "metadata": {}
  }
 ]
}