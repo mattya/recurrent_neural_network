{
 "metadata": {
  "name": "L_layer_ESN_2"
 },
 "nbformat": 3,
 "nbformat_minor": 0,
 "worksheets": [
  {
   "cells": [
    {
     "cell_type": "code",
     "collapsed": false,
     "input": [
      "from numpy import *\n",
      "from scipy import *"
     ],
     "language": "python",
     "metadata": {},
     "outputs": [],
     "prompt_number": 1
    },
    {
     "cell_type": "code",
     "collapsed": false,
     "input": [
      "T0 = 10000\n",
      "T1 = 30000\n",
      "random.seed(31415)"
     ],
     "language": "python",
     "metadata": {},
     "outputs": [],
     "prompt_number": 2
    },
    {
     "cell_type": "code",
     "collapsed": false,
     "input": [
      "# L layer\n",
      "D = 2\n",
      "N = 30\n",
      "L = 2\n",
      "alpha = 0.1\n",
      "b0 = 0.01\n",
      "corr = 0.0\n",
      "maxSVD_recur = 0.95\n",
      "maxSVD_inter = 0.5\n",
      "taus = [0.8, 0.8]"
     ],
     "language": "python",
     "metadata": {},
     "outputs": [],
     "prompt_number": 38
    },
    {
     "cell_type": "code",
     "collapsed": false,
     "input": [],
     "language": "python",
     "metadata": {},
     "outputs": [],
     "prompt_number": 38
    },
    {
     "cell_type": "code",
     "collapsed": false,
     "input": [],
     "language": "python",
     "metadata": {},
     "outputs": [],
     "prompt_number": 38
    },
    {
     "cell_type": "code",
     "collapsed": false,
     "input": [
      "def activate_function(x):\n",
      "#    return x\n",
      "    return tanh(x)\n",
      "#    return x if x>0 else 0"
     ],
     "language": "python",
     "metadata": {},
     "outputs": [],
     "prompt_number": 39
    },
    {
     "cell_type": "code",
     "collapsed": false,
     "input": [
      "# bias\n",
      "B = zeros((L, N), dtype=float)\n",
      "for l in range(L):\n",
      "    for i in range(N):\n",
      "        B[l,i] = random.uniform(-b0, b0)\n",
      "\n",
      "# generate weight matrix\n",
      "V = zeros((L, N, N), dtype=float)\n",
      "for l in range(L):\n",
      "    for i in range(N):\n",
      "        for j in range(N):\n",
      "            V[l, i,j] = random.uniform(-1, 1) if random.uniform(0, 1)<0.3 else 0\n",
      "    u,s,v = linalg.svd(V[l,:,:])\n",
      "    for i in range(N):\n",
      "        for j in range(N):\n",
      "            V[l,i,j] *= maxSVD_recur/s[0]\n",
      "#    u,s,v = linalg.svd(V[l,:,:])\n",
      "#    print s\n",
      "\n",
      "U = zeros((N, D), dtype=float)\n",
      "for i in range(N):\n",
      "    for j in range(D):\n",
      "        U[i,j] = random.uniform(-1, 1)\n",
      "\n",
      "    \n",
      "W = zeros((L, N, N), dtype=float)\n",
      "for l in range(L):\n",
      "    for i in range(N):\n",
      "        for j in range(N):\n",
      "            W[l,i,j] = random.uniform(-1, 1) if random.uniform(0, 1)<0.3 else 0\n",
      "    u,s,v = linalg.svd(W[l,:,:])\n",
      "    for i in range(N):\n",
      "        for j in range(N):\n",
      "            W[l,i,j] *= maxSVD_inter/s[0]\n",
      "#    u,s,v = linalg.svd(W[l,:,:])\n",
      "#    print s"
     ],
     "language": "python",
     "metadata": {},
     "outputs": [],
     "prompt_number": 40
    },
    {
     "cell_type": "code",
     "collapsed": false,
     "input": [
      "# generate output sequence\n",
      "vfunc = vectorize(activate_function, otypes=[float])\n",
      "x = zeros((L,N), dtype=float)\n",
      "xx = zeros((L, T0+T1, N), dtype=float)\n",
      "a = loadtxt(\"input_D2_corr4.txt\")\n",
      "for l in range(L):\n",
      "    for i in range(N):\n",
      "        x[l,i] = random.uniform(-1, 1)\n",
      "for i in range(T0+T1):\n",
      "    nx = dot(V[0], x[0]) + dot(W[0].T, x[1]) + alpha*dot(U, a[i]) + B[0, :]\n",
      "    x[0] = taus[0]*x[0] + (1.0-taus[0])*vfunc(nx)\n",
      "    for l in range(1,L-1):\n",
      "        nx = dot(V[l], x[l]) + dot(W[l-1], x[l-1]) + dot(W[l].T, x[l+1]) + B[l, :]\n",
      "        x[l] = taus[l]*x[l] + (1.0-taus[l])*vfunc(nx)\n",
      "    nx = dot(V[L-1], x[L-1]) + dot(W[L-2], x[L-2]) + B[L-1, :]\n",
      "    x[L-1] = taus[L-1]*x[L-1] + (1.0-taus[L-1])*vfunc(nx)\n",
      "    \n",
      "    for l in range(L):\n",
      "        xx[l,i,:] = x[l,:]"
     ],
     "language": "python",
     "metadata": {},
     "outputs": [],
     "prompt_number": 41
    },
    {
     "cell_type": "code",
     "collapsed": false,
     "input": [
      "for i in range(L):\n",
      "    savetxt(\"output_D2_corr4_\"+str(i)+\".txt\", xx[i])"
     ],
     "language": "python",
     "metadata": {},
     "outputs": [],
     "prompt_number": 42
    },
    {
     "cell_type": "code",
     "collapsed": false,
     "input": [],
     "language": "python",
     "metadata": {},
     "outputs": [],
     "prompt_number": 42
    },
    {
     "cell_type": "code",
     "collapsed": false,
     "input": [],
     "language": "python",
     "metadata": {},
     "outputs": []
    }
   ],
   "metadata": {}
  }
 ]
}