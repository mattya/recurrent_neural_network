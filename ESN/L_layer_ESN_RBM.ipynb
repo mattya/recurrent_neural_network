{
 "metadata": {
  "name": "L_layer_ESN_RBM"
 },
 "nbformat": 3,
 "nbformat_minor": 0,
 "worksheets": [
  {
   "cells": [
    {
     "cell_type": "code",
     "collapsed": false,
     "input": [
      "from numpy import *\n",
      "from scipy import *"
     ],
     "language": "python",
     "metadata": {},
     "outputs": [],
     "prompt_number": 16
    },
    {
     "cell_type": "code",
     "collapsed": false,
     "input": [
      "T0 = 1000\n",
      "T1 = 3000\n",
      "T2 = 16000\n",
      "\n",
      "eta = 0.01\n",
      "sd = 1"
     ],
     "language": "python",
     "metadata": {},
     "outputs": [],
     "prompt_number": 291
    },
    {
     "cell_type": "code",
     "collapsed": false,
     "input": [
      "# L layer\n",
      "D = 2\n",
      "N = 30\n",
      "L = 4\n",
      "alpha = 0.1\n",
      "b0 = 0.01\n",
      "maxSVD_recur = 0.95\n",
      "maxSVD_inter = 0.1\n",
      "taus = [0.01, 0.1, 0.5, 0.7]\n",
      "\n",
      "\n",
      "B = zeros((L, N), dtype=float)\n",
      "V = zeros((L, N, N), dtype=float)   # recurrent\n",
      "U = zeros((N, D), dtype=float)\n",
      "W = zeros((L, N, N), dtype=float)   # inter_layer\n",
      "\n",
      "# RBM\n",
      "M = 30\n",
      "\n",
      "RW = zeros((L, M, N), dtype=float)\n",
      "bv = zeros((L, N), dtype=float)\n",
      "bh = zeros((L, M), dtype=float)\n",
      "\n",
      "# RNN to RBM\n",
      "VSN = zeros((L, N), dtype=float)\n",
      "VSM = zeros((L, N), dtype=float)\n",
      "VS = zeros((L, N), dtype=float)"
     ],
     "language": "python",
     "metadata": {},
     "outputs": [],
     "prompt_number": 292
    },
    {
     "cell_type": "code",
     "collapsed": false,
     "input": [
      "def activate_function(x):\n",
      "#    return x\n",
      "    return tanh(x)\n",
      "#    return x if x>0 else 0\n",
      "\n",
      "def sigmoid(x):\n",
      "    return 1.0/(1.0+exp(-x))"
     ],
     "language": "python",
     "metadata": {},
     "outputs": [],
     "prompt_number": 293
    },
    {
     "cell_type": "code",
     "collapsed": false,
     "input": [
      "\n",
      "random.seed(31415)\n",
      "\n",
      "# generate weight matrix\n",
      "for l in range(L):\n",
      "    for i in range(N):\n",
      "        B[l,i] = random.uniform(-b0, b0)\n",
      "#V = zeros((L, N, N), dtype=float)\n",
      "for l in range(L):\n",
      "    for i in range(N):\n",
      "        for j in range(N):\n",
      "            V[l, i,j] = random.uniform(-1, 1) if random.uniform(0, 1)<0.3 else 0\n",
      "    u,s,v = linalg.svd(V[l,:,:])\n",
      "    for i in range(N):\n",
      "        for j in range(N):\n",
      "            V[l,i,j] *= maxSVD_recur/s[0]\n",
      "#    u,s,v = linalg.svd(V[l,:,:])\n",
      "#    print s\n",
      "\n",
      "#U = zeros(N, dtype=float)\n",
      "\n",
      "U = zeros((N, D), dtype=float)\n",
      "for i in range(N):\n",
      "    for j in range(D):\n",
      "        U[i,j] = random.uniform(-1, 1)\n",
      "\n",
      "    \n",
      "#W = zeros((L, N, N), dtype=float)\n",
      "for l in range(L):\n",
      "    for i in range(N):\n",
      "        for j in range(N):\n",
      "            W[l,i,j] = random.uniform(-1, 1) if random.uniform(0, 1)<0.3 else 0\n",
      "    u,s,v = linalg.svd(W[l,:,:])\n",
      "    for i in range(N):\n",
      "        for j in range(N):\n",
      "            W[l,i,j] *= maxSVD_inter/s[0]\n",
      "#    u,s,v = linalg.svd(W[l,:,:])\n",
      "#    print s\n",
      "\n",
      "for l in range(L):\n",
      "    for i in range(M):\n",
      "        for j in range(N):\n",
      "            RW[l,i,j] = random.uniform(-0.01, 0.01)"
     ],
     "language": "python",
     "metadata": {},
     "outputs": [],
     "prompt_number": 294
    },
    {
     "cell_type": "code",
     "collapsed": false,
     "input": [
      "# variables\n",
      "vfunc = vectorize(activate_function, otypes=[float])\n",
      "vsigm = vectorize(sigmoid, otypes=[float])\n",
      "x = zeros((L,N), dtype=float)\n",
      "xx = zeros((L, T0+T1+T2, N), dtype=float)\n",
      "v = zeros((L,N), dtype=float)\n",
      "vv = zeros((L, T0+T1+T2, N), dtype=float)\n",
      "h = zeros((L,M), dtype=float)\n",
      "hh = zeros((L, T0+T1+T2, M), dtype=float)"
     ],
     "language": "python",
     "metadata": {},
     "outputs": [],
     "prompt_number": 295
    },
    {
     "cell_type": "code",
     "collapsed": false,
     "input": [
      "\n",
      "a = loadtxt(\"input_D2_circ.txt\")\n",
      "\n",
      "for l in range(L):\n",
      "    for i in range(N):\n",
      "        x[l,i] = random.uniform(-1, 1)\n",
      "        \n",
      "for i in range(T0+T1+T2):\n",
      "    # phase 1\n",
      "    # input to ESN and adjust VS\n",
      "    nx = dot(V[0], x[0]) + dot(W[0].T, x[1]) + alpha*dot(U, a[i]) + B[0, :] + 0.3*v[0,:]\n",
      "    x[0] = taus[0]*x[0] + (1.0-taus[0])*vfunc(nx)\n",
      "    for l in range(1,L-1):\n",
      "        nx = dot(V[l], x[l]) + dot(W[l-1], x[l-1]) + dot(W[l].T, x[l+1]) + B[l, :] + 0.3*v[l,:]\n",
      "        x[l] = taus[l]*x[l] + (1.0-taus[l])*vfunc(nx)\n",
      "    nx = dot(V[L-1], x[L-1]) + dot(W[L-2], x[L-2]) + B[L-1, :] + 0.3*v[L-1,:]\n",
      "    x[L-1] = taus[L-1]*x[L-1] + (1.0-taus[L-1])*vfunc(nx)\n",
      "    \n",
      "    for l in range(L):\n",
      "        for j in range(N):\n",
      "            VS[l,j] = 0.99*(VS[l,j]) + (x[l,j]**2)\n",
      "            VSM[l,j] = 0.99*VSM[l,j] + x[l,j]\n",
      "            VSN[l,j] = 0.99*VSN[l,j] + 1.0\n",
      "            # Var = VS/VSN - VSM**2\n",
      "            \n",
      "    # phase 2\n",
      "    # train RBM\n",
      "    if i>T0:\n",
      "        for l in range(L):\n",
      "            for j in range(N):\n",
      "#                v[l,j] = x[l,j]\n",
      "                v[l,j] = (x[l,j] - VSM[l,j]/VSN[l,j])/sqrt(VS[l,j]/VSN[l,j] - (VSM[l,j]/VSN[l,j])**2)\n",
      "            \n",
      "            # v->h\n",
      "            h_0_args = dot(RW[l,:,:], v[l,:])/sd + bh[l,:]\n",
      "            h_0_mean = vsigm(h_0_args)\n",
      "    #        h_0_mean_= vsigm(h_0_args - bh[l,:])\n",
      "            h_0_samp = random.binomial(1, h_0_mean, h_0_mean.shape[0])\n",
      "        \n",
      "#            print VS[l,:], VSM[l,:], VSN[l,:], x[l,:], RW[l,:,:], bh[l,:]\n",
      "            \n",
      "            # h->v\n",
      "            v_1_args = sd*dot(RW[l,:,:].T, h_0_samp[:]) + bv[l,:]\n",
      "    #        v_1_mean = vsigm(v_1_args)\n",
      "            v_1_samp = random.normal(v_1_args, sd, v_1_args.shape[0])\n",
      "    \n",
      "            # v->h\n",
      "            h_1_args = dot(RW[l,:,:], v_1_samp[:])/sd + bh[l,:]\n",
      "            h_1_mean = vsigm(h_1_args)\n",
      "            h_1_samp = random.binomial(1, h_1_mean, h_1_mean.shape[0])\n",
      "            \n",
      "            # contrastive divergence k=1\n",
      "            RW[l,:,:] += eta * (outer(h_0_mean, v[l,:]) - outer(h_1_mean, v_1_samp))\n",
      "            bh[l,:]   += eta * (h_0_samp - h_1_mean)\n",
      "            bv[l,:]   += eta * (v[l,:] - v_1_args)\n",
      "            \n",
      "            # reconstruction\n",
      "#            v[l,:] = v_1_args\n",
      "#            h[l,:] = h_0_mean\n",
      "            v[l,:] = 0\n",
      "\n",
      "            for j in range(N):\n",
      "#                v[l,j] = (v_1_args[j])*sqrt(VS[l,j]/VSN[l,j] - (VSM[l,j]/VSN[l,j])**2) + VSM[l,j]/VSN[l,j]\n",
      "                if i>T0+T1:\n",
      "                    v[l,j] = (v_1_args[j])*sqrt(VS[l,j]/VSN[l,j] - (VSM[l,j]/VSN[l,j])**2) + VSM[l,j]/VSN[l,j]\n",
      "#                    v[l,j] = x[l,j]\n",
      "#                    x[l,j] = 0.8*x[l,j] + 0.2*((v_1_args[j])*sqrt(VS[l,j]/VSN[l,j] - (VSM[l,j]/VSN[l,j])**2) + VSM[l,j]/VSN[l,j])\n",
      "            \n",
      "    # phase 3\n",
      "    # output\n",
      "    for l in range(L):\n",
      "        xx[l,i,:] = x[l,:]\n",
      "        vv[l,i,:] = v[l,:]\n",
      "        hh[l,i,:] = h[l,:]\n",
      "#    if i>T0+T1:\n",
      "#        for l in range(L):\n",
      "#            xx[l,i-(T0+T1),:] = x[l,:]"
     ],
     "language": "python",
     "metadata": {},
     "outputs": [],
     "prompt_number": "*"
    },
    {
     "cell_type": "code",
     "collapsed": false,
     "input": [
      "for i in range(L):\n",
      "    savetxt(\"output_D2_circ_\"+str(i)+\".txt\", xx[i])"
     ],
     "language": "python",
     "metadata": {},
     "outputs": [],
     "prompt_number": "*"
    },
    {
     "cell_type": "code",
     "collapsed": false,
     "input": [
      "figure()\n",
      "plot(xx[2,1000:18000,1])\n",
      "plot(vv[2,1000:18000,1])\n",
      "#ylim(-0.1, 0.1)"
     ],
     "language": "python",
     "metadata": {},
     "outputs": [
      {
       "output_type": "pyout",
       "prompt_number": 283,
       "text": [
        "[<matplotlib.lines.Line2D at 0x18ce4c0c>]"
       ]
      }
     ],
     "prompt_number": 283
    },
    {
     "cell_type": "code",
     "collapsed": false,
     "input": [
      "VSN[1,1]"
     ],
     "language": "python",
     "metadata": {},
     "outputs": [
      {
       "output_type": "pyout",
       "prompt_number": 64,
       "text": [
        "99.999999999999204"
       ]
      }
     ],
     "prompt_number": 64
    },
    {
     "cell_type": "code",
     "collapsed": false,
     "input": [
      "figure()\n",
      "plot(a[:3000, 0])"
     ],
     "language": "python",
     "metadata": {},
     "outputs": [
      {
       "output_type": "pyout",
       "prompt_number": 31,
       "text": [
        "[<matplotlib.lines.Line2D at 0x994362c>]"
       ]
      }
     ],
     "prompt_number": 31
    },
    {
     "cell_type": "code",
     "collapsed": false,
     "input": [
      "vsigm([3,1,4,-1,-5, -1000])\n",
      "random.normal([3,1,4,-1,-5], 0.1, 5)\n",
      "random.binomial(1, [0.3, 0.1, 0.4, 0.1, 0.5], 5)"
     ],
     "language": "python",
     "metadata": {},
     "outputs": [
      {
       "output_type": "pyout",
       "prompt_number": 72,
       "text": [
        "array([0, 0, 1, 0, 0])"
       ]
      }
     ],
     "prompt_number": 72
    },
    {
     "cell_type": "code",
     "collapsed": false,
     "input": [
      "figure()\n",
      "plot(vv[1,:10000,0])\n",
      "ylim(-0.01, 0.01)"
     ],
     "language": "python",
     "metadata": {},
     "outputs": [
      {
       "output_type": "pyout",
       "prompt_number": 41,
       "text": [
        "(-0.01, 0.01)"
       ]
      }
     ],
     "prompt_number": 41
    },
    {
     "cell_type": "code",
     "collapsed": false,
     "input": [
      "xx.shape"
     ],
     "language": "python",
     "metadata": {},
     "outputs": [
      {
       "output_type": "pyout",
       "prompt_number": 42,
       "text": [
        "(2, 10000, 30)"
       ]
      }
     ],
     "prompt_number": 42
    },
    {
     "cell_type": "code",
     "collapsed": false,
     "input": [
      "hh[1,1001,0]"
     ],
     "language": "python",
     "metadata": {},
     "outputs": [
      {
       "output_type": "pyout",
       "prompt_number": 92,
       "text": [
        "nan"
       ]
      }
     ],
     "prompt_number": 92
    },
    {
     "cell_type": "code",
     "collapsed": false,
     "input": [
      "outer(array([1,2]),(array([3,4,5])))"
     ],
     "language": "python",
     "metadata": {},
     "outputs": [
      {
       "output_type": "pyout",
       "prompt_number": 135,
       "text": [
        "array([[ 3,  4,  5],\n",
        "       [ 6,  8, 10]])"
       ]
      }
     ],
     "prompt_number": 135
    },
    {
     "cell_type": "code",
     "collapsed": false,
     "input": [],
     "language": "python",
     "metadata": {},
     "outputs": []
    }
   ],
   "metadata": {}
  }
 ]
}