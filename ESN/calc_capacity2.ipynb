{
 "metadata": {
  "name": "calc_capacity2"
 },
 "nbformat": 3,
 "nbformat_minor": 0,
 "worksheets": [
  {
   "cells": [
    {
     "cell_type": "code",
     "collapsed": false,
     "input": [
      "from numpy import *\n",
      "from scipy import *\n",
      "from sklearn import *"
     ],
     "language": "python",
     "metadata": {},
     "outputs": [],
     "prompt_number": 121
    },
    {
     "cell_type": "code",
     "collapsed": false,
     "input": [
      "T0 = 5000\n",
      "T1 = 5000"
     ],
     "language": "python",
     "metadata": {},
     "outputs": [],
     "prompt_number": 129
    },
    {
     "cell_type": "code",
     "collapsed": false,
     "input": [
      "# L layer\n",
      "D = 2\n",
      "N = 30\n",
      "L = 2\n",
      "alpha = 0.01\n",
      "b0 = 0.01\n",
      "corr = 0.0\n",
      "maxSVD_recur = 0.95\n",
      "maxSVD_inter = 0.5\n",
      "taus = [0.01, 0.7]"
     ],
     "language": "python",
     "metadata": {},
     "outputs": [],
     "prompt_number": 130
    },
    {
     "cell_type": "code",
     "collapsed": false,
     "input": [
      "def legendre(n, x):\n",
      "    if n==0:\n",
      "        return 1\n",
      "    elif n==1:\n",
      "        return x * (2*n+1)/2\n",
      "    elif n==2:\n",
      "        return (1.5*x*x-0.5) * (2*n+1)/2\n",
      "    elif n==3:\n",
      "        return (2.5*x*x*x-1.5*x) * (2*n+1)/2"
     ],
     "language": "python",
     "metadata": {},
     "outputs": [],
     "prompt_number": 131
    },
    {
     "cell_type": "code",
     "collapsed": false,
     "input": [
      "a = loadtxt(\"input_D2_circ.txt\")\n",
      "#b2 = loadtxt(\"output_lin.txt\")\n",
      "#b1 = loadtxt(\"output_D2_circ_0.txt\")\n",
      "#b2 = loadtxt(\"output_D2_circ_1.txt\")\n",
      "b1 = loadtxt(\"output_D2_circ_0.txt\")\n",
      "b2 = loadtxt(\"output_D2_circ_1.txt\")\n",
      "b3 = loadtxt(\"output_D2_circ_2.txt\")\n",
      "b4 = loadtxt(\"output_D2_circ_3.txt\")\n",
      "print b1.shape\n",
      "print b2.shape"
     ],
     "language": "python",
     "metadata": {},
     "outputs": [
      {
       "output_type": "stream",
       "stream": "stdout",
       "text": [
        "(20000, 30)\n",
        "(20000, 30)\n"
       ]
      }
     ],
     "prompt_number": 322
    },
    {
     "cell_type": "code",
     "collapsed": false,
     "input": [
      "figure()\n",
      "clf()\n",
      "plot(b2[1000:1400,0])\n",
      "plot(b2[1000:1400,1])\n",
      "plot(b2[1000:1400,2])\n",
      "plot(b2[1000:1400,3])\n",
      "#ylim(-1.0, 1.0)"
     ],
     "language": "python",
     "metadata": {},
     "outputs": [
      {
       "output_type": "pyout",
       "prompt_number": 36,
       "text": [
        "[<matplotlib.lines.Line2D at 0xd00aa0c>]"
       ]
      }
     ],
     "prompt_number": 36
    },
    {
     "cell_type": "code",
     "collapsed": false,
     "input": [
      "P = 40\n",
      "ls = zeros((P+T1, D, 4), dtype=float)\n",
      "\n",
      "for t in range(P+T1):\n",
      "    for i in range(D):\n",
      "        for j in range(4):\n",
      "            ls[t, i, j] = legendre(j, a[T0+t-P, i])"
     ],
     "language": "python",
     "metadata": {},
     "outputs": [],
     "prompt_number": 140
    },
    {
     "cell_type": "code",
     "collapsed": false,
     "input": [
      "def calc_cap(ds, plotflag):\n",
      "    y = zeros(T1, dtype=float)\n",
      "    for i in range(T1):\n",
      "        tmp = 1.0\n",
      "        for j in ds:\n",
      "            tmp *= ls[i-j[0]+P, j[1], j[2]]\n",
      "#        for j in range(ds.shape[0]):\n",
      "#            for k in range(ds.shape[1]):\n",
      "#            tmp *= legendre(ds[j], a[T0+i-j])\n",
      "#                print j,k\n",
      "#                tmp *= ls[i-j+P, k, ds[j, k]]\n",
      "        y[i] = tmp\n",
      "    lin = linear_model.LinearRegression()\n",
      "    lin.fit(hstack([b1[T0:T0+T1,:], b2[T0:T0+T1,:]]), y[:T1])\n",
      "    z = lin.predict(hstack([b1[T0:,:], b2[T0:,:]]))\n",
      "\n",
      "    if plotflag:\n",
      "        figure()\n",
      "        plot(y)\n",
      "        plot(z)\n",
      "    \n",
      "    mse = 0\n",
      "    yy = 0\n",
      "    for i in range(T1):\n",
      "        mse += (y[i] - z[i])**2\n",
      "        yy += y[i]**2\n",
      "    \n",
      "    return 1.0 - mse/yy"
     ],
     "language": "python",
     "metadata": {},
     "outputs": [],
     "prompt_number": 141
    },
    {
     "cell_type": "code",
     "collapsed": false,
     "input": [
      "memo = zeros(10000, dtype=float)\n",
      "memos = []\n",
      "cnt = 0\n",
      "for i0,i1 in [(i0,i1) for i0 in range(40) for i1 in range(D)]:\n",
      "    ds = []\n",
      "    ds.append((i0, i1, 1))\n",
      "#    ds = zeros((30, D), dtype=float)\n",
      "#    ds[i0, i1] += 1\n",
      "    memo[cnt] = calc_cap(ds, False)\n",
      "    memos.append(str(ds))\n",
      "    #print cnt, memo[cnt], str(ds)\n",
      "    if cnt%20==0:\n",
      "        print cnt\n",
      "    cnt += 1\n",
      "for i0,i1 in [(i0,i1) for i0 in range(12) for i1 in range(D)]:\n",
      "    for j0,j1 in [(j0,j1) for j0 in range(12) for j1 in range(D)]:\n",
      "        if j0*D+j1 >= i0*D+i1:\n",
      "            ds = []\n",
      "            if (i0,i1)==(j0,j1):\n",
      "                ds.append((i0, i1, 2))\n",
      "            else:\n",
      "                ds.append((i0, i1, 1))\n",
      "                ds.append((j0, j1, 1))\n",
      "#            ds = zeros((30, D), dtype=float)\n",
      "#            ds[i0, i1] += 1\n",
      "#            ds[j0, j1] += 1\n",
      "            memo[cnt] = calc_cap(ds, False)\n",
      "            memos.append(str(ds))\n",
      "#            print cnt, memo[cnt], str(ds)\n",
      "            if cnt%20==0:\n",
      "                print cnt\n",
      "            cnt += 1\n",
      "for i0,i1 in [(i0,i1) for i0 in range(8) for i1 in range(D)]:\n",
      "    for j0,j1 in [(j0,j1) for j0 in range(8) for j1 in range(D)]:\n",
      "        for k0,k1 in [(k0,k1) for k0 in range(8) for k1 in range(D)]:\n",
      "            if k0*D+k1 >= j0*D+j1 and j0*D+j1 >= i0*D+i1:\n",
      "                ds = []\n",
      "                if (i0,i1)==(j0,j1)==(k0, k1):\n",
      "                    ds.append((i0, i1, 3))\n",
      "                elif (i0,i1)==(j0,j1):\n",
      "                    ds.append((i0, i1, 2))\n",
      "                    ds.append((k0, k1, 1))\n",
      "                elif (k0,k1)==(j0,j1):\n",
      "                    ds.append((i0, i1, 1))\n",
      "                    ds.append((k0, k1, 2))\n",
      "                else:\n",
      "                    ds.append((i0, i1, 2))\n",
      "                    ds.append((j0, j1, 1))\n",
      "                    ds.append((k0, k1, 1))\n",
      "    #            ds = zeros((30, D), dtype=float)\n",
      "    #            ds[i0, i1] += 1\n",
      "    #            ds[j0, j1] += 1\n",
      "                memo[cnt] = calc_cap(ds, False)\n",
      "                memos.append(str(ds))\n",
      "#                print cnt, memo[cnt], str(ds)\n",
      "                if cnt%20==0:\n",
      "                    print cnt\n",
      "                cnt += 1"
     ],
     "language": "python",
     "metadata": {},
     "outputs": [
      {
       "output_type": "stream",
       "stream": "stdout",
       "text": [
        "0\n",
        "20"
       ]
      },
      {
       "output_type": "stream",
       "stream": "stdout",
       "text": [
        "\n",
        "40"
       ]
      },
      {
       "output_type": "stream",
       "stream": "stdout",
       "text": [
        "\n",
        "60"
       ]
      },
      {
       "output_type": "stream",
       "stream": "stdout",
       "text": [
        "\n",
        "80"
       ]
      },
      {
       "output_type": "stream",
       "stream": "stdout",
       "text": [
        "\n",
        "100"
       ]
      },
      {
       "output_type": "stream",
       "stream": "stdout",
       "text": [
        "\n",
        "120"
       ]
      },
      {
       "output_type": "stream",
       "stream": "stdout",
       "text": [
        "\n",
        "140"
       ]
      },
      {
       "output_type": "stream",
       "stream": "stdout",
       "text": [
        "\n",
        "160"
       ]
      },
      {
       "output_type": "stream",
       "stream": "stdout",
       "text": [
        "\n",
        "180"
       ]
      },
      {
       "output_type": "stream",
       "stream": "stdout",
       "text": [
        "\n",
        "200"
       ]
      },
      {
       "output_type": "stream",
       "stream": "stdout",
       "text": [
        "\n",
        "220"
       ]
      },
      {
       "output_type": "stream",
       "stream": "stdout",
       "text": [
        "\n",
        "240"
       ]
      },
      {
       "output_type": "stream",
       "stream": "stdout",
       "text": [
        "\n",
        "260"
       ]
      },
      {
       "output_type": "stream",
       "stream": "stdout",
       "text": [
        "\n",
        "280"
       ]
      },
      {
       "output_type": "stream",
       "stream": "stdout",
       "text": [
        "\n",
        "300"
       ]
      },
      {
       "output_type": "stream",
       "stream": "stdout",
       "text": [
        "\n",
        "320"
       ]
      },
      {
       "output_type": "stream",
       "stream": "stdout",
       "text": [
        "\n",
        "340"
       ]
      },
      {
       "output_type": "stream",
       "stream": "stdout",
       "text": [
        "\n",
        "360"
       ]
      },
      {
       "output_type": "stream",
       "stream": "stdout",
       "text": [
        "\n",
        "380"
       ]
      },
      {
       "output_type": "stream",
       "stream": "stdout",
       "text": [
        "\n",
        "400"
       ]
      },
      {
       "output_type": "stream",
       "stream": "stdout",
       "text": [
        "\n",
        "420"
       ]
      },
      {
       "output_type": "stream",
       "stream": "stdout",
       "text": [
        "\n",
        "440"
       ]
      },
      {
       "output_type": "stream",
       "stream": "stdout",
       "text": [
        "\n",
        "460"
       ]
      },
      {
       "output_type": "stream",
       "stream": "stdout",
       "text": [
        "\n",
        "480"
       ]
      },
      {
       "output_type": "stream",
       "stream": "stdout",
       "text": [
        "\n",
        "500"
       ]
      },
      {
       "output_type": "stream",
       "stream": "stdout",
       "text": [
        "\n",
        "520"
       ]
      },
      {
       "output_type": "stream",
       "stream": "stdout",
       "text": [
        "\n",
        "540"
       ]
      },
      {
       "output_type": "stream",
       "stream": "stdout",
       "text": [
        "\n",
        "560"
       ]
      },
      {
       "output_type": "stream",
       "stream": "stdout",
       "text": [
        "\n",
        "580"
       ]
      },
      {
       "output_type": "stream",
       "stream": "stdout",
       "text": [
        "\n",
        "600"
       ]
      },
      {
       "output_type": "stream",
       "stream": "stdout",
       "text": [
        "\n",
        "620"
       ]
      },
      {
       "output_type": "stream",
       "stream": "stdout",
       "text": [
        "\n",
        "640"
       ]
      },
      {
       "output_type": "stream",
       "stream": "stdout",
       "text": [
        "\n",
        "660"
       ]
      },
      {
       "output_type": "stream",
       "stream": "stdout",
       "text": [
        "\n",
        "680"
       ]
      },
      {
       "output_type": "stream",
       "stream": "stdout",
       "text": [
        "\n",
        "700"
       ]
      },
      {
       "output_type": "stream",
       "stream": "stdout",
       "text": [
        "\n",
        "720"
       ]
      },
      {
       "output_type": "stream",
       "stream": "stdout",
       "text": [
        "\n",
        "740"
       ]
      },
      {
       "output_type": "stream",
       "stream": "stdout",
       "text": [
        "\n",
        "760"
       ]
      },
      {
       "output_type": "stream",
       "stream": "stdout",
       "text": [
        "\n",
        "780"
       ]
      },
      {
       "output_type": "stream",
       "stream": "stdout",
       "text": [
        "\n",
        "800"
       ]
      },
      {
       "output_type": "stream",
       "stream": "stdout",
       "text": [
        "\n",
        "820"
       ]
      },
      {
       "output_type": "stream",
       "stream": "stdout",
       "text": [
        "\n",
        "840"
       ]
      },
      {
       "output_type": "stream",
       "stream": "stdout",
       "text": [
        "\n",
        "860"
       ]
      },
      {
       "output_type": "stream",
       "stream": "stdout",
       "text": [
        "\n",
        "880"
       ]
      },
      {
       "output_type": "stream",
       "stream": "stdout",
       "text": [
        "\n",
        "900"
       ]
      },
      {
       "output_type": "stream",
       "stream": "stdout",
       "text": [
        "\n",
        "920"
       ]
      },
      {
       "output_type": "stream",
       "stream": "stdout",
       "text": [
        "\n",
        "940"
       ]
      },
      {
       "output_type": "stream",
       "stream": "stdout",
       "text": [
        "\n",
        "960"
       ]
      },
      {
       "output_type": "stream",
       "stream": "stdout",
       "text": [
        "\n",
        "980"
       ]
      },
      {
       "output_type": "stream",
       "stream": "stdout",
       "text": [
        "\n",
        "1000"
       ]
      },
      {
       "output_type": "stream",
       "stream": "stdout",
       "text": [
        "\n",
        "1020"
       ]
      },
      {
       "output_type": "stream",
       "stream": "stdout",
       "text": [
        "\n",
        "1040"
       ]
      },
      {
       "output_type": "stream",
       "stream": "stdout",
       "text": [
        "\n",
        "1060"
       ]
      },
      {
       "output_type": "stream",
       "stream": "stdout",
       "text": [
        "\n",
        "1080"
       ]
      },
      {
       "output_type": "stream",
       "stream": "stdout",
       "text": [
        "\n",
        "1100"
       ]
      },
      {
       "output_type": "stream",
       "stream": "stdout",
       "text": [
        "\n",
        "1120"
       ]
      },
      {
       "output_type": "stream",
       "stream": "stdout",
       "text": [
        "\n",
        "1140"
       ]
      },
      {
       "output_type": "stream",
       "stream": "stdout",
       "text": [
        "\n",
        "1160"
       ]
      },
      {
       "output_type": "stream",
       "stream": "stdout",
       "text": [
        "\n",
        "1180"
       ]
      },
      {
       "output_type": "stream",
       "stream": "stdout",
       "text": [
        "\n"
       ]
      }
     ],
     "prompt_number": 142
    },
    {
     "cell_type": "code",
     "collapsed": false,
     "input": [
      "sum(memo)"
     ],
     "language": "python",
     "metadata": {},
     "outputs": [
      {
       "output_type": "pyout",
       "prompt_number": 115,
       "text": [
        "198.74003169270296"
       ]
      }
     ],
     "prompt_number": 115
    },
    {
     "cell_type": "code",
     "collapsed": false,
     "input": [
      "print calc_cap([(3,0,3)], True)\n",
      "xlim(0, 500)"
     ],
     "language": "python",
     "metadata": {},
     "outputs": [
      {
       "output_type": "stream",
       "stream": "stdout",
       "text": [
        "0.0129526552454\n"
       ]
      },
      {
       "output_type": "pyout",
       "prompt_number": 56,
       "text": [
        "(0, 500)"
       ]
      }
     ],
     "prompt_number": 56
    },
    {
     "cell_type": "code",
     "collapsed": false,
     "input": [
      "xlim(0, 1000)"
     ],
     "language": "python",
     "metadata": {},
     "outputs": [
      {
       "output_type": "pyout",
       "prompt_number": 52,
       "text": [
        "(0, 1000)"
       ]
      }
     ],
     "prompt_number": 52
    },
    {
     "cell_type": "code",
     "collapsed": false,
     "input": [
      "figure(18)\n",
      "plot(memo[:385])"
     ],
     "language": "python",
     "metadata": {},
     "outputs": [
      {
       "output_type": "pyout",
       "prompt_number": 143,
       "text": [
        "[<matplotlib.lines.Line2D at 0xd01dc0c>]"
       ]
      }
     ],
     "prompt_number": 143
    },
    {
     "cell_type": "code",
     "collapsed": false,
     "input": [
      "yscale(\"log\")"
     ],
     "language": "python",
     "metadata": {},
     "outputs": [],
     "prompt_number": 22
    },
    {
     "cell_type": "code",
     "collapsed": false,
     "input": [
      "memos = array(memos)\n",
      "memos[memo[:385]>0.005]"
     ],
     "language": "python",
     "metadata": {},
     "outputs": [
      {
       "output_type": "pyout",
       "prompt_number": 42,
       "text": [
        "array(['[(0, 0, 1)]', '[(0, 1, 1)]', '[(1, 0, 1)]', '[(1, 1, 1)]',\n",
        "       '[(2, 0, 1)]', '[(2, 1, 1)]', '[(3, 0, 1)]', '[(3, 1, 1)]',\n",
        "       '[(4, 0, 1)]', '[(4, 1, 1)]', '[(5, 0, 1)]', '[(5, 1, 1)]',\n",
        "       '[(6, 0, 1)]', '[(6, 1, 1)]', '[(7, 0, 1)]', '[(7, 1, 1)]',\n",
        "       '[(8, 0, 1)]', '[(8, 1, 1)]', '[(9, 0, 1)]', '[(9, 1, 1)]',\n",
        "       '[(10, 0, 1)]', '[(10, 1, 1)]', '[(11, 0, 1)]', '[(11, 1, 1)]',\n",
        "       '[(12, 0, 1)]', '[(12, 1, 1)]', '[(13, 0, 1)]', '[(13, 1, 1)]',\n",
        "       '[(14, 0, 1)]', '[(14, 1, 1)]', '[(15, 0, 1)]', '[(15, 1, 1)]',\n",
        "       '[(16, 0, 1)]', '[(16, 1, 1)]', '[(17, 0, 1)]', '[(17, 1, 1)]',\n",
        "       '[(18, 0, 1)]', '[(18, 1, 1)]', '[(19, 0, 1)]', '[(19, 1, 1)]',\n",
        "       '[(20, 0, 1)]', '[(20, 1, 1)]', '[(21, 0, 1)]', '[(21, 1, 1)]',\n",
        "       '[(22, 0, 1)]', '[(22, 1, 1)]', '[(23, 0, 1)]', '[(23, 1, 1)]',\n",
        "       '[(24, 0, 1)]', '[(24, 1, 1)]', '[(25, 0, 1)]', '[(25, 1, 1)]',\n",
        "       '[(26, 0, 1)]', '[(26, 1, 1)]', '[(27, 0, 1)]', '[(27, 1, 1)]',\n",
        "       '[(28, 0, 1)]', '[(28, 1, 1)]', '[(29, 0, 1)]', '[(29, 1, 1)]',\n",
        "       '[(0, 0, 2)]', '[(0, 0, 1), (0, 1, 1)]', '[(0, 0, 1), (1, 0, 1)]',\n",
        "       '[(0, 0, 1), (1, 1, 1)]', '[(0, 0, 1), (2, 0, 1)]',\n",
        "       '[(0, 0, 1), (2, 1, 1)]', '[(0, 1, 2)]', '[(0, 1, 1), (1, 0, 1)]',\n",
        "       '[(0, 1, 1), (1, 1, 1)]', '[(0, 1, 1), (2, 0, 1)]',\n",
        "       '[(0, 1, 1), (2, 1, 1)]', '[(1, 0, 2)]', '[(1, 0, 1), (1, 1, 1)]',\n",
        "       '[(1, 0, 1), (2, 0, 1)]', '[(1, 0, 1), (2, 1, 1)]',\n",
        "       '[(1, 0, 1), (3, 0, 1)]', '[(1, 0, 1), (3, 1, 1)]',\n",
        "       '[(1, 0, 1), (4, 0, 1)]', '[(1, 1, 2)]', '[(1, 1, 1), (2, 0, 1)]',\n",
        "       '[(1, 1, 1), (2, 1, 1)]', '[(1, 1, 1), (3, 0, 1)]',\n",
        "       '[(1, 1, 1), (3, 1, 1)]', '[(2, 0, 2)]', '[(2, 0, 1), (2, 1, 1)]',\n",
        "       '[(2, 0, 1), (3, 0, 1)]', '[(2, 0, 1), (3, 1, 1)]',\n",
        "       '[(2, 0, 1), (4, 0, 1)]', '[(2, 0, 1), (4, 1, 1)]',\n",
        "       '[(2, 0, 1), (5, 0, 1)]', '[(2, 0, 1), (5, 1, 1)]', '[(2, 1, 2)]',\n",
        "       '[(2, 1, 1), (3, 0, 1)]', '[(2, 1, 1), (3, 1, 1)]',\n",
        "       '[(2, 1, 1), (4, 0, 1)]', '[(2, 1, 1), (4, 1, 1)]', '[(3, 0, 2)]',\n",
        "       '[(3, 0, 1), (3, 1, 1)]', '[(3, 0, 1), (4, 0, 1)]',\n",
        "       '[(3, 0, 1), (4, 1, 1)]', '[(3, 0, 1), (5, 0, 1)]',\n",
        "       '[(3, 0, 1), (5, 1, 1)]', '[(3, 0, 1), (6, 0, 1)]', '[(3, 1, 2)]',\n",
        "       '[(3, 1, 1), (4, 0, 1)]', '[(3, 1, 1), (4, 1, 1)]',\n",
        "       '[(3, 1, 1), (5, 0, 1)]', '[(3, 1, 1), (5, 1, 1)]', '[(4, 0, 2)]',\n",
        "       '[(4, 0, 1), (4, 1, 1)]', '[(4, 0, 1), (5, 0, 1)]',\n",
        "       '[(4, 0, 1), (5, 1, 1)]', '[(4, 0, 1), (6, 0, 1)]',\n",
        "       '[(4, 0, 1), (6, 1, 1)]', '[(4, 1, 2)]', '[(4, 1, 1), (5, 1, 1)]',\n",
        "       '[(4, 1, 1), (6, 1, 1)]', '[(5, 0, 2)]', '[(5, 0, 1), (5, 1, 1)]',\n",
        "       '[(5, 0, 1), (6, 0, 1)]', '[(5, 0, 1), (6, 1, 1)]', '[(5, 1, 2)]',\n",
        "       '[(5, 1, 1), (6, 0, 1)]', '[(5, 1, 1), (6, 1, 1)]', '[(6, 0, 2)]',\n",
        "       '[(6, 0, 1), (6, 1, 1)]', '[(6, 1, 2)]', '[(0, 0, 2), (0, 1, 1)]',\n",
        "       '[(0, 1, 1), (1, 1, 2)]', '[(1, 0, 2), (1, 1, 1)]',\n",
        "       '[(1, 0, 1), (1, 1, 2)]', '[(2, 0, 2), (2, 1, 1)]'], \n",
        "      dtype='|S33')"
       ]
      }
     ],
     "prompt_number": 42
    },
    {
     "cell_type": "code",
     "collapsed": false,
     "input": [
      "memos.shape"
     ],
     "language": "python",
     "metadata": {},
     "outputs": [
      {
       "ename": "AttributeError",
       "evalue": "'list' object has no attribute 'shape'",
       "output_type": "pyerr",
       "traceback": [
        "\u001b[1;31m---------------------------------------------------------------------------\u001b[0m\n\u001b[1;31mAttributeError\u001b[0m                            Traceback (most recent call last)",
        "\u001b[1;32m<ipython-input-116-f3e4f7abf197>\u001b[0m in \u001b[0;36m<module>\u001b[1;34m()\u001b[0m\n\u001b[1;32m----> 1\u001b[1;33m \u001b[0mmemos\u001b[0m\u001b[1;33m.\u001b[0m\u001b[0mshape\u001b[0m\u001b[1;33m\u001b[0m\u001b[0m\n\u001b[0m",
        "\u001b[1;31mAttributeError\u001b[0m: 'list' object has no attribute 'shape'"
       ]
      }
     ],
     "prompt_number": 116
    },
    {
     "cell_type": "code",
     "collapsed": false,
     "input": [
      "1+1"
     ],
     "language": "python",
     "metadata": {},
     "outputs": [
      {
       "output_type": "pyout",
       "prompt_number": 64,
       "text": [
        "2"
       ]
      }
     ],
     "prompt_number": 64
    },
    {
     "cell_type": "code",
     "collapsed": false,
     "input": [
      "hstack([b1, b2]).shape"
     ],
     "language": "python",
     "metadata": {},
     "outputs": [
      {
       "output_type": "pyout",
       "prompt_number": 101,
       "text": [
        "(40000, 60)"
       ]
      }
     ],
     "prompt_number": 101
    },
    {
     "cell_type": "code",
     "collapsed": false,
     "input": [
      "a.shape"
     ],
     "language": "python",
     "metadata": {},
     "outputs": [
      {
       "output_type": "pyout",
       "prompt_number": 145,
       "text": [
        "(21000, 2)"
       ]
      }
     ],
     "prompt_number": 145
    },
    {
     "cell_type": "code",
     "collapsed": false,
     "input": [
      "lin = linear_model.LinearRegression()\n",
      "lin.fit(b4[5000:20000,:], a[5000-13:20000-13])"
     ],
     "language": "python",
     "metadata": {},
     "outputs": [
      {
       "output_type": "pyout",
       "prompt_number": 327,
       "text": [
        "LinearRegression(copy_X=True, fit_intercept=True, normalize=False)"
       ]
      }
     ],
     "prompt_number": 327
    },
    {
     "cell_type": "code",
     "collapsed": false,
     "input": [
      "a_ = lin.predict(b4[5000:20000])"
     ],
     "language": "python",
     "metadata": {},
     "outputs": [],
     "prompt_number": 328
    },
    {
     "cell_type": "code",
     "collapsed": false,
     "input": [
      "figure()\n",
      "plot(a[5000-13:20000-13, 1])\n",
      "plot(a_[:,1])\n",
      "xlim(14000, 15000)"
     ],
     "language": "python",
     "metadata": {},
     "outputs": [
      {
       "output_type": "pyout",
       "prompt_number": 329,
       "text": [
        "(14000, 15000)"
       ]
      }
     ],
     "prompt_number": 329
    },
    {
     "cell_type": "code",
     "collapsed": false,
     "input": [
      "s = 0\n",
      "for i in range(5000,20000):\n",
      "    for j in range(2):\n",
      "        s += (a[i-13,j]-a_[i-5000,j])**2\n",
      "print s/30000"
     ],
     "language": "python",
     "metadata": {},
     "outputs": [
      {
       "output_type": "stream",
       "stream": "stdout",
       "text": [
        "0.478818089932\n"
       ]
      }
     ],
     "prompt_number": 331
    },
    {
     "cell_type": "code",
     "collapsed": false,
     "input": [],
     "language": "python",
     "metadata": {},
     "outputs": []
    }
   ],
   "metadata": {}
  }
 ]
}