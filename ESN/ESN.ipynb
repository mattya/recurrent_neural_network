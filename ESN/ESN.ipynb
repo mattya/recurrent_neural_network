{
 "metadata": {
  "name": "ESN"
 },
 "nbformat": 3,
 "nbformat_minor": 0,
 "worksheets": [
  {
   "cells": [
    {
     "cell_type": "code",
     "collapsed": false,
     "input": [
      "from numpy import *\n",
      "from scipy import *"
     ],
     "language": "python",
     "metadata": {},
     "outputs": [],
     "prompt_number": 1
    },
    {
     "cell_type": "code",
     "collapsed": false,
     "input": [
      "T0 = 10000\n",
      "T1 = 30000"
     ],
     "language": "python",
     "metadata": {},
     "outputs": [],
     "prompt_number": 122
    },
    {
     "cell_type": "code",
     "collapsed": false,
     "input": [
      "N = 50\n",
      "alpha = 0.01\n",
      "maxSVD = 0.95"
     ],
     "language": "python",
     "metadata": {},
     "outputs": [],
     "prompt_number": 123
    },
    {
     "cell_type": "code",
     "collapsed": false,
     "input": [
      "def activate_function(x):\n",
      "#    return x\n",
      "    return tanh(x)\n",
      "#    return x if x>0 else 0"
     ],
     "language": "python",
     "metadata": {},
     "outputs": [],
     "prompt_number": 124
    },
    {
     "cell_type": "code",
     "collapsed": false,
     "input": [
      "# generate weight matrix\n",
      "V = zeros((N, N), dtype=float)\n",
      "for i in range(N):\n",
      "    for j in range(N):\n",
      "        V[i,j] = random.uniform(-1, 1) if random.uniform(0, 1)<0.5 else 0\n",
      "u,s,v = linalg.svd(V)\n",
      "print s\n",
      "for i in range(N):\n",
      "    for j in range(N):\n",
      "        V[i,j] *= maxSVD/s[0]\n",
      "u,s,v = linalg.svd(V)\n",
      "print s\n",
      "\n",
      "U = zeros(N, dtype=float)\n",
      "for i in range(N):\n",
      "    U[i] = random.uniform(-1, 1)"
     ],
     "language": "python",
     "metadata": {},
     "outputs": [
      {
       "output_type": "stream",
       "stream": "stdout",
       "text": [
        "[ 5.77330143  5.34572365  5.23708047  4.99025927  4.67286795  4.61641481\n",
        "  4.46505441  4.37504854  4.29762627  4.13225291  3.89273233  3.87205732\n",
        "  3.85883739  3.75931325  3.54158233  3.42674566  3.34592997  3.24340988\n",
        "  3.01696764  2.99634566  2.88375174  2.77157681  2.62997296  2.55901503\n",
        "  2.48013587  2.44050127  2.26462524  2.13579356  1.93069593  1.83540092\n",
        "  1.73899953  1.70291644  1.65006043  1.55888247  1.52202887  1.32853513\n",
        "  1.17857622  1.1089356   0.99143038  0.86696853  0.789986    0.77846889\n",
        "  0.73234056  0.64757279  0.50723838  0.39226505  0.33192093  0.27251173\n",
        "  0.1874836   0.02031353]\n",
        "[ 0.95        0.87964184  0.86176454  0.82114997  0.76892305  0.75963366\n",
        "  0.73472722  0.7199167   0.70717682  0.67996454  0.6405513   0.63714921\n",
        "  0.63497387  0.61859711  0.58276937  0.56387293  0.55057466  0.53370492\n",
        "  0.49644372  0.49305037  0.47452297  0.45606452  0.43276353  0.42108736\n",
        "  0.40810775  0.40158586  0.37264536  0.35144603  0.3176971   0.30201625\n",
        "  0.28615335  0.28021586  0.27151837  0.25651499  0.25045071  0.2186112\n",
        "  0.19393538  0.18247598  0.16314043  0.14266016  0.12999264  0.12809749\n",
        "  0.12050705  0.10655847  0.08346636  0.06454744  0.05461778  0.04484196\n",
        "  0.03085053  0.0033426 ]\n"
       ]
      }
     ],
     "prompt_number": 125
    },
    {
     "cell_type": "code",
     "collapsed": false,
     "input": [
      "# generate output sequence\n",
      "vfunc = vectorize(activate_function, otypes=[float])\n",
      "x = zeros(N, dtype=float)\n",
      "xx = zeros((T0+T1, N), dtype=float)\n",
      "a = loadtxt(\"input.txt\")\n",
      "for i in range(N):\n",
      "    x[i] = random.uniform(-1, 1)\n",
      "for i in range(T0+T1):\n",
      "    x = dot(V, x)\n",
      "    x += alpha*a[i]*U\n",
      "    x = 0.9*x + 0.1*vfunc(x)\n",
      "    xx[i,:] = x[:]"
     ],
     "language": "python",
     "metadata": {},
     "outputs": [],
     "prompt_number": 126
    },
    {
     "cell_type": "code",
     "collapsed": false,
     "input": [
      "savetxt(\"output_lin.txt\", xx)"
     ],
     "language": "python",
     "metadata": {},
     "outputs": [],
     "prompt_number": 127
    },
    {
     "cell_type": "code",
     "collapsed": false,
     "input": [
      "#figure()\n",
      "plot(s)"
     ],
     "language": "python",
     "metadata": {},
     "outputs": [
      {
       "output_type": "pyout",
       "prompt_number": 56,
       "text": [
        "[<matplotlib.lines.Line2D at 0xaf80b0c>]"
       ]
      }
     ],
     "prompt_number": 56
    },
    {
     "cell_type": "code",
     "collapsed": false,
     "input": [],
     "language": "python",
     "metadata": {},
     "outputs": []
    },
    {
     "cell_type": "code",
     "collapsed": false,
     "input": [
      "# two layer\n",
      "N = 50\n",
      "alpha = 0.01\n",
      "maxSVD1 = 0.9\n",
      "maxSVD2 = 0.9\n",
      "maxSVD12 = 0.5"
     ],
     "language": "python",
     "metadata": {},
     "outputs": [],
     "prompt_number": 118
    },
    {
     "cell_type": "code",
     "collapsed": false,
     "input": [
      "# generate weight matrix\n",
      "V1 = zeros((N, N), dtype=float)\n",
      "for i in range(N):\n",
      "    for j in range(N):\n",
      "        V1[i,j] = random.uniform(-1, 1) if random.uniform(0, 1)<0.1 else 0\n",
      "u,s,v = linalg.svd(V1)\n",
      "for i in range(N):\n",
      "    for j in range(N):\n",
      "        V1[i,j] *= maxSVD1/s[0]\n",
      "u,s,v = linalg.svd(V1)\n",
      "print s\n",
      "\n",
      "U1 = zeros(N, dtype=float)\n",
      "for i in range(N):\n",
      "    U1[i] = random.uniform(-1, 1)/sqrt(N)\n",
      "    \n",
      "    \n",
      "V2 = zeros((N, N), dtype=float)\n",
      "for i in range(N):\n",
      "    for j in range(N):\n",
      "        V2[i,j] = random.uniform(-1, 1) if random.uniform(0, 1)<0.1 else 0\n",
      "u,s,v = linalg.svd(V2)\n",
      "for i in range(N):\n",
      "    for j in range(N):\n",
      "        V2[i,j] *= maxSVD2/s[0]\n",
      "u,s,v = linalg.svd(V2)\n",
      "print s\n",
      "\n",
      "U2 = zeros(N, dtype=float)\n",
      "for i in range(N):\n",
      "    U2[i] = random.uniform(-1, 1)\n",
      "    \n",
      "    \n",
      "V12 = zeros((N, N), dtype=float)\n",
      "for i in range(N):\n",
      "    for j in range(N):\n",
      "        V12[i,j] = random.uniform(-1, 1) if random.uniform(0, 1)<0.1 else 0\n",
      "u,s,v = linalg.svd(V12)\n",
      "for i in range(N):\n",
      "    for j in range(N):\n",
      "        V12[i,j] *= maxSVD12/s[0]\n",
      "u,s,v = linalg.svd(V12)\n",
      "print s"
     ],
     "language": "python",
     "metadata": {},
     "outputs": [
      {
       "output_type": "stream",
       "stream": "stdout",
       "text": [
        "[  9.00000000e-01   8.16505662e-01   7.92571653e-01   7.25868423e-01\n",
        "   7.03287687e-01   6.86777630e-01   6.54150179e-01   6.07714456e-01\n",
        "   6.01733821e-01   5.43645437e-01   5.32992387e-01   5.06821629e-01\n",
        "   4.91756303e-01   4.82431515e-01   4.64490930e-01   4.46052069e-01\n",
        "   4.38027986e-01   4.26049750e-01   4.10688176e-01   3.98973819e-01\n",
        "   3.69368965e-01   3.53149724e-01   3.37748716e-01   3.25274213e-01\n",
        "   3.15255296e-01   3.00179170e-01   2.79639263e-01   2.66345142e-01\n",
        "   2.62144318e-01   2.48898550e-01   2.44024030e-01   2.14912480e-01\n",
        "   2.10069906e-01   1.87873358e-01   1.72925912e-01   1.50549332e-01\n",
        "   1.31037080e-01   1.19735941e-01   1.00147195e-01   9.01227481e-02\n",
        "   7.98826157e-02   7.09194377e-02   6.11576747e-02   4.39825150e-02\n",
        "   3.61475832e-02   2.95509880e-02   1.80026486e-02   1.04510560e-02\n",
        "   7.45117857e-03   1.49016380e-05]\n",
        "[  9.00000000e-01   7.81863525e-01   7.69180844e-01   7.25846344e-01\n",
        "   7.03292106e-01   6.47580305e-01   6.29908051e-01   6.01802535e-01\n",
        "   5.92063506e-01   5.60278608e-01   5.40376327e-01   5.30916258e-01\n",
        "   5.13044427e-01   4.78960101e-01   4.70118468e-01   4.51533611e-01\n",
        "   4.23640963e-01   4.10327009e-01   3.80177500e-01   3.61180696e-01\n",
        "   3.44055911e-01   3.30210736e-01   3.12071890e-01   2.88547775e-01\n",
        "   2.76235963e-01   2.70010553e-01   2.51544478e-01   2.47576421e-01\n",
        "   2.44050450e-01   2.23857525e-01   2.10422466e-01   1.97951588e-01\n",
        "   1.91351316e-01   1.77231904e-01   1.58640561e-01   1.38682167e-01\n",
        "   1.26617386e-01   1.21480532e-01   1.09406294e-01   9.64386798e-02\n",
        "   8.02320045e-02   7.87105282e-02   6.19540482e-02   5.18273162e-02\n",
        "   4.77364027e-02   4.07486212e-02   3.23243010e-02   1.21413558e-02\n",
        "   5.32770176e-03   5.40241012e-17]\n",
        "[ 0.5         0.47530028  0.46863488  0.43630429  0.43179854  0.4226391\n",
        "  0.39707339  0.37806602  0.37499563  0.36549874  0.35291684  0.34070692\n",
        "  0.32739173  0.31576874  0.30077536  0.2991066   0.28724503  0.26538896\n",
        "  0.26028359  0.23929754  0.23330658  0.22376041  0.2083898   0.20573904\n",
        "  0.18638937  0.18000589  0.16916875  0.15115338  0.14546528  0.1367754\n",
        "  0.13313537  0.12349063  0.11629924  0.1089926   0.1006672   0.08742548\n",
        "  0.08067806  0.07241203  0.06158315  0.05608685  0.04949667  0.04127563\n",
        "  0.03152569  0.02608552  0.02175508  0.01548531  0.01444345  0.00924154\n",
        "  0.00098057  0.00065398]\n"
       ]
      }
     ],
     "prompt_number": 119
    },
    {
     "cell_type": "code",
     "collapsed": false,
     "input": [
      "# generate output sequence\n",
      "vfunc = vectorize(activate_function, otypes=[float])\n",
      "x1 = zeros(N, dtype=float)\n",
      "x2 = zeros(N, dtype=float)\n",
      "xx1 = zeros((T0+T1, N), dtype=float)\n",
      "xx2 = zeros((T0+T1, N), dtype=float)\n",
      "a = loadtxt(\"input.txt\")\n",
      "for i in range(N):\n",
      "    x1[i] = random.uniform(-1, 1)\n",
      "    x2[i] = random.uniform(-1, 1)\n",
      "for i in range(T0+T1):\n",
      "    nx1 = dot(V1, x1) + dot(transpose(V12), x2)\n",
      "    nx1 += alpha*a[i]*U1\n",
      "    x1 = 0.7*x1 + 0.3*vfunc(nx1)\n",
      "    nx2 = dot(V2, x2) + dot(V12, x1)\n",
      "    x2 = 0.7*x2 + 0.3*vfunc(nx2)\n",
      "    xx1[i,:] = x1[:]\n",
      "    xx2[i,:] = x2[:]"
     ],
     "language": "python",
     "metadata": {},
     "outputs": [],
     "prompt_number": 120
    },
    {
     "cell_type": "code",
     "collapsed": false,
     "input": [
      "savetxt(\"output_1.txt\", xx1)\n",
      "savetxt(\"output_2.txt\", xx2)"
     ],
     "language": "python",
     "metadata": {},
     "outputs": [],
     "prompt_number": 121
    },
    {
     "cell_type": "code",
     "collapsed": false,
     "input": [
      "clf()\n",
      "plot(xx1[10000:11000, :5])\n",
      "#plot(xx2[10000:11000, :5])\n",
      "ylim(-0.01, 0.01)\n",
      "#xlim(10000, 11000)"
     ],
     "language": "python",
     "metadata": {},
     "outputs": [
      {
       "output_type": "pyout",
       "prompt_number": 115,
       "text": [
        "(-0.01, 0.01)"
       ]
      }
     ],
     "prompt_number": 115
    },
    {
     "cell_type": "code",
     "collapsed": false,
     "input": [
      "# generate output sequence multiple input\n",
      "\n",
      "D = 10\n",
      "\n",
      "vfunc = vectorize(activate_function, otypes=[float])\n",
      "x1 = zeros(N, dtype=float)\n",
      "x2 = zeros(N, dtype=float)\n",
      "xx1 = zeros((T0+T1, N), dtype=float)\n",
      "xx2 = zeros((T0+T1, N), dtype=float)\n",
      "a = loadtxt(\"input.txt\")\n",
      "for i in range(N):\n",
      "    x1[i] = random.uniform(-1, 1)\n",
      "    x2[i] = random.uniform(-1, 1)\n",
      "for i in range(T0+T1):\n",
      "    nx1 = dot(V1, x1) + dot(transpose(V12), x2)\n",
      "    for j in range(D):\n",
      "        nx1[j] += alpha*a[i]\n",
      "    nx2 = dot(V2, x2) + dot(V12, x1)\n",
      "    x1 = 0.0*x2 + 0.1*vfunc(nx1)\n",
      "    x2 = 0.9*x2 + 0.1*vfunc(nx2)\n",
      "    xx1[i,:] = x1[:]\n",
      "    xx2[i,:] = x2[:]"
     ],
     "language": "python",
     "metadata": {},
     "outputs": [],
     "prompt_number": 78
    },
    {
     "cell_type": "code",
     "collapsed": false,
     "input": [
      "savetxt(\"output_1.txt\", xx1)\n",
      "savetxt(\"output_2.txt\", xx2)"
     ],
     "language": "python",
     "metadata": {},
     "outputs": [],
     "prompt_number": 79
    },
    {
     "cell_type": "code",
     "collapsed": false,
     "input": [
      "clf()\n",
      "plot(a)\n",
      "xlim(0, 100)"
     ],
     "language": "python",
     "metadata": {},
     "outputs": [
      {
       "output_type": "pyout",
       "prompt_number": 88,
       "text": [
        "(0, 100)"
       ]
      }
     ],
     "prompt_number": 88
    },
    {
     "cell_type": "code",
     "collapsed": false,
     "input": [],
     "language": "python",
     "metadata": {},
     "outputs": []
    }
   ],
   "metadata": {}
  }
 ]
}