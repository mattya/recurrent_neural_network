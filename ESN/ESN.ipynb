{
 "metadata": {
  "name": "ESN"
 },
 "nbformat": 3,
 "nbformat_minor": 0,
 "worksheets": [
  {
   "cells": [
    {
     "cell_type": "code",
     "collapsed": false,
     "input": [
      "from numpy import *\n",
      "from scipy import *"
     ],
     "language": "python",
     "metadata": {},
     "outputs": [],
     "prompt_number": 7
    },
    {
     "cell_type": "code",
     "collapsed": false,
     "input": [
      "T0 = 100000\n",
      "T1 = 100000"
     ],
     "language": "python",
     "metadata": {},
     "outputs": [],
     "prompt_number": 13
    },
    {
     "cell_type": "code",
     "collapsed": false,
     "input": [
      "N = 50\n",
      "alpha = 0.1\n",
      "maxSVD = 0.95"
     ],
     "language": "python",
     "metadata": {},
     "outputs": [],
     "prompt_number": 57
    },
    {
     "cell_type": "code",
     "collapsed": false,
     "input": [
      "def activate_function(x):\n",
      "    return tanh(x)\n",
      "#    return x if x>0 else 0"
     ],
     "language": "python",
     "metadata": {},
     "outputs": [],
     "prompt_number": 47
    },
    {
     "cell_type": "code",
     "collapsed": false,
     "input": [
      "# generate weight matrix\n",
      "V = zeros((N, N), dtype=float)\n",
      "for i in range(N):\n",
      "    for j in range(N):\n",
      "        V[i,j] = random.uniform(-1, 1) if random.uniform(0, 1)<0.1 else 0\n",
      "u,s,v = linalg.svd(V)\n",
      "print s\n",
      "for i in range(N):\n",
      "    for j in range(N):\n",
      "        V[i,j] *= maxSVD/s[0]\n",
      "u,s,v = linalg.svd(V)\n",
      "print s\n",
      "\n",
      "U = zeros(N, dtype=float)\n",
      "for i in range(N):\n",
      "    U[i] = random.uniform(-1, 1)"
     ],
     "language": "python",
     "metadata": {},
     "outputs": [
      {
       "output_type": "stream",
       "stream": "stdout",
       "text": [
        "[ 2.62250905  2.46130848  2.40316071  2.22460812  2.10750029  2.04819289\n",
        "  1.98402541  1.88184964  1.85096215  1.78973734  1.75207803  1.64438609\n",
        "  1.56067361  1.50600699  1.43073509  1.37195311  1.3439785   1.322385\n",
        "  1.27813429  1.2299054   1.13134966  1.1158452   1.0868856   1.03247139\n",
        "  0.93928944  0.92117562  0.88057565  0.78592698  0.76761718  0.66317377\n",
        "  0.6557382   0.58901355  0.56770398  0.51986199  0.48945773  0.44364089\n",
        "  0.37893628  0.36823126  0.32861861  0.24090669  0.2143113   0.20746223\n",
        "  0.16626173  0.13679773  0.10769313  0.09624502  0.08041971  0.0599576\n",
        "  0.01570874  0.0052372 ]\n",
        "[ 0.95        0.89160533  0.87054139  0.80586098  0.76343884  0.74195483\n",
        "  0.71871025  0.68169723  0.67050828  0.64832969  0.63468766  0.59567641\n",
        "  0.56535169  0.54554879  0.51828166  0.49698797  0.48685421  0.479032\n",
        "  0.46300224  0.4455314   0.40982973  0.40421326  0.39372269  0.37401123\n",
        "  0.3402562   0.3336945   0.31898722  0.28470088  0.27806818  0.24023371\n",
        "  0.23754019  0.21336928  0.20564992  0.18831923  0.17730534  0.16070825\n",
        "  0.1372691   0.13339123  0.1190416   0.08726809  0.07763395  0.07515288\n",
        "  0.06022806  0.04955477  0.03901168  0.03486462  0.02913192  0.02171955\n",
        "  0.00569047  0.00189717]\n"
       ]
      }
     ],
     "prompt_number": 55
    },
    {
     "cell_type": "code",
     "collapsed": false,
     "input": [
      "# generate output sequence\n",
      "x = zeros(N, dtype=float)\n",
      "xx = zeros((T0+T1, N), dtype=float)\n",
      "a = loadtxt(\"input.txt\")\n",
      "for i in range(N):\n",
      "    x[i] = random.uniform(-1, 1)\n",
      "for i in range(T0+T1):\n",
      "    x = dot(V, x)\n",
      "    x += alpha*a[i]*U\n",
      "    x = map(activate_function, x)\n",
      "    xx[i,:] = x[:]"
     ],
     "language": "python",
     "metadata": {},
     "outputs": [],
     "prompt_number": 58
    },
    {
     "cell_type": "code",
     "collapsed": false,
     "input": [
      "savetxt(\"output.txt\", xx)"
     ],
     "language": "python",
     "metadata": {},
     "outputs": [],
     "prompt_number": 59
    },
    {
     "cell_type": "code",
     "collapsed": false,
     "input": [
      "#figure()\n",
      "plot(s)"
     ],
     "language": "python",
     "metadata": {},
     "outputs": [
      {
       "output_type": "pyout",
       "prompt_number": 56,
       "text": [
        "[<matplotlib.lines.Line2D at 0xaf80b0c>]"
       ]
      }
     ],
     "prompt_number": 56
    },
    {
     "cell_type": "code",
     "collapsed": false,
     "input": [],
     "language": "python",
     "metadata": {},
     "outputs": []
    }
   ],
   "metadata": {}
  }
 ]
}